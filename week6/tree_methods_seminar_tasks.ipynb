{
 "cells": [
  {
   "cell_type": "markdown",
   "metadata": {},
   "source": [
    "# Seminar - Bank Marketing Dataset\n",
    "\n",
    "During this seminar we will be analysing [this dataset](https://archive.ics.uci.edu/dataset/222/bank+marketing).\n",
    "\n",
    "The goal is to fit two models - a very simple decision tree and a random forest, compare those models via cross validation and then evaluate the best model on a holdout set.\n"
   ]
  },
  {
   "cell_type": "code",
   "execution_count": 1,
   "metadata": {},
   "outputs": [],
   "source": [
    "import pandas as pd\n",
    "import numpy as np\n",
    "import zipfile\n",
    "import urllib\n",
    "import seaborn as sns\n",
    "import matplotlib.pyplot as plt\n",
    "from sklearn import tree\n",
    "import warnings\n",
    "\n",
    "warnings.filterwarnings(\"ignore\")"
   ]
  },
  {
   "cell_type": "code",
   "execution_count": 2,
   "metadata": {},
   "outputs": [],
   "source": [
    "def plot_tree(model, features):\n",
    "    plt.figure(figsize=(15, 10))\n",
    "    tree.plot_tree(\n",
    "        model,\n",
    "        feature_names=features,\n",
    "        proportion=True,\n",
    "        precision=2,\n",
    "        filled=True,\n",
    "    )\n",
    "    plt.show()"
   ]
  },
  {
   "cell_type": "code",
   "execution_count": 3,
   "metadata": {},
   "outputs": [],
   "source": [
    "url = \"https://archive.ics.uci.edu/static/public/222/bank+marketing.zip\"\n",
    "urllib.request.urlretrieve(url, \"bank_marketing.zip\")\n",
    "\n",
    "with zipfile.ZipFile(\"bank_marketing.zip\", \"r\") as zip_ref:\n",
    "    zip_ref.extractall(\"bank_marketing\")\n",
    "\n",
    "with zipfile.ZipFile(\"bank_marketing/bank.zip\", \"r\") as zip_ref:\n",
    "    zip_ref.extractall(\"bank_marketing\")"
   ]
  },
  {
   "cell_type": "code",
   "execution_count": 4,
   "metadata": {},
   "outputs": [],
   "source": [
    "df = pd.read_csv(\"bank_marketing/bank-full.csv\", sep=\";\")"
   ]
  },
  {
   "cell_type": "code",
   "execution_count": 5,
   "metadata": {},
   "outputs": [],
   "source": [
    "df = df[[\"balance\", \"housing\", \"loan\", \"job\", \"age\", \"campaign\", \"previous\", \"y\"]]"
   ]
  },
  {
   "cell_type": "code",
   "execution_count": 6,
   "metadata": {},
   "outputs": [
    {
     "name": "stdout",
     "output_type": "stream",
     "text": [
      "<class 'pandas.core.frame.DataFrame'>\n",
      "RangeIndex: 45211 entries, 0 to 45210\n",
      "Data columns (total 8 columns):\n",
      " #   Column    Non-Null Count  Dtype \n",
      "---  ------    --------------  ----- \n",
      " 0   balance   45211 non-null  int64 \n",
      " 1   housing   45211 non-null  object\n",
      " 2   loan      45211 non-null  object\n",
      " 3   job       45211 non-null  object\n",
      " 4   age       45211 non-null  int64 \n",
      " 5   campaign  45211 non-null  int64 \n",
      " 6   previous  45211 non-null  int64 \n",
      " 7   y         45211 non-null  object\n",
      "dtypes: int64(4), object(4)\n",
      "memory usage: 2.8+ MB\n"
     ]
    }
   ],
   "source": [
    "df.info()"
   ]
  },
  {
   "cell_type": "code",
   "execution_count": 7,
   "metadata": {},
   "outputs": [],
   "source": [
    "df[\"y\"] = df[\"y\"].map({\"yes\": 1, \"no\": 0})"
   ]
  },
  {
   "cell_type": "code",
   "execution_count": 8,
   "metadata": {},
   "outputs": [
    {
     "data": {
      "text/plain": [
       "y\n",
       "0    39922\n",
       "1     5289\n",
       "Name: count, dtype: int64"
      ]
     },
     "execution_count": 8,
     "metadata": {},
     "output_type": "execute_result"
    }
   ],
   "source": [
    "df.value_counts(\"y\")"
   ]
  },
  {
   "cell_type": "code",
   "execution_count": 9,
   "metadata": {},
   "outputs": [],
   "source": [
    "from sklearn.model_selection import train_test_split\n",
    "\n",
    "df_train, df_test = train_test_split(df, test_size=0.2, random_state=42)"
   ]
  },
  {
   "cell_type": "markdown",
   "metadata": {},
   "source": [
    "### Task 1: plotting\n",
    "\n",
    "- Create plots showing the distribution of `balance` and `age` by `y`.\n",
    "- Show average of `y` (share of cases where y=1) by `job`.\n",
    "\n"
   ]
  },
  {
   "cell_type": "code",
   "execution_count": null,
   "metadata": {},
   "outputs": [],
   "source": []
  },
  {
   "cell_type": "markdown",
   "metadata": {},
   "source": [
    "### Task 2: Decision tree\n",
    "\n",
    "- Fit a decision tree model using `balance` and `age` features. Set `max_depth` to 2.\n",
    "- Evaluate the model using cross-validation (`cross_val_score`), once using \"accuracy\" and once using \"roc_auc\" as the metric.\n",
    "- Visualize the decision tree using `plot_tree` function.\n"
   ]
  },
  {
   "cell_type": "code",
   "execution_count": null,
   "metadata": {},
   "outputs": [],
   "source": []
  },
  {
   "cell_type": "markdown",
   "metadata": {},
   "source": [
    "### Task 3: Random forest\n",
    "\n",
    "- Fit a random forest with instead of a single decision tree, using the two features from above.\n",
    "- Find optimal parameters for `max_depth` and `class_weight`. Show the performance on the model using the best hyperparameters. For `max_depth` use a range of 1 to 20 (inclusive)."
   ]
  },
  {
   "cell_type": "code",
   "execution_count": null,
   "metadata": {},
   "outputs": [],
   "source": []
  },
  {
   "cell_type": "markdown",
   "metadata": {},
   "source": [
    "### Task 4: Random forest, all features\n",
    "\n",
    "- Add all features to the model.\n",
    "- Tune `max_depth`, `class_weight` and `min_samples_split` hyperparameters. For `max_depth` use a range of 10 to 20 (inclusive), for `min_samples_split` use a range of 2 to 10 (inclusive).\n",
    "\n",
    "- Compare the first model (decision tree) to this model.\n",
    "\n"
   ]
  },
  {
   "cell_type": "code",
   "execution_count": null,
   "metadata": {},
   "outputs": [],
   "source": []
  },
  {
   "cell_type": "markdown",
   "metadata": {},
   "source": [
    "### Task 5: Report the performance of the best model\n",
    "\n",
    "- Show how precision, recall and F1 score change as you change the threshold\n",
    "- On a separate plot, show how the number of positive predictions (the number of cases where model prediction exceeds the threshold) changes as a function of the threshold\n",
    "\n",
    "Interpret the plots. Try to pretend that you're working in a bank and are creating this model for the marketing team. What would you communicate to the stakeholders in the team?\n"
   ]
  },
  {
   "cell_type": "code",
   "execution_count": null,
   "metadata": {},
   "outputs": [],
   "source": []
  }
 ],
 "metadata": {
  "kernelspec": {
   "display_name": ".venv",
   "language": "python",
   "name": "python3"
  },
  "language_info": {
   "codemirror_mode": {
    "name": "ipython",
    "version": 3
   },
   "file_extension": ".py",
   "mimetype": "text/x-python",
   "name": "python",
   "nbconvert_exporter": "python",
   "pygments_lexer": "ipython3",
   "version": "3.11.8"
  }
 },
 "nbformat": 4,
 "nbformat_minor": 2
}
