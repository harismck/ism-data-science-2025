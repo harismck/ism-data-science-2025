{
 "cells": [
  {
   "cell_type": "code",
   "execution_count": 1,
   "metadata": {},
   "outputs": [
    {
     "name": "stderr",
     "output_type": "stream",
     "text": [
      "Retrieving folder contents\n"
     ]
    },
    {
     "name": "stdout",
     "output_type": "stream",
     "text": [
      "Processing file 1Z57U_W7nHEG3d1wSlIje7-w04IRWem5z ag_news.csv\n"
     ]
    },
    {
     "name": "stderr",
     "output_type": "stream",
     "text": [
      "Retrieving folder contents completed\n",
      "Building directory structure\n",
      "Building directory structure completed\n",
      "Downloading...\n",
      "From (original): https://drive.google.com/uc?id=1Z57U_W7nHEG3d1wSlIje7-w04IRWem5z\n",
      "From (redirected): https://drive.google.com/uc?id=1Z57U_W7nHEG3d1wSlIje7-w04IRWem5z&confirm=t&uuid=4b6c9ca6-a29a-448f-a7d9-049971b0194f\n",
      "To: /Users/haroldasmackevicius/personal/ism-data-science-2025/news_dataset/ag_news.csv\n",
      "100%|██████████| 126M/126M [00:05<00:00, 22.1MB/s] \n",
      "Download completed\n"
     ]
    },
    {
     "data": {
      "text/plain": [
       "['news_dataset/ag_news.csv']"
      ]
     },
     "execution_count": 1,
     "metadata": {},
     "output_type": "execute_result"
    }
   ],
   "source": [
    "###\n",
    "# Create a copy of this notebook, then run this cell.\n",
    "# After downloading the folder, delete this cell.\n",
    "###\n",
    "import gdown\n",
    "\n",
    "folder_url = \"https://drive.google.com/drive/folders/1FYq3bJS8RA92eLAh1CW85GZDFJgd0HpI\"\n",
    "gdown.download_folder(url=folder_url, output=\"news_dataset\", quiet=False)\n"
   ]
  },
  {
   "cell_type": "code",
   "execution_count": 2,
   "metadata": {},
   "outputs": [],
   "source": [
    "import pandas as pd\n",
    "\n",
    "df = pd.read_csv(\"news_dataset/ag_news.csv\")"
   ]
  },
  {
   "cell_type": "code",
   "execution_count": 4,
   "metadata": {},
   "outputs": [
    {
     "data": {
      "text/html": [
       "<div>\n",
       "<style scoped>\n",
       "    .dataframe tbody tr th:only-of-type {\n",
       "        vertical-align: middle;\n",
       "    }\n",
       "\n",
       "    .dataframe tbody tr th {\n",
       "        vertical-align: top;\n",
       "    }\n",
       "\n",
       "    .dataframe thead th {\n",
       "        text-align: right;\n",
       "    }\n",
       "</style>\n",
       "<table border=\"1\" class=\"dataframe\">\n",
       "  <thead>\n",
       "    <tr style=\"text-align: right;\">\n",
       "      <th></th>\n",
       "      <th>category</th>\n",
       "      <th>title</th>\n",
       "      <th>title_embedding</th>\n",
       "    </tr>\n",
       "  </thead>\n",
       "  <tbody>\n",
       "    <tr>\n",
       "      <th>15944</th>\n",
       "      <td>sci/tech</td>\n",
       "      <td>Cisco, Microsoft team up on network access sec...</td>\n",
       "      <td>[-7.02654943e-02  6.11762516e-02  5.30145876e-...</td>\n",
       "    </tr>\n",
       "    <tr>\n",
       "      <th>14019</th>\n",
       "      <td>business</td>\n",
       "      <td>Office Depot ousts chairman</td>\n",
       "      <td>[-7.64197335e-02  2.42059752e-02  2.60048453e-...</td>\n",
       "    </tr>\n",
       "    <tr>\n",
       "      <th>11189</th>\n",
       "      <td>business</td>\n",
       "      <td>Shell, Exxon Mobil Sell Gas Pipelines</td>\n",
       "      <td>[ 1.56207765e-02  7.74254370e-03  3.65569070e-...</td>\n",
       "    </tr>\n",
       "    <tr>\n",
       "      <th>4601</th>\n",
       "      <td>world</td>\n",
       "      <td>Corruption case casts shadow on Mbeki  #39;hei...</td>\n",
       "      <td>[-9.33810771e-02  6.22245669e-02  5.39146438e-...</td>\n",
       "    </tr>\n",
       "    <tr>\n",
       "      <th>4382</th>\n",
       "      <td>world</td>\n",
       "      <td>Hong Kong pro-Beijing politicians accuse oppon...</td>\n",
       "      <td>[-4.16349666e-03  9.42624435e-02  4.36015762e-...</td>\n",
       "    </tr>\n",
       "    <tr>\n",
       "      <th>15026</th>\n",
       "      <td>sci/tech</td>\n",
       "      <td>Microsoft to Launch New Search Engine (PC World)</td>\n",
       "      <td>[ 1.92383211e-02 -7.85240754e-02  1.82552524e-...</td>\n",
       "    </tr>\n",
       "    <tr>\n",
       "      <th>1121</th>\n",
       "      <td>world</td>\n",
       "      <td>Three More Bodies Found in Iraq #39;s Restive ...</td>\n",
       "      <td>[ 6.31183684e-02  1.56865511e-02  1.95968803e-...</td>\n",
       "    </tr>\n",
       "    <tr>\n",
       "      <th>14364</th>\n",
       "      <td>business</td>\n",
       "      <td>Fan Pier #39;s LNR Property to be acquired for...</td>\n",
       "      <td>[-7.37755885e-03 -2.43856125e-02  2.65196245e-...</td>\n",
       "    </tr>\n",
       "    <tr>\n",
       "      <th>18393</th>\n",
       "      <td>sci/tech</td>\n",
       "      <td>Cyper Security Alliance Urges Federal Action</td>\n",
       "      <td>[-3.30159776e-02  7.04215001e-03  2.39964062e-...</td>\n",
       "    </tr>\n",
       "    <tr>\n",
       "      <th>19819</th>\n",
       "      <td>sci/tech</td>\n",
       "      <td>New Windows Patch Proves Tricky</td>\n",
       "      <td>[-5.71959093e-02  1.85286738e-02  3.92186567e-...</td>\n",
       "    </tr>\n",
       "  </tbody>\n",
       "</table>\n",
       "</div>"
      ],
      "text/plain": [
       "       category                                              title  \\\n",
       "15944  sci/tech  Cisco, Microsoft team up on network access sec...   \n",
       "14019  business                        Office Depot ousts chairman   \n",
       "11189  business              Shell, Exxon Mobil Sell Gas Pipelines   \n",
       "4601      world  Corruption case casts shadow on Mbeki  #39;hei...   \n",
       "4382      world  Hong Kong pro-Beijing politicians accuse oppon...   \n",
       "15026  sci/tech   Microsoft to Launch New Search Engine (PC World)   \n",
       "1121      world  Three More Bodies Found in Iraq #39;s Restive ...   \n",
       "14364  business  Fan Pier #39;s LNR Property to be acquired for...   \n",
       "18393  sci/tech       Cyper Security Alliance Urges Federal Action   \n",
       "19819  sci/tech                    New Windows Patch Proves Tricky   \n",
       "\n",
       "                                         title_embedding  \n",
       "15944  [-7.02654943e-02  6.11762516e-02  5.30145876e-...  \n",
       "14019  [-7.64197335e-02  2.42059752e-02  2.60048453e-...  \n",
       "11189  [ 1.56207765e-02  7.74254370e-03  3.65569070e-...  \n",
       "4601   [-9.33810771e-02  6.22245669e-02  5.39146438e-...  \n",
       "4382   [-4.16349666e-03  9.42624435e-02  4.36015762e-...  \n",
       "15026  [ 1.92383211e-02 -7.85240754e-02  1.82552524e-...  \n",
       "1121   [ 6.31183684e-02  1.56865511e-02  1.95968803e-...  \n",
       "14364  [-7.37755885e-03 -2.43856125e-02  2.65196245e-...  \n",
       "18393  [-3.30159776e-02  7.04215001e-03  2.39964062e-...  \n",
       "19819  [-5.71959093e-02  1.85286738e-02  3.92186567e-...  "
      ]
     },
     "execution_count": 4,
     "metadata": {},
     "output_type": "execute_result"
    }
   ],
   "source": [
    "df.sample(10)"
   ]
  },
  {
   "cell_type": "code",
   "execution_count": 6,
   "metadata": {},
   "outputs": [],
   "source": [
    "embeddings = df[\"title_embedding\"].tolist()"
   ]
  },
  {
   "cell_type": "code",
   "execution_count": null,
   "metadata": {},
   "outputs": [],
   "source": []
  }
 ],
 "metadata": {
  "kernelspec": {
   "display_name": ".venv",
   "language": "python",
   "name": "python3"
  },
  "language_info": {
   "codemirror_mode": {
    "name": "ipython",
    "version": 3
   },
   "file_extension": ".py",
   "mimetype": "text/x-python",
   "name": "python",
   "nbconvert_exporter": "python",
   "pygments_lexer": "ipython3",
   "version": "3.12.9"
  }
 },
 "nbformat": 4,
 "nbformat_minor": 2
}
