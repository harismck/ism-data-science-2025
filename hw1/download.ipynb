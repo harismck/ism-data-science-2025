{
 "cells": [
  {
   "cell_type": "code",
   "execution_count": 1,
   "metadata": {},
   "outputs": [
    {
     "name": "stderr",
     "output_type": "stream",
     "text": [
      "Retrieving folder contents\n"
     ]
    },
    {
     "name": "stdout",
     "output_type": "stream",
     "text": [
      "Processing file 1fC-hUj92qSHWg_z6xGGBEVlw2Rae_y_L applications.parquet\n",
      "Processing file 16MLpxuHw2Ld0u0vaxENiJrXbamaHawe8 docs.md\n",
      "Processing file 1_LrNEI9UoWj3ijnybmuWTlMEj2BlQLyi profiles.parquet\n",
      "Processing file 1o6dWLYM_HvVEPu68g90WkkV9IuH93l9R programs.parquet\n"
     ]
    },
    {
     "name": "stderr",
     "output_type": "stream",
     "text": [
      "Retrieving folder contents completed\n",
      "Building directory structure\n",
      "Building directory structure completed\n",
      "Downloading...\n",
      "From: https://drive.google.com/uc?id=1fC-hUj92qSHWg_z6xGGBEVlw2Rae_y_L\n",
      "To: /Users/haroldas.mackevicius/personal/ism-data-science-2025/admissions/applications.parquet\n",
      "100%|██████████| 2.81M/2.81M [00:00<00:00, 8.53MB/s]\n",
      "Downloading...\n",
      "From: https://drive.google.com/uc?id=16MLpxuHw2Ld0u0vaxENiJrXbamaHawe8\n",
      "To: /Users/haroldas.mackevicius/personal/ism-data-science-2025/admissions/docs.md\n",
      "100%|██████████| 5.54k/5.54k [00:00<00:00, 4.41MB/s]\n",
      "Downloading...\n",
      "From: https://drive.google.com/uc?id=1_LrNEI9UoWj3ijnybmuWTlMEj2BlQLyi\n",
      "To: /Users/haroldas.mackevicius/personal/ism-data-science-2025/admissions/profiles.parquet\n",
      "100%|██████████| 417k/417k [00:00<00:00, 4.90MB/s]\n",
      "Downloading...\n",
      "From: https://drive.google.com/uc?id=1o6dWLYM_HvVEPu68g90WkkV9IuH93l9R\n",
      "To: /Users/haroldas.mackevicius/personal/ism-data-science-2025/admissions/programs.parquet\n",
      "100%|██████████| 45.5k/45.5k [00:00<00:00, 1.86MB/s]\n",
      "Download completed\n"
     ]
    },
    {
     "data": {
      "text/plain": [
       "['admissions/applications.parquet',\n",
       " 'admissions/docs.md',\n",
       " 'admissions/profiles.parquet',\n",
       " 'admissions/programs.parquet']"
      ]
     },
     "execution_count": 1,
     "metadata": {},
     "output_type": "execute_result"
    }
   ],
   "source": [
    "###\n",
    "# Create a copy of this notebook, then run this cell.\n",
    "# After downloading the folder, delete this cell.\n",
    "###\n",
    "import gdown\n",
    "\n",
    "folder_url = \"https://drive.google.com/drive/folders/1zJFPiOD4HcKaVwY0ZVvfS1v8sN6f7jJ4\"\n",
    "gdown.download_folder(url=folder_url, output=\"admissions\", quiet=False)\n"
   ]
  }
 ],
 "metadata": {
  "kernelspec": {
   "display_name": ".venv",
   "language": "python",
   "name": "python3"
  },
  "language_info": {
   "codemirror_mode": {
    "name": "ipython",
    "version": 3
   },
   "file_extension": ".py",
   "mimetype": "text/x-python",
   "name": "python",
   "nbconvert_exporter": "python",
   "pygments_lexer": "ipython3",
   "version": "3.11.8"
  }
 },
 "nbformat": 4,
 "nbformat_minor": 2
}
