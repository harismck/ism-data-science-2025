{
 "cells": [
  {
   "cell_type": "markdown",
   "metadata": {},
   "source": [
    "# Week 3 - Seminar Tasks\n",
    "\n",
    "## Agenda\n",
    "- 7 tasks, 10-15 minutes each. 1 bonus task.\n",
    "- Every 10-15 minutes I will reveal a solution to one of the tasks.\n",
    "- Ask questions at any time.\n",
    "- You don't have to wait for me to reveal the solution, just go through the notebook at your pace.\n",
    "- Use scikit-learn for all modelling.\n",
    "\n",
    "## Goals\n",
    "- Practice modelling with scikit-learn\n",
    "- Learn about overfitting and underfitting"
   ]
  },
  {
   "cell_type": "code",
   "execution_count": 11,
   "metadata": {},
   "outputs": [],
   "source": [
    "import pandas as pd\n",
    "import seaborn as sns\n",
    "from sklearn.model_selection import train_test_split\n",
    "import matplotlib.pyplot as plt\n",
    "\n",
    "# This prevents pandas from showing weird warnings\n",
    "pd.options.mode.chained_assignment = None"
   ]
  },
  {
   "cell_type": "code",
   "execution_count": 12,
   "metadata": {},
   "outputs": [],
   "source": [
    "df = pd.read_csv(\n",
    "    \"https://raw.githubusercontent.com/intro-stat-learning/ISLP/main/ISLP/data/Credit.csv\"\n",
    ")"
   ]
  },
  {
   "cell_type": "markdown",
   "metadata": {},
   "source": [
    "## Data preprocessing from Wednesday"
   ]
  },
  {
   "cell_type": "code",
   "execution_count": 13,
   "metadata": {},
   "outputs": [],
   "source": [
    "df = df.rename(columns=str.lower)\n",
    "\n",
    "df[\"gender\"] = df[\"gender\"].str.strip()\n",
    "yesno_map = {\"Yes\": 1, \"No\": 0}\n",
    "df[\"student\"] = df[\"student\"].map(yesno_map)\n",
    "df[\"married\"] = df[\"married\"].map(yesno_map)\n",
    "df[\"gender\"] = (df[\"gender\"] == \"Male\").astype(int)\n",
    "\n",
    "df = df.drop(columns=[\"id\"])"
   ]
  },
  {
   "cell_type": "code",
   "execution_count": 14,
   "metadata": {},
   "outputs": [],
   "source": [
    "df_train, df_val = train_test_split(df, test_size=0.2, random_state=10)"
   ]
  },
  {
   "cell_type": "code",
   "execution_count": 15,
   "metadata": {},
   "outputs": [],
   "source": [
    "y_train = df_train[\"balance\"]"
   ]
  },
  {
   "cell_type": "markdown",
   "metadata": {},
   "source": [
    "## Task 1\n",
    "\n",
    "- Fit a simple linear model that predicts `balance` from `rating`. Give the model a unique name, like `model_rtg` (we'll use it later).\n",
    "- Make predictions on training data `df_train`. Save them into a unique name as well, like `y_train_pred_rtg`.\n",
    "- Plot the fitted line on a scatterplot.\n",
    "- Make predictions on y_train and calculate mean squared error.\n"
   ]
  },
  {
   "cell_type": "code",
   "execution_count": 1,
   "metadata": {},
   "outputs": [],
   "source": [
    "# Answer\n"
   ]
  },
  {
   "cell_type": "markdown",
   "metadata": {},
   "source": [
    "## Task 2\n",
    "\n",
    "Fit a model that predicts `balance` from `rating` and `income`. Calculate mean squared error on the training set. Give your model a unique name.\n"
   ]
  },
  {
   "cell_type": "code",
   "execution_count": 2,
   "metadata": {},
   "outputs": [],
   "source": [
    "# Answer\n"
   ]
  },
  {
   "cell_type": "markdown",
   "metadata": {},
   "source": [
    "## Task 3\n",
    "\n",
    "Create two plots side by side on a single canvas. The plots should display the relationship between predicted and true `balance` values for the two models you fitted so far. On the Y axis, all plots should have the true `balance` from y_train. On the x-axis, the plots should have predicted values from both models.\n",
    "\n",
    "Comment what you see.\n"
   ]
  },
  {
   "cell_type": "code",
   "execution_count": 16,
   "metadata": {},
   "outputs": [
    {
     "data": {
      "text/plain": [
       "Text(0, 0.5, 'Balance')"
      ]
     },
     "execution_count": 16,
     "metadata": {},
     "output_type": "execute_result"
    },
    {
     "data": {
      "image/png": "[encoded data removed]",
      "text/plain": [
       "<Figure size 1000x500 with 2 Axes>"
      ]
     },
     "metadata": {},
     "output_type": "display_data"
    }
   ],
   "source": [
    "# Hint\n",
    "fig, (ax1, ax2) = plt.subplots(1, 2, figsize=(10, 5), sharey=True)\n",
    "ax1.set_xlabel(\"Predicted Balance\")\n",
    "ax2.set_xlabel(\"Predicted Balance\")\n",
    "ax1.set_ylabel(\"Balance\")"
   ]
  },
  {
   "cell_type": "code",
   "execution_count": 4,
   "metadata": {},
   "outputs": [],
   "source": [
    "# Answer\n"
   ]
  },
  {
   "cell_type": "markdown",
   "metadata": {},
   "source": [
    "## Task 4\n",
    "\n",
    "Create a model that uses the same three features as above, plus `student`. Calculate mean squared error on the training set. Give the model a unique name. Make predictions on training data and save them into a unique variable.\n"
   ]
  },
  {
   "cell_type": "code",
   "execution_count": 5,
   "metadata": {},
   "outputs": [],
   "source": [
    "# Answer\n"
   ]
  },
  {
   "cell_type": "markdown",
   "metadata": {},
   "source": [
    "## Task 5\n",
    "\n",
    "Now create the same plot as in Task 3, but add a third plot showing predictions against true values of the model you fitted in Task 4.\n",
    "\n",
    "Comment what you see.\n"
   ]
  },
  {
   "cell_type": "code",
   "execution_count": 6,
   "metadata": {},
   "outputs": [],
   "source": [
    "# Answer\n"
   ]
  },
  {
   "cell_type": "markdown",
   "metadata": {},
   "source": [
    "## Task 6\n",
    "\n",
    "Create two new models:\n",
    "1. Model that uses `rating` and `income` (like in Task 2), but with second-degree polynomial features.\n",
    "2. Same, but with 3rd degree polynomial features.\n",
    "\n",
    "Use scikit-learn's `PolynomialFeatures`.\n"
   ]
  },
  {
   "cell_type": "code",
   "execution_count": 7,
   "metadata": {},
   "outputs": [],
   "source": [
    "# Answer\n"
   ]
  },
  {
   "cell_type": "markdown",
   "metadata": {},
   "source": [
    "## Task 7\n",
    "\n",
    "Create a table with the following columns: `model_name`, `train_mse`,  `val_mse`. It should contain training and validation mean squared error for the three models that have `rating` and `income` features. Training error you have calculated for every model (by calculating MSE between `y_pred` and `y_train`). To calculate the validation error:\n",
    "1. make predictions on the necessary features from `val_df` using the already fitted model (you do not need to call fit again)\n",
    "2. create `y_val` which contains the target variable `balance` from `val_df`\n",
    "3. Build the table\n",
    "\n",
    "Answer the following:\n",
    "1. Which model has the best performance? What makes you think so?\n",
    "2. Out of the three models that use `income` and `rating` features, which performs the best? Why?\n",
    "\n"
   ]
  },
  {
   "cell_type": "code",
   "execution_count": null,
   "metadata": {},
   "outputs": [],
   "source": [
    "# Answer\n"
   ]
  },
  {
   "cell_type": "markdown",
   "metadata": {},
   "source": [
    "## Task 8 [Bonus]\n",
    "\n",
    "Create a plot that shows how training and validation MSE changes as a function of the degree of the polynomial of the model. Use  `rating` and `limit` as predictors.\n"
   ]
  },
  {
   "cell_type": "code",
   "execution_count": 9,
   "metadata": {},
   "outputs": [],
   "source": [
    "# Answer\n"
   ]
  },
  {
   "cell_type": "code",
   "execution_count": null,
   "metadata": {},
   "outputs": [],
   "source": []
  }
 ],
 "metadata": {
  "kernelspec": {
   "display_name": ".venv",
   "language": "python",
   "name": "python3"
  },
  "language_info": {
   "codemirror_mode": {
    "name": "ipython",
    "version": 3
   },
   "file_extension": ".py",
   "mimetype": "text/x-python",
   "name": "python",
   "nbconvert_exporter": "python",
   "pygments_lexer": "ipython3",
   "version": "3.11.8"
  }
 },
 "nbformat": 4,
 "nbformat_minor": 2
}
