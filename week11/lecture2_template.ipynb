{
 "cells": [
  {
   "cell_type": "markdown",
   "metadata": {},
   "source": [
    "# Last two weeks of the course\n",
    "\n",
    "The plan for last two weeks of the course:\n",
    "1. April 30th (Wednesday) - live group project consultations. Each group gets a 15 minute slot to share progress and issues and get feedback from me. Very likely to impact your grade!\n",
    "2. May 2nd (Friday) - course review. Will go through the whole course and work on some questions.\n",
    "3. May 7th (Wednesday) - a presentation from an employee of State Data Agency (Valstybės duomenų agentūra). Their work is really really interested, highly suggested to come!\n",
    "4. May 9th (Friday) - group project presentations.\n"
   ]
  },
  {
   "cell_type": "markdown",
   "metadata": {},
   "source": [
    "# AB Testing\n",
    "\n",
    "Agenda:\n",
    "1. Randomized controlled cxperiments\n",
    "2. AB testing\n",
    "3. Some intuition on p-values and confidence intervals\n",
    "4. Analysing an AB test\n"
   ]
  },
  {
   "cell_type": "code",
   "execution_count": 1,
   "metadata": {},
   "outputs": [],
   "source": [
    "import pandas as pd\n",
    "import numpy as np\n",
    "import matplotlib.pyplot as plt\n",
    "import seaborn as sns\n",
    "import scipy.stats as stats\n",
    "\n",
    "# if this import fails, run pip install statsmodels or comment it out\n",
    "from statsmodels.stats.proportion import proportions_ztest\n",
    "\n",
    "rng = np.random.default_rng(0)\n"
   ]
  },
  {
   "cell_type": "markdown",
   "metadata": {},
   "source": [
    "## Randomized Controlled Experiments\n",
    "\n",
    "Randomized controlled experiments is a scientific method for measuring the effectiveness of an intervention. Some examples:\n",
    "- Collecting 107 patients with pulmonary tuberculosis, splitting them into 2 groups randomly. One group receives streptomycin (an antibiotic), while the other does not receive anything. ([link](https://www.jameslindlibrary.org/medical-research-council-1948b/))\n",
    "- Randomizing which fertilizer you're using for which fields of barley and then measuring the yield of each field.\n",
    "\n",
    "![Randomized Controlled Trial](https://www.simplypsychology.org/wp-content/uploads/randomized-controlled-trial-1024x596.jpeg)\n",
    "\n",
    "What makes an experiment randomized and controlled:\n",
    "1. One of the groups does not receive the treatment.\n",
    "2. Participants of the experiment are assigned randomly into treatment and control groups.\n",
    "3. Other than the treatment, the conditions that the two groups are exposed to are identical.\n",
    "\n",
    "Some terminology:\n",
    "- Treatment - a.k.a. intervention, the thing want to measure the impact of and that we have control over. The drug, the new page layout, etc.\n",
    "- Control group - group that does not receive the treatment.\n",
    "- Treatment group - group that receives the treatment.\n",
    "- Outcome - the variable we are trying to impact with the experiment.\n",
    "- Treatment effect - the difference in outcome between \n"
   ]
  },
  {
   "cell_type": "markdown",
   "metadata": {},
   "source": [
    "## AB Testing\n",
    "\n",
    "AB tests are what technology companies call randomized controlled experiments. At the basic level, statistical techniques are the same as in RCTs. Usually group A is the control group, and group B is the treatment group. But, just like an RCT, AB tests can have more than two groups (i.e. more than one treatment).\n",
    "\n",
    "Some examples of changes that are AB tested:\n",
    "1. Improving the layout of the checkout page in an eshop.\n",
    "2. Netflix improving their recommendation algorithm, to recommend shows that users want to watch.\n",
    "3. Vinted improving machine learning models that detect counterfeit items in order to protect buyers.\n",
    "\n",
    "In all of these examples, there is a clear treatment being applied - reorganized checkout page, new algorithm, etc. However, we are never sure whether the change we are making is really an improvement until we test it - split users into two groups randomly, expose one of the groups to the change and observe their behavior. We need AB testing because we do not want to make changes based on intuition or expertise alone, we need to back our decisions with data. Just like we don't know whether a new drug will be effective in curing the disease, we also don't know if a specific change to our product will improve it.\n",
    "\n",
    "However, all of the examples above beg the question - what does it mean to \"improve\"? How we operationalize abstract concepts such as \"user experience\" is very important in AB tests, because we need to measure the outcomes for both groups precisely. Therefore, before every AB test we will define metrics that we will use to decide whether an AB test was successful.\n",
    "\n",
    "Some popular metrics:\n",
    "1. Conversion rates - the proportion of test participants that \"convert\" to some action - buying, watching a movie, creating a customer support ticket.\n",
    "2. Retention rates - for instance, of all users that bought something this week, what proportion also bought during the next week?\n",
    "3. Just counts or sums - e.g. average number of items bought or amount spent.\n"
   ]
  },
  {
   "cell_type": "markdown",
   "metadata": {},
   "source": [
    "## Some statistics intuition"
   ]
  },
  {
   "cell_type": "code",
   "execution_count": null,
   "metadata": {},
   "outputs": [],
   "source": []
  },
  {
   "cell_type": "code",
   "execution_count": null,
   "metadata": {},
   "outputs": [],
   "source": []
  },
  {
   "cell_type": "code",
   "execution_count": 2,
   "metadata": {},
   "outputs": [],
   "source": [
    "def z_test_pvalue(x_a, n_a, x_b, n_b):\n",
    "    \"\"\"\n",
    "    x_a - number of successes in group A\n",
    "    n_a - sample size of group A\n",
    "    x_b - number of successes in group B\n",
    "    n_b - sample size of group B\n",
    "    \"\"\"\n",
    "    p_pool = (x_a + x_b) / (n_a + n_b)\n",
    "    se = np.sqrt(p_pool * (1 - p_pool) * (1/n_a + 1/n_b))\n",
    "    p_a = x_a / n_a\n",
    "    p_b = x_b / n_b\n",
    "    z  = (p_b - p_a) / se\n",
    "    p = 2 * (1 - stats.norm.cdf(abs(z)))\n",
    "    return p\n",
    "\n",
    "def z_test_ci(x_a, n_a, x_b, n_b, alpha=0.05):\n",
    "    p_pool = (x_a + x_b) / (n_a + n_b)\n",
    "    se = np.sqrt(p_pool * (1 - p_pool) * (1/n_a + 1/n_b))\n",
    "    te = x_b / n_b - x_a / n_a\n",
    "\n",
    "    z = stats.norm.ppf(1 - alpha/2)\n",
    "    moe = z * se # margin of error\n",
    "    ci_lower = te - moe\n",
    "    ci_upper = te + moe\n",
    "    return ci_lower, ci_upper\n"
   ]
  },
  {
   "cell_type": "markdown",
   "metadata": {},
   "source": [
    "## Analysing a real experiment\n",
    "\n",
    "Let's now analyse a real experiment.\n"
   ]
  },
  {
   "cell_type": "markdown",
   "metadata": {},
   "source": [
    "### Task 1\n",
    "\n",
    "Read the dataset description [here](https://www.kaggle.com/code/mursideyarkin/mobile-games-ab-testing-with-cookie-cats) and look at the dataset. Identify the following components:\n",
    "- Treatment\n",
    "- Treatment unit (subject)\n",
    "- The number of groups in the test\n",
    "- Which group is the control group\n"
   ]
  },
  {
   "cell_type": "code",
   "execution_count": null,
   "metadata": {},
   "outputs": [],
   "source": []
  },
  {
   "cell_type": "markdown",
   "metadata": {},
   "source": [
    "### Task 2\n",
    "\n",
    "Calculate 1-day retention rates and counts ($n$) for all groups.\n",
    "\n"
   ]
  },
  {
   "cell_type": "code",
   "execution_count": null,
   "metadata": {},
   "outputs": [],
   "source": []
  },
  {
   "cell_type": "markdown",
   "metadata": {},
   "source": [
    "### Task 3\n",
    "\n",
    "Analyse the experiment - calculate the p-value and the confidence interval. Write down the interpretation of both.\n",
    "\n",
    "Assume alpha level is 0.05.\n",
    "\n",
    "Would you recommend to scale the experiment?\n"
   ]
  },
  {
   "cell_type": "code",
   "execution_count": null,
   "metadata": {},
   "outputs": [],
   "source": []
  },
  {
   "cell_type": "markdown",
   "metadata": {},
   "source": [
    "## Recap\n",
    "\n",
    "1. A randomized controlled experiment is an experiment that has these components:\n",
    "    1. There is a control group that does not receive the treatment.\n",
    "    2. Units are assigned into control and treatment groups randomly.\n",
    "    3. Aside from the treatment, everything is the same between groups.\n",
    "2. AB tests are what technology companies call randomized controlled experiments.\n",
    "3. We need AB tests because our intuition is wrong, and we need to back our decisions with data.\n",
    "4. A key component of running successful AB tests is a valid target metric.\n",
    "5. We can summarize the results of an experiment via a p-value or a confidence interval.\n",
    "\n",
    "| number | question that it answers | interpretation |\n",
    "| ------ | ---- | --- |\n",
    "|   p-value | if the true effect is zero, how surprising is the observed result? | if p value is below $\\alpha$, we reject the null hypothesis |\n",
    "| confidence interval | which effect sizes are consistent with the data? | the narrower the interval, the more precise is our estimate. 0 being outside of the interval is equivalent to a significant effect  |"
   ]
  },
  {
   "cell_type": "code",
   "execution_count": 39,
   "metadata": {},
   "outputs": [
    {
     "data": {
      "text/plain": [
       "65.40157218073797"
      ]
     },
     "execution_count": 39,
     "metadata": {},
     "output_type": "execute_result"
    }
   ],
   "source": []
  }
 ],
 "metadata": {
  "kernelspec": {
   "display_name": ".venv",
   "language": "python",
   "name": "python3"
  },
  "language_info": {
   "codemirror_mode": {
    "name": "ipython",
    "version": 3
   },
   "file_extension": ".py",
   "mimetype": "text/x-python",
   "name": "python",
   "nbconvert_exporter": "python",
   "pygments_lexer": "ipython3",
   "version": "3.12.9"
  }
 },
 "nbformat": 4,
 "nbformat_minor": 2
}
