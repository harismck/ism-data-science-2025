{
 "cells": [
  {
   "cell_type": "markdown",
   "metadata": {},
   "source": [
    "# Neural Networks\n",
    "\n",
    "The goals of this week are to touch the basic concepts related to deep learning and neural networks. Specifically:\n",
    "- gradient descent\n",
    "- neural networks\n",
    "- backpropagation\n",
    "\n",
    "In this lecture, we will mostly talk about gradient descent.\n",
    "\n"
   ]
  },
  {
   "cell_type": "code",
   "execution_count": 1,
   "metadata": {},
   "outputs": [],
   "source": [
    "import numpy as np\n",
    "import pandas as pd\n",
    "import matplotlib.pyplot as plt\n",
    "import seaborn as sns\n",
    "import plotly.graph_objects as go\n",
    "\n",
    "import warnings\n",
    "warnings.filterwarnings(\"ignore\")\n"
   ]
  },
  {
   "cell_type": "code",
   "execution_count": 2,
   "metadata": {},
   "outputs": [],
   "source": [
    "# plotting functions\n",
    "def plot_loss_contour(Ws, bs, errs):\n",
    "    plt.contourf(Ws, bs, errs, levels=20)\n",
    "    plt.colorbar()\n",
    "    plt.xlabel('w')\n",
    "    plt.ylabel('b')\n"
   ]
  },
  {
   "cell_type": "code",
   "execution_count": 3,
   "metadata": {},
   "outputs": [],
   "source": [
    "df = pd.read_csv(\"https://raw.githubusercontent.com/intro-stat-learning/ISLP/main/ISLP/data/Credit.csv\")"
   ]
  },
  {
   "cell_type": "code",
   "execution_count": 4,
   "metadata": {},
   "outputs": [
    {
     "data": {
      "text/plain": [
       "(400, 3)"
      ]
     },
     "execution_count": 4,
     "metadata": {},
     "output_type": "execute_result"
    }
   ],
   "source": [
    "df = df[[\"Income\", \"Limit\", \"Balance\"]]\n",
    "df = df.rename(columns=str.lower)\n",
    "df = (df - df.mean()) / df.std()\n",
    "df.shape"
   ]
  },
  {
   "cell_type": "code",
   "execution_count": 5,
   "metadata": {},
   "outputs": [
    {
     "data": {
      "text/html": [
       "<div>\n",
       "<style scoped>\n",
       "    .dataframe tbody tr th:only-of-type {\n",
       "        vertical-align: middle;\n",
       "    }\n",
       "\n",
       "    .dataframe tbody tr th {\n",
       "        vertical-align: top;\n",
       "    }\n",
       "\n",
       "    .dataframe thead th {\n",
       "        text-align: right;\n",
       "    }\n",
       "</style>\n",
       "<table border=\"1\" class=\"dataframe\">\n",
       "  <thead>\n",
       "    <tr style=\"text-align: right;\">\n",
       "      <th></th>\n",
       "      <th>income</th>\n",
       "      <th>limit</th>\n",
       "      <th>balance</th>\n",
       "    </tr>\n",
       "  </thead>\n",
       "  <tbody>\n",
       "    <tr>\n",
       "      <th>259</th>\n",
       "      <td>-0.328050</td>\n",
       "      <td>0.632701</td>\n",
       "      <td>1.244098</td>\n",
       "    </tr>\n",
       "    <tr>\n",
       "      <th>336</th>\n",
       "      <td>-0.350777</td>\n",
       "      <td>0.497531</td>\n",
       "      <td>0.883039</td>\n",
       "    </tr>\n",
       "    <tr>\n",
       "      <th>4</th>\n",
       "      <td>0.302549</td>\n",
       "      <td>0.069925</td>\n",
       "      <td>-0.411118</td>\n",
       "    </tr>\n",
       "    <tr>\n",
       "      <th>291</th>\n",
       "      <td>-0.599555</td>\n",
       "      <td>-0.463825</td>\n",
       "      <td>-0.458969</td>\n",
       "    </tr>\n",
       "    <tr>\n",
       "      <th>73</th>\n",
       "      <td>-0.602364</td>\n",
       "      <td>-0.092106</td>\n",
       "      <td>0.176147</td>\n",
       "    </tr>\n",
       "  </tbody>\n",
       "</table>\n",
       "</div>"
      ],
      "text/plain": [
       "       income     limit   balance\n",
       "259 -0.328050  0.632701  1.244098\n",
       "336 -0.350777  0.497531  0.883039\n",
       "4    0.302549  0.069925 -0.411118\n",
       "291 -0.599555 -0.463825 -0.458969\n",
       "73  -0.602364 -0.092106  0.176147"
      ]
     },
     "execution_count": 5,
     "metadata": {},
     "output_type": "execute_result"
    }
   ],
   "source": [
    "df.sample(5)"
   ]
  },
  {
   "cell_type": "markdown",
   "metadata": {},
   "source": [
    "This is a regression model that we're used to:\n",
    "\n",
    "$$\n",
    "Y = \\beta_0 + \\beta_1 * X_1 + \\beta_2 * X_2\n",
    "$$\n",
    "\n",
    "We're now going to fit the same model, but via a different approach. Our notation will also change.\n",
    "\n",
    "We can write the same model as:\n",
    "$$ \n",
    "Y = W \\cdot X + b\n",
    "$$\n",
    "\n",
    "where $W$ is a vector that contains the coefficients, $X$ is the feature vector and $b$ is bias. $\\cdot$ is the dot product operation:\n",
    "$$\n",
    "a \\cdot b = \\sum_{i=1}^{n} a_i \\, b_i\n",
    "$$\n",
    "\n",
    "\n"
   ]
  },
  {
   "cell_type": "code",
   "execution_count": 6,
   "metadata": {},
   "outputs": [
    {
     "data": {
      "text/plain": [
       "(array([[-1.21809263]]), array([[-1.13106027]]))"
      ]
     },
     "execution_count": 6,
     "metadata": {},
     "output_type": "execute_result"
    }
   ],
   "source": [
    "df_sample = df.sample(1)\n",
    "X = df_sample[[\"limit\"]].values\n",
    "y = df_sample[[\"balance\"]].values\n",
    "X, y"
   ]
  },
  {
   "cell_type": "code",
   "execution_count": 7,
   "metadata": {},
   "outputs": [
    {
     "data": {
      "text/plain": [
       "array([[2.82713894]])"
      ]
     },
     "execution_count": 7,
     "metadata": {},
     "output_type": "execute_result"
    }
   ],
   "source": [
    "# regression line\n",
    "W, b = np.array([[-1.5]]), np.array([1])\n",
    "z = np.dot(X, W) + b\n",
    "z"
   ]
  },
  {
   "cell_type": "markdown",
   "metadata": {},
   "source": [
    "The dot product essentially represents a model, however it's not a very good model, because it's weights were instantiated randomly.\n",
    "\n",
    "How good exactly is this model? In regression we use sum of squares to measure the quality of the fit."
   ]
  },
  {
   "cell_type": "code",
   "execution_count": 8,
   "metadata": {},
   "outputs": [
    {
     "data": {
      "text/plain": [
       "array([[15.667341]])"
      ]
     },
     "execution_count": 8,
     "metadata": {},
     "output_type": "execute_result"
    }
   ],
   "source": [
    "(z - y) ** 2"
   ]
  },
  {
   "cell_type": "markdown",
   "metadata": {},
   "source": [
    "Now let's do this for all datapoints."
   ]
  },
  {
   "cell_type": "code",
   "execution_count": 9,
   "metadata": {},
   "outputs": [
    {
     "name": "stdout",
     "output_type": "stream",
     "text": [
      "(400, 1)\n",
      "(400, 1)\n"
     ]
    }
   ],
   "source": [
    "X = df[[\"limit\"]].values\n",
    "y = df[[\"balance\"]].values\n",
    "print(X.shape)\n",
    "print(y.shape)"
   ]
  },
  {
   "cell_type": "code",
   "execution_count": 10,
   "metadata": {},
   "outputs": [
    {
     "name": "stdout",
     "output_type": "stream",
     "text": [
      "(400, 1)\n"
     ]
    },
    {
     "data": {
      "text/plain": [
       "array([[ 1.73407887],\n",
       "       [-0.24083764],\n",
       "       [-0.5202763 ],\n",
       "       [-2.09877982],\n",
       "       [ 0.89511302],\n",
       "       [-1.15193765],\n",
       "       [ 1.87574777],\n",
       "       [-0.54562074],\n",
       "       [ 1.93293522],\n",
       "       [-0.35391282]])"
      ]
     },
     "execution_count": 10,
     "metadata": {},
     "output_type": "execute_result"
    }
   ],
   "source": [
    "z = np.dot(X, W) + b\n",
    "print(z.shape)\n",
    "z[:10, :]\n"
   ]
  },
  {
   "cell_type": "code",
   "execution_count": 11,
   "metadata": {},
   "outputs": [
    {
     "data": {
      "text/plain": [
       "np.float64(2728.201628617429)"
      ]
     },
     "execution_count": 11,
     "metadata": {},
     "output_type": "execute_result"
    }
   ],
   "source": [
    "def sum_of_squares(z, y):\n",
    "    return np.sum((z - y)**2)\n",
    "\n",
    "sum_of_squares(z, y)\n"
   ]
  },
  {
   "cell_type": "markdown",
   "metadata": {},
   "source": [
    "Sum of squares is our *loss function*.\n",
    "\n",
    "Putting together what we have so far.\n"
   ]
  },
  {
   "cell_type": "code",
   "execution_count": 12,
   "metadata": {},
   "outputs": [
    {
     "data": {
      "text/plain": [
       "np.float64(2728.201628617429)"
      ]
     },
     "execution_count": 12,
     "metadata": {},
     "output_type": "execute_result"
    }
   ],
   "source": [
    "# Initial weights\n",
    "W, b = np.array([[-1.5]]), np.array([1])\n",
    "\n",
    "# Model\n",
    "z = np.dot(X, W) + b\n",
    "\n",
    "# Loss function\n",
    "err = sum_of_squares(z, y)\n",
    "err"
   ]
  },
  {
   "cell_type": "markdown",
   "metadata": {},
   "source": [
    "I can adjust the weights achieve better fit between the model and the data. But how should I adjust the weights to minimize the loss?\n",
    "\n",
    "Let's try to plot the the value of the loss for a bunch of values of W and b."
   ]
  },
  {
   "cell_type": "code",
   "execution_count": 13,
   "metadata": {},
   "outputs": [],
   "source": [
    "Ws = []\n",
    "bs = []\n",
    "errs = []\n",
    "\n",
    "def generate_random_weights(n_weights=1):\n",
    "    W = np.random.uniform(-2, 2, size=(n_weights, 1))\n",
    "    b = np.random.uniform(-2, 2)\n",
    "    return W, b\n"
   ]
  },
  {
   "cell_type": "code",
   "execution_count": 14,
   "metadata": {},
   "outputs": [
    {
     "data": {
      "text/plain": [
       "Text(0, 0.5, 'b')"
      ]
     },
     "execution_count": 14,
     "metadata": {},
     "output_type": "execute_result"
    },
    {
     "data": {
      "image/png": "[encoded data removed]",
      "text/plain": [
       "<Figure size 800x600 with 2 Axes>"
      ]
     },
     "metadata": {},
     "output_type": "display_data"
    }
   ],
   "source": [
    "fig, ax = plt.subplots(figsize=(8, 6))\n",
    "\n",
    "# for i in range(100):\n",
    "W, b = generate_random_weights()\n",
    "z = np.dot(X, W) + b\n",
    "err = sum_of_squares(z, y)\n",
    "Ws.append(W[0][0])\n",
    "bs.append(b)\n",
    "errs.append(err)\n",
    "\n",
    "ax = sns.scatterplot(x=Ws, y=bs, c=errs, cmap='viridis')\n",
    "ax.set_xlim(-2, 2)\n",
    "ax.set_ylim(-2, 2)\n",
    "plt.colorbar(ax.collections[0])\n",
    "ax.set_xlabel('w')\n",
    "ax.set_ylabel('b')\n"
   ]
  },
  {
   "cell_type": "code",
   "execution_count": 15,
   "metadata": {},
   "outputs": [
    {
     "data": {
      "image/png": "[encoded data removed]",
      "text/plain": [
       "<Figure size 800x600 with 2 Axes>"
      ]
     },
     "metadata": {},
     "output_type": "display_data"
    }
   ],
   "source": [
    "Ws = np.linspace(-2, 2, 20)\n",
    "bs = np.linspace(-2, 2, 20)\n",
    "errs = np.zeros((len(bs), len(Ws)))\n",
    "\n",
    "for i in range(len(bs)):\n",
    "    for j in range(len(Ws)):\n",
    "        z = np.dot(X, Ws[j]) + bs[i]\n",
    "        errs[i,j] = sum_of_squares(z, y)\n",
    "\n",
    "fig, ax = plt.subplots(figsize=(8, 6))\n",
    "\n",
    "plot_loss_contour(Ws, bs, errs)\n"
   ]
  },
  {
   "cell_type": "code",
   "execution_count": 16,
   "metadata": {},
   "outputs": [
    {
     "data": {
      "application/vnd.plotly.v1+json": {
       "config": {
        "plotlyServerURL": "https://plot.ly"
       },
       "data": [
        {
         "colorscale": [
          [
           0,
           "#440154"
          ],
          [
           0.1111111111111111,
           "#482878"
          ],
          [
           0.2222222222222222,
           "#3e4989"
          ],
          [
           0.3333333333333333,
           "#31688e"
          ],
          [
           0.4444444444444444,
           "#26828e"
          ],
          [
           0.5555555555555556,
           "#1f9e89"
          ],
          [
           0.6666666666666666,
           "#35b779"
          ],
          [
           0.7777777777777778,
           "#6ece58"
          ],
          [
           0.8888888888888888,
           "#b5de2b"
          ],
          [
           1,
           "#fde725"
          ]
         ],
         "type": "surface",
         "x": {
          "bdata": "AAAAAAAAAMAbymsor6H8vzaU11BeQ/m/UV5DeQ3l9b9sKK+hvIbyvw7lNZTXUO6/RHkN5TWU5796DeU1lNfgv2BDeQ3lNdS/MK+hvIbyur8gr6G8hvK6P2BDeQ3lNdQ/eA3lNZTX4D9AeQ3lNZTnPwzlNZTXUO4/bCivobyG8j9QXkN5DeX1PzSU11BeQ/k/GsprKK+h/D8AAAAAAAAAQA==",
          "dtype": "f8"
         },
         "y": {
          "bdata": "AAAAAAAAAMAbymsor6H8vzaU11BeQ/m/UV5DeQ3l9b9sKK+hvIbyvw7lNZTXUO6/RHkN5TWU5796DeU1lNfgv2BDeQ3lNdS/MK+hvIbyur8gr6G8hvK6P2BDeQ3lNdQ/eA3lNZTX4D9AeQ3lNZTnPwzlNZTXUO4/bCivobyG8j9QXkN5DeX1PzSU11BeQ/k/GsprKK+h/D8AAAAAAAAAQA==",
          "dtype": "f8"
         },
         "z": {
          "bdata": "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",
          "dtype": "f8",
          "shape": "20, 20"
         }
        }
       ],
       "layout": {
        "scene": {
         "xaxis": {
          "title": {
           "text": "w"
          }
         },
         "yaxis": {
          "title": {
           "text": "b"
          }
         },
         "zaxis": {
          "title": {
           "text": "Error"
          }
         }
        },
        "template": {
         "data": {
          "bar": [
           {
            "error_x": {
             "color": "#2a3f5f"
            },
            "error_y": {
             "color": "#2a3f5f"
            },
            "marker": {
             "line": {
              "color": "#E5ECF6",
              "width": 0.5
             },
             "pattern": {
              "fillmode": "overlay",
              "size": 10,
              "solidity": 0.2
             }
            },
            "type": "bar"
           }
          ],
          "barpolar": [
           {
            "marker": {
             "line": {
              "color": "#E5ECF6",
              "width": 0.5
             },
             "pattern": {
              "fillmode": "overlay",
              "size": 10,
              "solidity": 0.2
             }
            },
            "type": "barpolar"
           }
          ],
          "carpet": [
           {
            "aaxis": {
             "endlinecolor": "#2a3f5f",
             "gridcolor": "white",
             "linecolor": "white",
             "minorgridcolor": "white",
             "startlinecolor": "#2a3f5f"
            },
            "baxis": {
             "endlinecolor": "#2a3f5f",
             "gridcolor": "white",
             "linecolor": "white",
             "minorgridcolor": "white",
             "startlinecolor": "#2a3f5f"
            },
            "type": "carpet"
           }
          ],
          "choropleth": [
           {
            "colorbar": {
             "outlinewidth": 0,
             "ticks": ""
            },
            "type": "choropleth"
           }
          ],
          "contour": [
           {
            "colorbar": {
             "outlinewidth": 0,
             "ticks": ""
            },
            "colorscale": [
             [
              0,
              "#0d0887"
             ],
             [
              0.1111111111111111,
              "#46039f"
             ],
             [
              0.2222222222222222,
              "#7201a8"
             ],
             [
              0.3333333333333333,
              "#9c179e"
             ],
             [
              0.4444444444444444,
              "#bd3786"
             ],
             [
              0.5555555555555556,
              "#d8576b"
             ],
             [
              0.6666666666666666,
              "#ed7953"
             ],
             [
              0.7777777777777778,
              "#fb9f3a"
             ],
             [
              0.8888888888888888,
              "#fdca26"
             ],
             [
              1,
              "#f0f921"
             ]
            ],
            "type": "contour"
           }
          ],
          "contourcarpet": [
           {
            "colorbar": {
             "outlinewidth": 0,
             "ticks": ""
            },
            "type": "contourcarpet"
           }
          ],
          "heatmap": [
           {
            "colorbar": {
             "outlinewidth": 0,
             "ticks": ""
            },
            "colorscale": [
             [
              0,
              "#0d0887"
             ],
             [
              0.1111111111111111,
              "#46039f"
             ],
             [
              0.2222222222222222,
              "#7201a8"
             ],
             [
              0.3333333333333333,
              "#9c179e"
             ],
             [
              0.4444444444444444,
              "#bd3786"
             ],
             [
              0.5555555555555556,
              "#d8576b"
             ],
             [
              0.6666666666666666,
              "#ed7953"
             ],
             [
              0.7777777777777778,
              "#fb9f3a"
             ],
             [
              0.8888888888888888,
              "#fdca26"
             ],
             [
              1,
              "#f0f921"
             ]
            ],
            "type": "heatmap"
           }
          ],
          "histogram": [
           {
            "marker": {
             "pattern": {
              "fillmode": "overlay",
              "size": 10,
              "solidity": 0.2
             }
            },
            "type": "histogram"
           }
          ],
          "histogram2d": [
           {
            "colorbar": {
             "outlinewidth": 0,
             "ticks": ""
            },
            "colorscale": [
             [
              0,
              "#0d0887"
             ],
             [
              0.1111111111111111,
              "#46039f"
             ],
             [
              0.2222222222222222,
              "#7201a8"
             ],
             [
              0.3333333333333333,
              "#9c179e"
             ],
             [
              0.4444444444444444,
              "#bd3786"
             ],
             [
              0.5555555555555556,
              "#d8576b"
             ],
             [
              0.6666666666666666,
              "#ed7953"
             ],
             [
              0.7777777777777778,
              "#fb9f3a"
             ],
             [
              0.8888888888888888,
              "#fdca26"
             ],
             [
              1,
              "#f0f921"
             ]
            ],
            "type": "histogram2d"
           }
          ],
          "histogram2dcontour": [
           {
            "colorbar": {
             "outlinewidth": 0,
             "ticks": ""
            },
            "colorscale": [
             [
              0,
              "#0d0887"
             ],
             [
              0.1111111111111111,
              "#46039f"
             ],
             [
              0.2222222222222222,
              "#7201a8"
             ],
             [
              0.3333333333333333,
              "#9c179e"
             ],
             [
              0.4444444444444444,
              "#bd3786"
             ],
             [
              0.5555555555555556,
              "#d8576b"
             ],
             [
              0.6666666666666666,
              "#ed7953"
             ],
             [
              0.7777777777777778,
              "#fb9f3a"
             ],
             [
              0.8888888888888888,
              "#fdca26"
             ],
             [
              1,
              "#f0f921"
             ]
            ],
            "type": "histogram2dcontour"
           }
          ],
          "mesh3d": [
           {
            "colorbar": {
             "outlinewidth": 0,
             "ticks": ""
            },
            "type": "mesh3d"
           }
          ],
          "parcoords": [
           {
            "line": {
             "colorbar": {
              "outlinewidth": 0,
              "ticks": ""
             }
            },
            "type": "parcoords"
           }
          ],
          "pie": [
           {
            "automargin": true,
            "type": "pie"
           }
          ],
          "scatter": [
           {
            "fillpattern": {
             "fillmode": "overlay",
             "size": 10,
             "solidity": 0.2
            },
            "type": "scatter"
           }
          ],
          "scatter3d": [
           {
            "line": {
             "colorbar": {
              "outlinewidth": 0,
              "ticks": ""
             }
            },
            "marker": {
             "colorbar": {
              "outlinewidth": 0,
              "ticks": ""
             }
            },
            "type": "scatter3d"
           }
          ],
          "scattercarpet": [
           {
            "marker": {
             "colorbar": {
              "outlinewidth": 0,
              "ticks": ""
             }
            },
            "type": "scattercarpet"
           }
          ],
          "scattergeo": [
           {
            "marker": {
             "colorbar": {
              "outlinewidth": 0,
              "ticks": ""
             }
            },
            "type": "scattergeo"
           }
          ],
          "scattergl": [
           {
            "marker": {
             "colorbar": {
              "outlinewidth": 0,
              "ticks": ""
             }
            },
            "type": "scattergl"
           }
          ],
          "scattermap": [
           {
            "marker": {
             "colorbar": {
              "outlinewidth": 0,
              "ticks": ""
             }
            },
            "type": "scattermap"
           }
          ],
          "scattermapbox": [
           {
            "marker": {
             "colorbar": {
              "outlinewidth": 0,
              "ticks": ""
             }
            },
            "type": "scattermapbox"
           }
          ],
          "scatterpolar": [
           {
            "marker": {
             "colorbar": {
              "outlinewidth": 0,
              "ticks": ""
             }
            },
            "type": "scatterpolar"
           }
          ],
          "scatterpolargl": [
           {
            "marker": {
             "colorbar": {
              "outlinewidth": 0,
              "ticks": ""
             }
            },
            "type": "scatterpolargl"
           }
          ],
          "scatterternary": [
           {
            "marker": {
             "colorbar": {
              "outlinewidth": 0,
              "ticks": ""
             }
            },
            "type": "scatterternary"
           }
          ],
          "surface": [
           {
            "colorbar": {
             "outlinewidth": 0,
             "ticks": ""
            },
            "colorscale": [
             [
              0,
              "#0d0887"
             ],
             [
              0.1111111111111111,
              "#46039f"
             ],
             [
              0.2222222222222222,
              "#7201a8"
             ],
             [
              0.3333333333333333,
              "#9c179e"
             ],
             [
              0.4444444444444444,
              "#bd3786"
             ],
             [
              0.5555555555555556,
              "#d8576b"
             ],
             [
              0.6666666666666666,
              "#ed7953"
             ],
             [
              0.7777777777777778,
              "#fb9f3a"
             ],
             [
              0.8888888888888888,
              "#fdca26"
             ],
             [
              1,
              "#f0f921"
             ]
            ],
            "type": "surface"
           }
          ],
          "table": [
           {
            "cells": {
             "fill": {
              "color": "#EBF0F8"
             },
             "line": {
              "color": "white"
             }
            },
            "header": {
             "fill": {
              "color": "#C8D4E3"
             },
             "line": {
              "color": "white"
             }
            },
            "type": "table"
           }
          ]
         },
         "layout": {
          "annotationdefaults": {
           "arrowcolor": "#2a3f5f",
           "arrowhead": 0,
           "arrowwidth": 1
          },
          "autotypenumbers": "strict",
          "coloraxis": {
           "colorbar": {
            "outlinewidth": 0,
            "ticks": ""
           }
          },
          "colorscale": {
           "diverging": [
            [
             0,
             "#8e0152"
            ],
            [
             0.1,
             "#c51b7d"
            ],
            [
             0.2,
             "#de77ae"
            ],
            [
             0.3,
             "#f1b6da"
            ],
            [
             0.4,
             "#fde0ef"
            ],
            [
             0.5,
             "#f7f7f7"
            ],
            [
             0.6,
             "#e6f5d0"
            ],
            [
             0.7,
             "#b8e186"
            ],
            [
             0.8,
             "#7fbc41"
            ],
            [
             0.9,
             "#4d9221"
            ],
            [
             1,
             "#276419"
            ]
           ],
           "sequential": [
            [
             0,
             "#0d0887"
            ],
            [
             0.1111111111111111,
             "#46039f"
            ],
            [
             0.2222222222222222,
             "#7201a8"
            ],
            [
             0.3333333333333333,
             "#9c179e"
            ],
            [
             0.4444444444444444,
             "#bd3786"
            ],
            [
             0.5555555555555556,
             "#d8576b"
            ],
            [
             0.6666666666666666,
             "#ed7953"
            ],
            [
             0.7777777777777778,
             "#fb9f3a"
            ],
            [
             0.8888888888888888,
             "#fdca26"
            ],
            [
             1,
             "#f0f921"
            ]
           ],
           "sequentialminus": [
            [
             0,
             "#0d0887"
            ],
            [
             0.1111111111111111,
             "#46039f"
            ],
            [
             0.2222222222222222,
             "#7201a8"
            ],
            [
             0.3333333333333333,
             "#9c179e"
            ],
            [
             0.4444444444444444,
             "#bd3786"
            ],
            [
             0.5555555555555556,
             "#d8576b"
            ],
            [
             0.6666666666666666,
             "#ed7953"
            ],
            [
             0.7777777777777778,
             "#fb9f3a"
            ],
            [
             0.8888888888888888,
             "#fdca26"
            ],
            [
             1,
             "#f0f921"
            ]
           ]
          },
          "colorway": [
           "#636efa",
           "#EF553B",
           "#00cc96",
           "#ab63fa",
           "#FFA15A",
           "#19d3f3",
           "#FF6692",
           "#B6E880",
           "#FF97FF",
           "#FECB52"
          ],
          "font": {
           "color": "#2a3f5f"
          },
          "geo": {
           "bgcolor": "white",
           "lakecolor": "white",
           "landcolor": "#E5ECF6",
           "showlakes": true,
           "showland": true,
           "subunitcolor": "white"
          },
          "hoverlabel": {
           "align": "left"
          },
          "hovermode": "closest",
          "mapbox": {
           "style": "light"
          },
          "paper_bgcolor": "white",
          "plot_bgcolor": "#E5ECF6",
          "polar": {
           "angularaxis": {
            "gridcolor": "white",
            "linecolor": "white",
            "ticks": ""
           },
           "bgcolor": "#E5ECF6",
           "radialaxis": {
            "gridcolor": "white",
            "linecolor": "white",
            "ticks": ""
           }
          },
          "scene": {
           "xaxis": {
            "backgroundcolor": "#E5ECF6",
            "gridcolor": "white",
            "gridwidth": 2,
            "linecolor": "white",
            "showbackground": true,
            "ticks": "",
            "zerolinecolor": "white"
           },
           "yaxis": {
            "backgroundcolor": "#E5ECF6",
            "gridcolor": "white",
            "gridwidth": 2,
            "linecolor": "white",
            "showbackground": true,
            "ticks": "",
            "zerolinecolor": "white"
           },
           "zaxis": {
            "backgroundcolor": "#E5ECF6",
            "gridcolor": "white",
            "gridwidth": 2,
            "linecolor": "white",
            "showbackground": true,
            "ticks": "",
            "zerolinecolor": "white"
           }
          },
          "shapedefaults": {
           "line": {
            "color": "#2a3f5f"
           }
          },
          "ternary": {
           "aaxis": {
            "gridcolor": "white",
            "linecolor": "white",
            "ticks": ""
           },
           "baxis": {
            "gridcolor": "white",
            "linecolor": "white",
            "ticks": ""
           },
           "bgcolor": "#E5ECF6",
           "caxis": {
            "gridcolor": "white",
            "linecolor": "white",
            "ticks": ""
           }
          },
          "title": {
           "x": 0.05
          },
          "xaxis": {
           "automargin": true,
           "gridcolor": "white",
           "linecolor": "white",
           "ticks": "",
           "title": {
            "standoff": 15
           },
           "zerolinecolor": "white",
           "zerolinewidth": 2
          },
          "yaxis": {
           "automargin": true,
           "gridcolor": "white",
           "linecolor": "white",
           "ticks": "",
           "title": {
            "standoff": 15
           },
           "zerolinecolor": "white",
           "zerolinewidth": 2
          }
         }
        },
        "title": {
         "text": "Error Surface"
        }
       }
      }
     },
     "metadata": {},
     "output_type": "display_data"
    }
   ],
   "source": [
    "fig = go.Figure(data=[go.Surface(x=Ws, y=bs, z=errs, colorscale='Viridis')])\n",
    "\n",
    "fig.update_layout(\n",
    "    title='Error Surface',\n",
    "    scene=dict(\n",
    "        xaxis_title='w',\n",
    "        yaxis_title='b',\n",
    "        zaxis_title='Error'\n",
    "    )\n",
    ")\n",
    "\n",
    "fig.show()"
   ]
  },
  {
   "cell_type": "markdown",
   "metadata": {},
   "source": [
    "\n",
    "So, the loss function (that we plotted above) in regression problems is residual sum of squares:\n",
    "\n",
    "$$\n",
    "L(W, b) = \\sum_{i=1}^{N} \\left( y_i - \\left( X_i \\cdot W + b \\right) \\right)^2\n",
    "$$\n",
    "\n",
    "where $ X_i $ is the feature vector, $ W $ is the weight vector and $ b $ is bias. Keep in mind that we're summing over all datapoints, and so the index i represents a single sample.\n",
    "\n",
    "So now we need to answer the question - which combination of weights $ W $ and bias $ b $ gives the lowest loss $ L $. In other words, it's an optimization problem and for that we turn to calculus.\n",
    "\n",
    "We need formulas that allow us to calculate the gradient at any value of the inputs ($W$ and $b$) the direction of maximum decrese in L. Partial derivates give us exactly those formulas.\n",
    "\n",
    "$$\n",
    "\\frac{\\partial L}{\\partial W} = -2 \\sum_{i=1}^{N} X_i \\left( y_i - \\left(X_i \\cdot W + b\\right) \\right).\n",
    "$$\n",
    "\n",
    "$$\n",
    "\\frac{\\partial L}{\\partial b} = -2 \\sum_{i=1}^{N} \\left( y_i - \\left(X_i \\cdot W + b\\right) \\right).\n",
    "$$\n",
    "\n",
    "These gradients tell us the direction in which to adjust W and b to minimize the loss function during gradient descent.\n"
   ]
  },
  {
   "cell_type": "code",
   "execution_count": 17,
   "metadata": {},
   "outputs": [],
   "source": [
    "def gradient(X, y, W, b):\n",
    "    z = np.dot(X, W) + b\n",
    "    err = y - z\n",
    "    grad_w = -2 * np.dot(X.T, err) / len(y)\n",
    "    grad_b = -2 * np.sum(err) / len(y)\n",
    "    return grad_w, grad_b\n"
   ]
  },
  {
   "cell_type": "code",
   "execution_count": 18,
   "metadata": {},
   "outputs": [
    {
     "name": "stdout",
     "output_type": "stream",
     "text": [
      "[[-4.71158605]]\n",
      "2.0000000000000004\n"
     ]
    }
   ],
   "source": [
    "# initial weights\n",
    "W, b = np.array([[-1.5]]), np.float64(1)\n",
    "\n",
    "# gradients\n",
    "grad_W, grad_b = gradient(X, y, W, b)\n",
    "\n",
    "print(grad_W)\n",
    "print(grad_b)\n"
   ]
  },
  {
   "cell_type": "code",
   "execution_count": 19,
   "metadata": {},
   "outputs": [
    {
     "data": {
      "text/plain": [
       "<matplotlib.patches.FancyArrow at 0x1317c2540>"
      ]
     },
     "execution_count": 19,
     "metadata": {},
     "output_type": "execute_result"
    },
    {
     "data": {
      "image/png": "[encoded data removed]",
      "text/plain": [
       "<Figure size 800x600 with 2 Axes>"
      ]
     },
     "metadata": {},
     "output_type": "display_data"
    }
   ],
   "source": [
    "fig, ax = plt.subplots(figsize=(8, 6))\n",
    "\n",
    "plot_loss_contour(Ws, bs, errs)\n",
    "\n",
    "plt.plot(W[0][0], b, \"r*\", markersize=10)\n",
    "plt.arrow(\n",
    "    W[0][0],\n",
    "    b,\n",
    "    -grad_W[0][0],\n",
    "    -grad_b,\n",
    "    head_width=0.1,\n",
    "    head_length=0.05,\n",
    "    width=0.0001,\n",
    "    color=\"red\",\n",
    ")"
   ]
  },
  {
   "cell_type": "markdown",
   "metadata": {},
   "source": [
    "In order to not overshoot, we introduce a learning rate $ \\alpha $. Here's how we adjust our parameters:\n",
    "\n",
    "$$\n",
    "W^{(t+1)} = W^{(t)} - \\alpha * \\frac{\\partial L}{\\partial W}\n",
    "$$\n",
    "\n",
    "here $t$ indexes a step in the gradient descent process.\n"
   ]
  },
  {
   "cell_type": "code",
   "execution_count": 20,
   "metadata": {},
   "outputs": [],
   "source": [
    "lr = 0.1\n",
    "W, b = np.array([[-1.5]]), np.float64(1)\n",
    "W = W[0][0]\n",
    "\n",
    "weight_history = []"
   ]
  },
  {
   "cell_type": "code",
   "execution_count": 21,
   "metadata": {},
   "outputs": [
    {
     "name": "stdout",
     "output_type": "stream",
     "text": [
      "Gradient:  [[-4.71158605]] 2.0000000000000004\n"
     ]
    },
    {
     "data": {
      "image/png": "[encoded data removed]",
      "text/plain": [
       "<Figure size 800x600 with 2 Axes>"
      ]
     },
     "metadata": {},
     "output_type": "display_data"
    }
   ],
   "source": [
    "fig, ax = plt.subplots(figsize=(8, 6))\n",
    "weight_history.append((W, b))\n",
    "\n",
    "plot_loss_contour(Ws, bs, errs)\n",
    "\n",
    "ax.plot(W, b, \"r.\", markersize=10)\n",
    "\n",
    "grad_W, grad_b = gradient(X, y, W, b)\n",
    "print(\"Gradient: \", grad_W, grad_b)\n",
    "W = W - lr * grad_W\n",
    "b = b - lr * grad_b\n",
    "\n",
    "for W_, b_ in weight_history:\n",
    "    ax.plot(W_, b_, \"r.\", markersize=10)\n"
   ]
  },
  {
   "cell_type": "code",
   "execution_count": 22,
   "metadata": {},
   "outputs": [],
   "source": [
    "for i in range(100):\n",
    "    W = W - lr * gradient(X, y, W, b)[0]\n",
    "    b = b - lr * gradient(X, y, W, b)[1]\n"
   ]
  },
  {
   "cell_type": "code",
   "execution_count": 23,
   "metadata": {},
   "outputs": [
    {
     "data": {
      "text/plain": [
       "(array([[0.86169727]]), np.float64(1.6296303703757927e-10))"
      ]
     },
     "execution_count": 23,
     "metadata": {},
     "output_type": "execute_result"
    }
   ],
   "source": [
    "W, b"
   ]
  },
  {
   "cell_type": "code",
   "execution_count": 24,
   "metadata": {},
   "outputs": [
    {
     "name": "stdout",
     "output_type": "stream",
     "text": [
      "[[0.86169727]]\n",
      "[1.48249408e-16]\n"
     ]
    }
   ],
   "source": [
    "from sklearn.linear_model import LinearRegression\n",
    "\n",
    "linreg = LinearRegression()\n",
    "linreg.fit(X, y)\n",
    "print(linreg.coef_)\n",
    "print(linreg.intercept_)\n"
   ]
  },
  {
   "cell_type": "markdown",
   "metadata": {},
   "source": [
    "And that is gradient descent! Let's put it all together again.\n"
   ]
  },
  {
   "cell_type": "code",
   "execution_count": 25,
   "metadata": {},
   "outputs": [
    {
     "data": {
      "text/plain": [
       "(array([[ 1.32701455],\n",
       "        [-0.5874563 ]]),\n",
       " np.float64(3.332459158650127e-16))"
      ]
     },
     "execution_count": 25,
     "metadata": {},
     "output_type": "execute_result"
    }
   ],
   "source": [
    "# Data\n",
    "X = df[[\"limit\"]].values\n",
    "y = df[[\"balance\"]].values\n",
    "\n",
    "# X = df[[\"limit\", \"income\"]].values\n",
    "\n",
    "# Initial weights and bias\n",
    "W, b = generate_random_weights(n_weights=X.shape[1])\n",
    "\n",
    "# Loss function\n",
    "def sum_of_squares(z, y):\n",
    "    return np.sum((z - y)**2)\n",
    "\n",
    "# Gradient\n",
    "def gradient(X, y, W, b):\n",
    "    z = model(X, W, b)\n",
    "    err = y - z\n",
    "    grad_W = -2 * np.dot(X.T, err) / len(y)\n",
    "    grad_b = -2 * np.sum(err) / len(y)\n",
    "    return grad_W, grad_b\n",
    "\n",
    "\n",
    "# Gradient descent\n",
    "lr = 0.01\n",
    "for i in range(10000):\n",
    "    grad_W, grad_b = gradient(X, y, W, b)\n",
    "    W = W - lr * grad_W\n",
    "    b = b - lr * grad_b\n",
    "\n",
    "W, b"
   ]
  },
  {
   "cell_type": "markdown",
   "metadata": {},
   "source": [
    "We used to know the example shown above as simple linear regression. But that is also a neural network in it's most basic form.\n",
    " \n",
    "![](reg_one_feature.png)\n",
    "\n",
    "\n",
    "If we used more features, the network would look like this:\n",
    "\n",
    "![](reg_two_features.png)\n"
   ]
  },
  {
   "cell_type": "markdown",
   "metadata": {},
   "source": [
    "## Adding layers\n",
    "\n",
    "We can construct a more complex network as such:\n",
    "\n",
    "![](reg_two_layers.png)\n",
    "\n",
    "Now our network has a hidden layer - the layer that receives inputs. "
   ]
  },
  {
   "cell_type": "code",
   "execution_count": 26,
   "metadata": {},
   "outputs": [],
   "source": [
    "def model(X, W1, b1, W2, b2):\n",
    "    z1 = np.dot(X, W1) + b1\n",
    "    z2 = np.dot(z1, W2) + b2\n",
    "    return z2\n"
   ]
  },
  {
   "cell_type": "markdown",
   "metadata": {},
   "source": [
    "\n",
    "But is this really more complex? After all, we're just applying another linear transformation on top of an existing linear transformation. And even though we can train such a network, it would not fit a more complex function than the simple linear regression from before.\n",
    "\n",
    "We need to apply a nonlinear transformation in the first hidden layer. One popular choice is the sigmoid function.\n",
    "\n",
    "![](reg_two_layers_sigmoid.png)\n",
    "\n",
    "\n",
    "Importantly, the last layer (the output layer) does not use an activation function, because this is a regression model and don't want to squish the output to be between 0 and 1.\n"
   ]
  },
  {
   "cell_type": "code",
   "execution_count": 27,
   "metadata": {},
   "outputs": [],
   "source": [
    "def sigmoid(x):\n",
    "    return 1 / (1 + np.exp(-x))\n"
   ]
  },
  {
   "cell_type": "code",
   "execution_count": 28,
   "metadata": {},
   "outputs": [],
   "source": [
    "def model(X, W1, b1, W2, b2):\n",
    "    z1 = np.dot(X, W1) + b1\n",
    "    a1 = sigmoid(z1)\n",
    "    z2 = np.dot(a1, W2) + b2\n",
    "    return z2\n"
   ]
  },
  {
   "cell_type": "markdown",
   "metadata": {},
   "source": [
    "What is the loss surface of this function? That's difficult to plot since now we have 4 parameters in total. Therefore, we have to fix some of the parameters in place."
   ]
  },
  {
   "cell_type": "code",
   "execution_count": 32,
   "metadata": {},
   "outputs": [
    {
     "data": {
      "application/vnd.plotly.v1+json": {
       "config": {
        "plotlyServerURL": "https://plot.ly"
       },
       "data": [
        {
         "colorscale": [
          [
           0,
           "#440154"
          ],
          [
           0.1111111111111111,
           "#482878"
          ],
          [
           0.2222222222222222,
           "#3e4989"
          ],
          [
           0.3333333333333333,
           "#31688e"
          ],
          [
           0.4444444444444444,
           "#26828e"
          ],
          [
           0.5555555555555556,
           "#1f9e89"
          ],
          [
           0.6666666666666666,
           "#35b779"
          ],
          [
           0.7777777777777778,
           "#6ece58"
          ],
          [
           0.8888888888888888,
           "#b5de2b"
          ],
          [
           1,
           "#fde725"
          ]
         ],
         "type": "surface",
         "x": {
          "bdata": "AAAAAAAAWcDU+pUCtX5YwKj1KwVq/VfAfPDBBx98V8BQ61cK1PpWwCTm7QyJeVbA+OCDDz74VcDM2xkS83ZVwKDWrxSo9VTAdNFFF110VMBIzNsZEvNTwBzHcRzHcVPA8MEHH3zwUsDEvJ0hMW9SwJi3MyTm7VHAbLLJJptsUcBArV8pUOtQwBSo9SsFalDA0UUXXXTRT8B5O0Ni3s5OwCExb2dIzE3AySabbLLJTMBxHMdxHMdLwBkS83aGxErAwgcffPDBScBq/UqBWr9IwBLzdobEvEfAuuiiiy66RsBi3s6QmLdFwArU+pUCtUTAsskmm2yyQ8Bav1Kg1q9CwAK1fqVArUHAqqqqqqqqQMCkQK1fKVA/wPQrBWr9Sj3ARBdddNFFO8CUArV+pUA5wOTtDIl5OzfANNlkk002NcCExLydITEzwNSvFKj1KzHASDbZZJNNLsDoDIl5O0MqwIjjOI7jOCbAKLrooosuIsCQITFvZ0gcwNDOkJi3MxTAQPjggw8+CMCApUCtXynwv4ClQK1fKfA/QPjggw8+CEDgzpCYtzMUQKAhMW9nSBxAMLrooosuIkCQ4ziO4zgmQPAMiXk7QypAUDbZZJNNLkDYrxSo9SsxQIjEvJ0hMTNAONlkk002NUDo7QyJeTs3QJgCtX6lQDlASBdddNFFO0D4KwVq/Uo9QKhArV8pUD9ArKqqqqqqQEAEtX6lQK1BQFy/UqDWr0JAtMkmm2yyQ0AM1PqVArVEQGTezpCYt0VAvOiiiy66RkAU83aGxLxHQGz9SoFav0hAxAcffPDBSUAcEvN2hsRKQHQcx3Ecx0tAzCabbLLJTEAkMW9nSMxNQHw7Q2Lezk5A1EUXXXTRT0AWqPUrBWpQQEKtXylQ61BAbrLJJptsUUCatzMk5u1RQMa8nSExb1JA8sEHH3zwUkAex3Ecx3FTQErM2xkS81NAdtFFF110VECi1q8UqPVUQM7bGRLzdlVA+uCDDz74VUAm5u0MiXlWQFLrVwrU+lZAfPDBBx98V0Co9SsFav1XQNT6lQK1flhAAAAAAAAAWUA=",
          "dtype": "f8"
         },
         "y": {
          "bdata": "AAAAAAAAWcAffPDBB59YwD744IMPPljAXXTRRRfdV8B88MEHH3xXwJtssskmG1fAuuiiiy66VsDZZJNNNllWwPjggw8++FXAF1100UWXVcA22WSTTTZVwFVVVVVV1VTAdNFFF110VMCUTTbZZBNUwLLJJptsslPA0kUXXXRRU8DwwQcffPBSwBA++OCDj1LALrrooosuUsBONtlkk81RwGyyySabbFHAjC666KILUcCqqqqqqqpQwMomm2yySVDA0kUXXXTRT8AQPvjggw9PwE422WSTTU7AjC666KKLTcDKJptssslMwAgffPDBB0zARhdddNFFS8CEDz744INKwMIHH3zwwUnAAAAAAAAAScA++OCDDz5IwHzwwQcffEfAuuiiiy66RsD44IMPPvhFwDbZZJNNNkXAdNFFF110RMCyySabbLJDwPHBBx988ELAL7rooosuQsBssskmm2xBwKqqqqqqqkDA0EUXXXTRP8BMNtlkk00+wMgmm2yyyTzASBdddNFFO8DEBx988ME5wED44IMPPjjAvOiiiy66NsA42WSTTTY1wLTJJptssjPAMLrooosuMsCsqqqqqqowwFA22WSTTS7ASBdddNFFK8BA+OCDDz4owDjZZJNNNiXAMLrooosuIsBQNtlkk00ewED44IMPPhjAMLrooosuEsBA+OCDDz4IwED44IMPPvi/AAAAAAAAAABA+OCDDz74P0D44IMPPghAMLrooosuEkBA+OCDDz4YQFA22WSTTR5AMLrooosuIkA42WSTTTYlQED44IMPPihASBdddNFFK0BQNtlkk00uQKyqqqqqqjBAMLrooosuMkC0ySabbLIzQDjZZJNNNjVAuOiiiy66NkA8+OCDDz44QMAHH3zwwTlARBdddNFFO0DIJptsssk8QFA22WSTTT5A0EUXXXTRP0CsqqqqqqpAQGyyySabbEFAMLrooosuQkDwwQcffPBCQLTJJptsskNAdNFFF110REA42WSTTTZFQPjggw8++EVAuOiiiy66RkB88MEHH3xHQDz44IMPPkhAAAAAAAAASUA=",
          "dtype": "f8"
         },
         "z": {
          "bdata": "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",
          "dtype": "f8",
          "shape": "100, 100"
         }
        }
       ],
       "layout": {
        "height": 800,
        "scene": {
         "xaxis": {
          "title": {
           "text": "W1"
          }
         },
         "yaxis": {
          "title": {
           "text": "b1"
          }
         },
         "zaxis": {
          "title": {
           "text": "Loss"
          }
         }
        },
        "template": {
         "data": {
          "bar": [
           {
            "error_x": {
             "color": "#2a3f5f"
            },
            "error_y": {
             "color": "#2a3f5f"
            },
            "marker": {
             "line": {
              "color": "#E5ECF6",
              "width": 0.5
             },
             "pattern": {
              "fillmode": "overlay",
              "size": 10,
              "solidity": 0.2
             }
            },
            "type": "bar"
           }
          ],
          "barpolar": [
           {
            "marker": {
             "line": {
              "color": "#E5ECF6",
              "width": 0.5
             },
             "pattern": {
              "fillmode": "overlay",
              "size": 10,
              "solidity": 0.2
             }
            },
            "type": "barpolar"
           }
          ],
          "carpet": [
           {
            "aaxis": {
             "endlinecolor": "#2a3f5f",
             "gridcolor": "white",
             "linecolor": "white",
             "minorgridcolor": "white",
             "startlinecolor": "#2a3f5f"
            },
            "baxis": {
             "endlinecolor": "#2a3f5f",
             "gridcolor": "white",
             "linecolor": "white",
             "minorgridcolor": "white",
             "startlinecolor": "#2a3f5f"
            },
            "type": "carpet"
           }
          ],
          "choropleth": [
           {
            "colorbar": {
             "outlinewidth": 0,
             "ticks": ""
            },
            "type": "choropleth"
           }
          ],
          "contour": [
           {
            "colorbar": {
             "outlinewidth": 0,
             "ticks": ""
            },
            "colorscale": [
             [
              0,
              "#0d0887"
             ],
             [
              0.1111111111111111,
              "#46039f"
             ],
             [
              0.2222222222222222,
              "#7201a8"
             ],
             [
              0.3333333333333333,
              "#9c179e"
             ],
             [
              0.4444444444444444,
              "#bd3786"
             ],
             [
              0.5555555555555556,
              "#d8576b"
             ],
             [
              0.6666666666666666,
              "#ed7953"
             ],
             [
              0.7777777777777778,
              "#fb9f3a"
             ],
             [
              0.8888888888888888,
              "#fdca26"
             ],
             [
              1,
              "#f0f921"
             ]
            ],
            "type": "contour"
           }
          ],
          "contourcarpet": [
           {
            "colorbar": {
             "outlinewidth": 0,
             "ticks": ""
            },
            "type": "contourcarpet"
           }
          ],
          "heatmap": [
           {
            "colorbar": {
             "outlinewidth": 0,
             "ticks": ""
            },
            "colorscale": [
             [
              0,
              "#0d0887"
             ],
             [
              0.1111111111111111,
              "#46039f"
             ],
             [
              0.2222222222222222,
              "#7201a8"
             ],
             [
              0.3333333333333333,
              "#9c179e"
             ],
             [
              0.4444444444444444,
              "#bd3786"
             ],
             [
              0.5555555555555556,
              "#d8576b"
             ],
             [
              0.6666666666666666,
              "#ed7953"
             ],
             [
              0.7777777777777778,
              "#fb9f3a"
             ],
             [
              0.8888888888888888,
              "#fdca26"
             ],
             [
              1,
              "#f0f921"
             ]
            ],
            "type": "heatmap"
           }
          ],
          "histogram": [
           {
            "marker": {
             "pattern": {
              "fillmode": "overlay",
              "size": 10,
              "solidity": 0.2
             }
            },
            "type": "histogram"
           }
          ],
          "histogram2d": [
           {
            "colorbar": {
             "outlinewidth": 0,
             "ticks": ""
            },
            "colorscale": [
             [
              0,
              "#0d0887"
             ],
             [
              0.1111111111111111,
              "#46039f"
             ],
             [
              0.2222222222222222,
              "#7201a8"
             ],
             [
              0.3333333333333333,
              "#9c179e"
             ],
             [
              0.4444444444444444,
              "#bd3786"
             ],
             [
              0.5555555555555556,
              "#d8576b"
             ],
             [
              0.6666666666666666,
              "#ed7953"
             ],
             [
              0.7777777777777778,
              "#fb9f3a"
             ],
             [
              0.8888888888888888,
              "#fdca26"
             ],
             [
              1,
              "#f0f921"
             ]
            ],
            "type": "histogram2d"
           }
          ],
          "histogram2dcontour": [
           {
            "colorbar": {
             "outlinewidth": 0,
             "ticks": ""
            },
            "colorscale": [
             [
              0,
              "#0d0887"
             ],
             [
              0.1111111111111111,
              "#46039f"
             ],
             [
              0.2222222222222222,
              "#7201a8"
             ],
             [
              0.3333333333333333,
              "#9c179e"
             ],
             [
              0.4444444444444444,
              "#bd3786"
             ],
             [
              0.5555555555555556,
              "#d8576b"
             ],
             [
              0.6666666666666666,
              "#ed7953"
             ],
             [
              0.7777777777777778,
              "#fb9f3a"
             ],
             [
              0.8888888888888888,
              "#fdca26"
             ],
             [
              1,
              "#f0f921"
             ]
            ],
            "type": "histogram2dcontour"
           }
          ],
          "mesh3d": [
           {
            "colorbar": {
             "outlinewidth": 0,
             "ticks": ""
            },
            "type": "mesh3d"
           }
          ],
          "parcoords": [
           {
            "line": {
             "colorbar": {
              "outlinewidth": 0,
              "ticks": ""
             }
            },
            "type": "parcoords"
           }
          ],
          "pie": [
           {
            "automargin": true,
            "type": "pie"
           }
          ],
          "scatter": [
           {
            "fillpattern": {
             "fillmode": "overlay",
             "size": 10,
             "solidity": 0.2
            },
            "type": "scatter"
           }
          ],
          "scatter3d": [
           {
            "line": {
             "colorbar": {
              "outlinewidth": 0,
              "ticks": ""
             }
            },
            "marker": {
             "colorbar": {
              "outlinewidth": 0,
              "ticks": ""
             }
            },
            "type": "scatter3d"
           }
          ],
          "scattercarpet": [
           {
            "marker": {
             "colorbar": {
              "outlinewidth": 0,
              "ticks": ""
             }
            },
            "type": "scattercarpet"
           }
          ],
          "scattergeo": [
           {
            "marker": {
             "colorbar": {
              "outlinewidth": 0,
              "ticks": ""
             }
            },
            "type": "scattergeo"
           }
          ],
          "scattergl": [
           {
            "marker": {
             "colorbar": {
              "outlinewidth": 0,
              "ticks": ""
             }
            },
            "type": "scattergl"
           }
          ],
          "scattermap": [
           {
            "marker": {
             "colorbar": {
              "outlinewidth": 0,
              "ticks": ""
             }
            },
            "type": "scattermap"
           }
          ],
          "scattermapbox": [
           {
            "marker": {
             "colorbar": {
              "outlinewidth": 0,
              "ticks": ""
             }
            },
            "type": "scattermapbox"
           }
          ],
          "scatterpolar": [
           {
            "marker": {
             "colorbar": {
              "outlinewidth": 0,
              "ticks": ""
             }
            },
            "type": "scatterpolar"
           }
          ],
          "scatterpolargl": [
           {
            "marker": {
             "colorbar": {
              "outlinewidth": 0,
              "ticks": ""
             }
            },
            "type": "scatterpolargl"
           }
          ],
          "scatterternary": [
           {
            "marker": {
             "colorbar": {
              "outlinewidth": 0,
              "ticks": ""
             }
            },
            "type": "scatterternary"
           }
          ],
          "surface": [
           {
            "colorbar": {
             "outlinewidth": 0,
             "ticks": ""
            },
            "colorscale": [
             [
              0,
              "#0d0887"
             ],
             [
              0.1111111111111111,
              "#46039f"
             ],
             [
              0.2222222222222222,
              "#7201a8"
             ],
             [
              0.3333333333333333,
              "#9c179e"
             ],
             [
              0.4444444444444444,
              "#bd3786"
             ],
             [
              0.5555555555555556,
              "#d8576b"
             ],
             [
              0.6666666666666666,
              "#ed7953"
             ],
             [
              0.7777777777777778,
              "#fb9f3a"
             ],
             [
              0.8888888888888888,
              "#fdca26"
             ],
             [
              1,
              "#f0f921"
             ]
            ],
            "type": "surface"
           }
          ],
          "table": [
           {
            "cells": {
             "fill": {
              "color": "#EBF0F8"
             },
             "line": {
              "color": "white"
             }
            },
            "header": {
             "fill": {
              "color": "#C8D4E3"
             },
             "line": {
              "color": "white"
             }
            },
            "type": "table"
           }
          ]
         },
         "layout": {
          "annotationdefaults": {
           "arrowcolor": "#2a3f5f",
           "arrowhead": 0,
           "arrowwidth": 1
          },
          "autotypenumbers": "strict",
          "coloraxis": {
           "colorbar": {
            "outlinewidth": 0,
            "ticks": ""
           }
          },
          "colorscale": {
           "diverging": [
            [
             0,
             "#8e0152"
            ],
            [
             0.1,
             "#c51b7d"
            ],
            [
             0.2,
             "#de77ae"
            ],
            [
             0.3,
             "#f1b6da"
            ],
            [
             0.4,
             "#fde0ef"
            ],
            [
             0.5,
             "#f7f7f7"
            ],
            [
             0.6,
             "#e6f5d0"
            ],
            [
             0.7,
             "#b8e186"
            ],
            [
             0.8,
             "#7fbc41"
            ],
            [
             0.9,
             "#4d9221"
            ],
            [
             1,
             "#276419"
            ]
           ],
           "sequential": [
            [
             0,
             "#0d0887"
            ],
            [
             0.1111111111111111,
             "#46039f"
            ],
            [
             0.2222222222222222,
             "#7201a8"
            ],
            [
             0.3333333333333333,
             "#9c179e"
            ],
            [
             0.4444444444444444,
             "#bd3786"
            ],
            [
             0.5555555555555556,
             "#d8576b"
            ],
            [
             0.6666666666666666,
             "#ed7953"
            ],
            [
             0.7777777777777778,
             "#fb9f3a"
            ],
            [
             0.8888888888888888,
             "#fdca26"
            ],
            [
             1,
             "#f0f921"
            ]
           ],
           "sequentialminus": [
            [
             0,
             "#0d0887"
            ],
            [
             0.1111111111111111,
             "#46039f"
            ],
            [
             0.2222222222222222,
             "#7201a8"
            ],
            [
             0.3333333333333333,
             "#9c179e"
            ],
            [
             0.4444444444444444,
             "#bd3786"
            ],
            [
             0.5555555555555556,
             "#d8576b"
            ],
            [
             0.6666666666666666,
             "#ed7953"
            ],
            [
             0.7777777777777778,
             "#fb9f3a"
            ],
            [
             0.8888888888888888,
             "#fdca26"
            ],
            [
             1,
             "#f0f921"
            ]
           ]
          },
          "colorway": [
           "#636efa",
           "#EF553B",
           "#00cc96",
           "#ab63fa",
           "#FFA15A",
           "#19d3f3",
           "#FF6692",
           "#B6E880",
           "#FF97FF",
           "#FECB52"
          ],
          "font": {
           "color": "#2a3f5f"
          },
          "geo": {
           "bgcolor": "white",
           "lakecolor": "white",
           "landcolor": "#E5ECF6",
           "showlakes": true,
           "showland": true,
           "subunitcolor": "white"
          },
          "hoverlabel": {
           "align": "left"
          },
          "hovermode": "closest",
          "mapbox": {
           "style": "light"
          },
          "paper_bgcolor": "white",
          "plot_bgcolor": "#E5ECF6",
          "polar": {
           "angularaxis": {
            "gridcolor": "white",
            "linecolor": "white",
            "ticks": ""
           },
           "bgcolor": "#E5ECF6",
           "radialaxis": {
            "gridcolor": "white",
            "linecolor": "white",
            "ticks": ""
           }
          },
          "scene": {
           "xaxis": {
            "backgroundcolor": "#E5ECF6",
            "gridcolor": "white",
            "gridwidth": 2,
            "linecolor": "white",
            "showbackground": true,
            "ticks": "",
            "zerolinecolor": "white"
           },
           "yaxis": {
            "backgroundcolor": "#E5ECF6",
            "gridcolor": "white",
            "gridwidth": 2,
            "linecolor": "white",
            "showbackground": true,
            "ticks": "",
            "zerolinecolor": "white"
           },
           "zaxis": {
            "backgroundcolor": "#E5ECF6",
            "gridcolor": "white",
            "gridwidth": 2,
            "linecolor": "white",
            "showbackground": true,
            "ticks": "",
            "zerolinecolor": "white"
           }
          },
          "shapedefaults": {
           "line": {
            "color": "#2a3f5f"
           }
          },
          "ternary": {
           "aaxis": {
            "gridcolor": "white",
            "linecolor": "white",
            "ticks": ""
           },
           "baxis": {
            "gridcolor": "white",
            "linecolor": "white",
            "ticks": ""
           },
           "bgcolor": "#E5ECF6",
           "caxis": {
            "gridcolor": "white",
            "linecolor": "white",
            "ticks": ""
           }
          },
          "title": {
           "x": 0.05
          },
          "xaxis": {
           "automargin": true,
           "gridcolor": "white",
           "linecolor": "white",
           "ticks": "",
           "title": {
            "standoff": 15
           },
           "zerolinecolor": "white",
           "zerolinewidth": 2
          },
          "yaxis": {
           "automargin": true,
           "gridcolor": "white",
           "linecolor": "white",
           "ticks": "",
           "title": {
            "standoff": 15
           },
           "zerolinecolor": "white",
           "zerolinewidth": 2
          }
         }
        },
        "width": 1000
       }
      }
     },
     "metadata": {},
     "output_type": "display_data"
    }
   ],
   "source": [
    "W2_fixed = np.array([[1]])\n",
    "b2_fixed = 0\n",
    "\n",
    "Ws = np.linspace(-100, 100, 100)\n",
    "bs = np.linspace(-100, 50, 100)\n",
    "errs = np.zeros((len(bs), len(Ws)))\n",
    "\n",
    "for i in range(len(bs)):\n",
    "    for j in range(len(Ws)):\n",
    "        W1_val = np.array([[Ws[j]]])\n",
    "        b1_val = bs[i]\n",
    "        X_1d = X[:, 0:1]\n",
    "        z_pred = model(X_1d, W1_val, b1_val, W2_fixed, b2_fixed)\n",
    "        errs[i, j] = sum_of_squares(z_pred, y)\n",
    "\n",
    "fig = go.Figure(data=[go.Surface(x=Ws, y=bs, z=errs, colorscale='Viridis')])\n",
    "fig.update_layout(\n",
    "    scene=dict(\n",
    "        xaxis_title='W1',\n",
    "        yaxis_title='b1',\n",
    "        zaxis_title='Loss'\n",
    "    ),\n",
    "    width=1000,\n",
    "    height=800\n",
    ")\n",
    "fig.show()"
   ]
  },
  {
   "cell_type": "markdown",
   "metadata": {},
   "source": [
    "How do we train such a network? The problem is that the layers in the network are stacked. The weights in the second layer now respond to changes in the weights (and therefore activations) in the first layer. To find the gradients in such a network, we need backpropagation.\n",
    "\n",
    "For now, let's pretend that we have the weights of the network. What kind of function is it fitting?\n"
   ]
  },
  {
   "cell_type": "code",
   "execution_count": 52,
   "metadata": {},
   "outputs": [],
   "source": [
    "W1 = np.array([[-1.03963907]])\n",
    "b1 = np.array([0.04051288])\n",
    "W2 = np.array([[-4.14643086]])\n",
    "b2 = np.array([2.14470982])\n"
   ]
  },
  {
   "cell_type": "code",
   "execution_count": 53,
   "metadata": {},
   "outputs": [
    {
     "ename": "TypeError",
     "evalue": "model() takes 3 positional arguments but 5 were given",
     "output_type": "error",
     "traceback": [
      "\u001b[31m---------------------------------------------------------------------------\u001b[39m",
      "\u001b[31mTypeError\u001b[39m                                 Traceback (most recent call last)",
      "\u001b[36mCell\u001b[39m\u001b[36m \u001b[39m\u001b[32mIn[53]\u001b[39m\u001b[32m, line 1\u001b[39m\n\u001b[32m----> \u001b[39m\u001b[32m1\u001b[39m y_pred = \u001b[43mmodel\u001b[49m\u001b[43m(\u001b[49m\u001b[43mX\u001b[49m\u001b[43m,\u001b[49m\u001b[43m \u001b[49m\u001b[43mW1\u001b[49m\u001b[43m,\u001b[49m\u001b[43m \u001b[49m\u001b[43mb1\u001b[49m\u001b[43m,\u001b[49m\u001b[43m \u001b[49m\u001b[43mW2\u001b[49m\u001b[43m,\u001b[49m\u001b[43m \u001b[49m\u001b[43mb2\u001b[49m\u001b[43m)\u001b[49m\n",
      "\u001b[31mTypeError\u001b[39m: model() takes 3 positional arguments but 5 were given"
     ]
    }
   ],
   "source": [
    "y_pred = model(X, W1, b1, W2, b2)"
   ]
  },
  {
   "cell_type": "code",
   "execution_count": 54,
   "metadata": {},
   "outputs": [
    {
     "data": {
      "image/png": "[encoded data removed]",
      "text/plain": [
       "<Figure size 800x600 with 1 Axes>"
      ]
     },
     "metadata": {},
     "output_type": "display_data"
    }
   ],
   "source": [
    "plt.figure(figsize=(8,6))\n",
    "plt.scatter(df['limit'], y, alpha=0.5, label='Actual')\n",
    "\n",
    "sort_idx = df['limit'].argsort()\n",
    "plt.plot(df['limit'][sort_idx], y_pred[sort_idx], 'r-', label='Predicted')\n",
    "\n",
    "plt.xlabel('Limit')\n",
    "plt.ylabel('Balance')\n",
    "plt.legend()\n",
    "plt.show()\n"
   ]
  }
 ],
 "metadata": {
  "kernelspec": {
   "display_name": ".venv",
   "language": "python",
   "name": "python3"
  },
  "language_info": {
   "codemirror_mode": {
    "name": "ipython",
    "version": 3
   },
   "file_extension": ".py",
   "mimetype": "text/x-python",
   "name": "python",
   "nbconvert_exporter": "python",
   "pygments_lexer": "ipython3",
   "version": "3.12.9"
  }
 },
 "nbformat": 4,
 "nbformat_minor": 2
}
