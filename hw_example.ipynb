{
  "nbformat": 4,
  "nbformat_minor": 0,
  "metadata": {
    "colab": {
      "provenance": [],
      "toc_visible": true
    },
    "kernelspec": {
      "name": "python3",
      "display_name": "Python 3"
    },
    "language_info": {
      "name": "python"
    }
  },
  "cells": [
    {
      "cell_type": "markdown",
      "source": [
        "# Homework 0 - analysis of some dataset\n",
        "\n",
        "Haris Mackevičius\n",
        "\n",
        "## Context\n",
        "The dataset contains this and that. The task was to look into this and that.\n",
        "\n",
        "## Findings\n",
        "- I found this\n",
        "- And discovered that\n"
      ],
      "metadata": {
        "id": "WwXeVetE3Imm"
      }
    },
    {
      "cell_type": "markdown",
      "source": [
        "## Task 1 - analyse this"
      ],
      "metadata": {
        "id": "kkhreagS3YG5"
      }
    },
    {
      "cell_type": "code",
      "source": [
        "# Code"
      ],
      "metadata": {
        "id": "QwpwdVyY3aff"
      },
      "execution_count": null,
      "outputs": []
    },
    {
      "cell_type": "markdown",
      "source": [
        "## Task 2 - analyse that"
      ],
      "metadata": {
        "id": "LzYqwfm-3b11"
      }
    },
    {
      "cell_type": "code",
      "source": [
        "# Code"
      ],
      "metadata": {
        "id": "zMv0yvYp3doN"
      },
      "execution_count": null,
      "outputs": []
    }
  ]
}