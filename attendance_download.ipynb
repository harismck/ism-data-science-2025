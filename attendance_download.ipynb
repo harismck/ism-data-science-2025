{
 "cells": [
  {
   "cell_type": "code",
   "execution_count": 2,
   "metadata": {},
   "outputs": [
    {
     "name": "stderr",
     "output_type": "stream",
     "text": [
      "Retrieving folder contents\n"
     ]
    },
    {
     "name": "stdout",
     "output_type": "stream",
     "text": [
      "Processing file 1149hZILv0gkE_CKTC0G0WYWlWiQhs77f attendance.parquet\n",
      "Processing file 1_vbtVLjSSSo9sfDcT0UAiPpmaYjxcU7R docs.md\n",
      "Processing file 1N4vmsTW8pPUOHF3SeSU64Dqnh4Yc1jm7 school.parquet\n",
      "Processing file 1dRXUIXcOOzByXYD6C9Nbb6zvCnFtt38d subject.parquet\n"
     ]
    },
    {
     "name": "stderr",
     "output_type": "stream",
     "text": [
      "Retrieving folder contents completed\n",
      "Building directory structure\n",
      "Building directory structure completed\n",
      "Downloading...\n",
      "From: https://drive.google.com/uc?id=1149hZILv0gkE_CKTC0G0WYWlWiQhs77f\n",
      "To: /Users/haroldas.mackevicius/personal/ism-data-science-2025/attendance/attendance.parquet\n",
      "100%|██████████| 93.3M/93.3M [00:15<00:00, 6.12MB/s]\n",
      "Downloading...\n",
      "From: https://drive.google.com/uc?id=1_vbtVLjSSSo9sfDcT0UAiPpmaYjxcU7R\n",
      "To: /Users/haroldas.mackevicius/personal/ism-data-science-2025/attendance/docs.md\n",
      "100%|██████████| 2.94k/2.94k [00:00<00:00, 3.99MB/s]\n",
      "Downloading...\n",
      "From: https://drive.google.com/uc?id=1N4vmsTW8pPUOHF3SeSU64Dqnh4Yc1jm7\n",
      "To: /Users/haroldas.mackevicius/personal/ism-data-science-2025/attendance/school.parquet\n",
      "100%|██████████| 32.0k/32.0k [00:00<00:00, 1.64MB/s]\n",
      "Downloading...\n",
      "From: https://drive.google.com/uc?id=1dRXUIXcOOzByXYD6C9Nbb6zvCnFtt38d\n",
      "To: /Users/haroldas.mackevicius/personal/ism-data-science-2025/attendance/subject.parquet\n",
      "100%|██████████| 8.56k/8.56k [00:00<00:00, 15.9MB/s]\n",
      "Download completed\n"
     ]
    },
    {
     "data": {
      "text/plain": [
       "['attendance/attendance.parquet',\n",
       " 'attendance/docs.md',\n",
       " 'attendance/school.parquet',\n",
       " 'attendance/subject.parquet']"
      ]
     },
     "execution_count": 2,
     "metadata": {},
     "output_type": "execute_result"
    }
   ],
   "source": [
    "###\n",
    "# Create a copy of this notebook, then run this cell.\n",
    "# After downloading the folder, delete this cell.\n",
    "###\n",
    "import gdown\n",
    "\n",
    "folder_url = \"https://drive.google.com/drive/folders/1zjBLQbylffOUuldIKPn1tADsvh_jAwmI?usp=sharing\"\n",
    "gdown.download_folder(url=folder_url, output=\"attendance\", quiet=False)\n"
   ]
  },
  {
   "cell_type": "code",
   "execution_count": null,
   "metadata": {},
   "outputs": [],
   "source": []
  }
 ],
 "metadata": {
  "kernelspec": {
   "display_name": ".venv",
   "language": "python",
   "name": "python3"
  },
  "language_info": {
   "codemirror_mode": {
    "name": "ipython",
    "version": 3
   },
   "file_extension": ".py",
   "mimetype": "text/x-python",
   "name": "python",
   "nbconvert_exporter": "python",
   "pygments_lexer": "ipython3",
   "version": "3.11.8"
  }
 },
 "nbformat": 4,
 "nbformat_minor": 2
}
