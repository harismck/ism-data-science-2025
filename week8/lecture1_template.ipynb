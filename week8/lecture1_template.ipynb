{
 "cells": [
  {
   "cell_type": "markdown",
   "metadata": {},
   "source": [
    "# Feature importance\n",
    "\n",
    "Today we'll talk about feature importance and feature selection. The dataset is the same one that we used during week 5 - [adult income dataset](https://archive.ics.uci.edu/dataset/2/adult).\n"
   ]
  },
  {
   "cell_type": "code",
   "execution_count": 1,
   "metadata": {},
   "outputs": [],
   "source": [
    "import pandas as pd\n",
    "import numpy as np\n",
    "import seaborn as sns\n",
    "import matplotlib.pyplot as plt\n",
    "import urllib\n",
    "import zipfile\n",
    "\n",
    "pd.set_option('display.max_columns', None)\n",
    "\n",
    "# Suppress all warnings\n",
    "import warnings\n",
    "warnings.filterwarnings('ignore')\n"
   ]
  },
  {
   "cell_type": "code",
   "execution_count": 2,
   "metadata": {},
   "outputs": [],
   "source": [
    "url = \"https://archive.ics.uci.edu/static/public/2/adult.zip\"\n",
    "urllib.request.urlretrieve(url, \"adult.zip\")\n",
    "\n",
    "with zipfile.ZipFile(\"adult.zip\", \"r\") as zip_ref:\n",
    "    zip_ref.extractall(\"adults\")\n",
    "\n",
    "columns = [\n",
    "    \"age\",\n",
    "    \"workclass\",\n",
    "    \"fnlwgt\",\n",
    "    \"education\",\n",
    "    \"education-num\",\n",
    "    \"marital-status\",\n",
    "    \"occupation\",\n",
    "    \"relationship\",\n",
    "    \"race\",\n",
    "    \"sex\",\n",
    "    \"capital-gain\",\n",
    "    \"capital-loss\",\n",
    "    \"hours-per-week\",\n",
    "    \"native-country\",\n",
    "    \"income\",\n",
    "]\n",
    "\n",
    "# the dataset is pre-split into train and test\n",
    "# I want to do the split myself, so let's join the datasets\n",
    "df1 = pd.read_csv(\"adult.data\", header=None, names=columns)\n",
    "# first row of adult.test is weird, let's remove it\n",
    "df2 = pd.read_csv(\"adult.test\", header=None, names=columns)[1:]\n",
    "df = pd.concat([df1, df2])"
   ]
  },
  {
   "cell_type": "code",
   "execution_count": 3,
   "metadata": {},
   "outputs": [],
   "source": [
    "# Helper function for plotting\n",
    "def plot_importances(importances, features, xlabel=\"importance\"):\n",
    "    df = pd.DataFrame({\n",
    "        'feature': features,\n",
    "        'importance': importances\n",
    "    })\n",
    "    df = df.sort_values('importance', ascending=False)\n",
    "    plt.figure(figsize=(8, 5))\n",
    "    sns.barplot(x='importance', y='feature', data=df)\n",
    "    plt.xlabel(xlabel)\n"
   ]
  },
  {
   "cell_type": "markdown",
   "metadata": {},
   "source": [
    "## Preprocessing"
   ]
  },
  {
   "cell_type": "code",
   "execution_count": 4,
   "metadata": {},
   "outputs": [],
   "source": [
    "# Copying preprocessing from week 5\n",
    "df = df.drop(columns=[\"fnlwgt\"])\n",
    "df = df.rename(columns=lambda x: x.replace(\"-\", \"_\"))\n",
    "# Replace \"?\" with NaN in all columns\n",
    "df = df.replace(\" ?\", None)\n",
    "\n",
    "# map target to more usable 0/1\n",
    "df[\"income\"] = df[\"income\"].str.strip().str.replace(\".\", \"\")\n",
    "df[\"income\"] = df[\"income\"].map({\"<=50K\": 0, \">50K\": 1})\n",
    "\n",
    "# Convert age column to integer type\n",
    "df[\"age\"] = df[\"age\"].astype(int)\n"
   ]
  },
  {
   "cell_type": "code",
   "execution_count": 5,
   "metadata": {},
   "outputs": [],
   "source": [
    "numerical_features = [\n",
    "    \"age\",\n",
    "    \"education_num\",\n",
    "    \"capital_gain\",\n",
    "    \"capital_loss\",\n",
    "    \"hours_per_week\",\n",
    "]\n"
   ]
  },
  {
   "cell_type": "code",
   "execution_count": 6,
   "metadata": {},
   "outputs": [],
   "source": [
    "df = df[numerical_features + [\"income\"]]"
   ]
  },
  {
   "cell_type": "code",
   "execution_count": 7,
   "metadata": {},
   "outputs": [],
   "source": [
    "from sklearn.model_selection import train_test_split\n",
    "\n",
    "# Split the dataset into training and testing sets\n",
    "y_train, y_test, X_train, X_test = train_test_split(\n",
    "    df[\"income\"], df.drop(columns=[\"income\"]), test_size=0.2, random_state=10\n",
    ")\n",
    "\n",
    "# Also split a fix validation set\n",
    "y_train, y_val, X_train, X_val = train_test_split(\n",
    "    y_train, X_train, test_size=0.25, random_state=10\n",
    ")\n"
   ]
  },
  {
   "cell_type": "code",
   "execution_count": null,
   "metadata": {},
   "outputs": [],
   "source": []
  }
 ],
 "metadata": {
  "kernelspec": {
   "display_name": ".venv",
   "language": "python",
   "name": "python3"
  },
  "language_info": {
   "codemirror_mode": {
    "name": "ipython",
    "version": 3
   },
   "file_extension": ".py",
   "mimetype": "text/x-python",
   "name": "python",
   "nbconvert_exporter": "python",
   "pygments_lexer": "ipython3",
   "version": "3.12.9"
  }
 },
 "nbformat": 4,
 "nbformat_minor": 2
}
