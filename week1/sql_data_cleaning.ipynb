{
 "cells": [
  {
   "cell_type": "markdown",
   "metadata": {},
   "source": [
    "# Cleaning and analysis of the attendance dataset\n",
    "\n",
    "This notebook is more about illustrating the process of thinking, rather than doing the analysis the correct way or presenting some results.\n"
   ]
  },
  {
   "cell_type": "code",
   "execution_count": 2,
   "metadata": {},
   "outputs": [],
   "source": [
    "import duckdb"
   ]
  },
  {
   "cell_type": "markdown",
   "metadata": {},
   "source": [
    "# Week 1 - Data Cleaning with SQL and duckdb\n",
    "\n",
    "Let's first extract a clean dataset that we can use in further analysis confidently.\n"
   ]
  },
  {
   "cell_type": "markdown",
   "metadata": {},
   "source": [
    "The first step when facing some new data is to look at it. This is something that applies always, regardless of what problem you're facing - look at your data. Let's look at each table in turn.\n",
    "\n",
    "Here are some best practices:\n",
    "- It's always a good idea to look at a random sample of the data, rather than the first/last N rows.\n",
    "- Begin with small tables first (in our case, `school` and `subject`) - tables that are about a single thing - rather than bigger tables that are a combination of multiple things."
   ]
  },
  {
   "cell_type": "markdown",
   "metadata": {},
   "source": [
    "## school"
   ]
  },
  {
   "cell_type": "code",
   "execution_count": 3,
   "metadata": {},
   "outputs": [
    {
     "name": "stdout",
     "output_type": "stream",
     "text": [
      "┌─────────────────┬─────────────┬───────────────┬─────────────────────────────────────────────────────────────────────┬───────────────┬───────────────────┬───────────────────┐\n",
      "│    unique_id    │ school_code │ division_code │                             school_name                             │ division_name │ municipality_code │ municipality_name │\n",
      "│     varchar     │    int64    │    varchar    │                               varchar                               │    varchar    │       int64       │      varchar      │\n",
      "├─────────────────┼─────────────┼───────────────┼─────────────────────────────────────────────────────────────────────┼───────────────┼───────────────────┼───────────────────┤\n",
      "│ c89c0f68d1153d7 │   190565420 │ NULL          │ Joniškio r. Kriukų pagrindinė mokykla                               │ NULL          │                47 │ Joniškio r. sav.  │\n",
      "│ ac7f313918e5d7c │   191315590 │ NULL          │ Vilniaus r. Maišiagalos kun. Juzefo Obrembskio gimnazija            │ NULL          │                41 │ Vilniaus r. sav.  │\n",
      "│ 075a2f2cb419a41 │   190013393 │ NULL          │ Vilniaus darželis - mokykla „Vaivorykštė“                           │ NULL          │                13 │ Vilniaus m. sav.  │\n",
      "│ fc6c20cfa9cfe86 │   191817949 │ NULL          │ Trakų r. Senųjų Trakų Kęstučio progimnazija                         │ NULL          │                79 │ Trakų r. sav.     │\n",
      "│ bc80adba45cb933 │   190918849 │ NULL          │ Jurbarko r. Seredžiaus Stasio Šimkaus mokykla-daugiafunkcis centras │ NULL          │                94 │ Jurbarko r. sav.  │\n",
      "│ 1aaba07b0802e46 │   190379992 │ NULL          │ Kalvarijos gimnazija                                                │ NULL          │                48 │ Kalvarijos sav.   │\n",
      "│ af77142ba2c42d1 │   190238867 │ NULL          │ Alytaus r. Makniūnų mokykla-daugiafunkcis centras                   │ NULL          │                33 │ Alytaus r. sav.   │\n",
      "│ a59320ec3992762 │   290615290 │ NULL          │ Pasvalio Lėvens pagrindinė mokykla                                  │ NULL          │                67 │ Pasvalio r. sav.  │\n",
      "│ b23c3b0d02bc28e │   190428311 │ NULL          │ Klaipėdos „Varpelio“ mokykla-darželis                               │ NULL          │                21 │ Klaipėdos m. sav. │\n",
      "│ d50df30396e80df │   190108756 │ NULL          │ Varėnos „Ąžuolo“ gimnazija                                          │ NULL          │                38 │ Varėnos r. sav.   │\n",
      "├─────────────────┴─────────────┴───────────────┴─────────────────────────────────────────────────────────────────────┴───────────────┴───────────────────┴───────────────────┤\n",
      "│ 10 rows                                                                                                                                                           7 columns │\n",
      "└─────────────────────────────────────────────────────────────────────────────────────────────────────────────────────────────────────────────────────────────────────────────┘\n",
      "\n"
     ]
    }
   ],
   "source": [
    "duckdb.sql(\n",
    "    \"SELECT * FROM 'attendance/school.parquet' ORDER BY random() LIMIT 10\"\n",
    ").show()"
   ]
  },
  {
   "cell_type": "markdown",
   "metadata": {},
   "source": [
    "`school_code` should be the primary key in this table. Primary key is a column (or several columns) by which a unique row in the table is identified. By stating that `school_code` is a primary key, I explicitly expect two things from the column:\n",
    "- This column has no duplicate values.\n",
    "- This column has no null values.\n",
    "\n",
    "Let's verify these assumptions."
   ]
  },
  {
   "cell_type": "code",
   "execution_count": null,
   "metadata": {},
   "outputs": [
    {
     "name": "stdout",
     "output_type": "stream",
     "text": [
      "┌─────────────┬──────────────┐\n",
      "│ school_code │ count_star() │\n",
      "│    int64    │    int64     │\n",
      "├─────────────┼──────────────┤\n",
      "│   190066944 │            2 │\n",
      "│   190986889 │            2 │\n",
      "│   191130983 │            2 │\n",
      "│   190341810 │            2 │\n",
      "│   195170434 │            2 │\n",
      "│   295093070 │            2 │\n",
      "│   191791956 │            2 │\n",
      "│   190341625 │            2 │\n",
      "│   190697735 │            2 │\n",
      "│   190892856 │            2 │\n",
      "│   190189861 │            2 │\n",
      "│   191090275 │            2 │\n",
      "│   190545880 │            3 │\n",
      "│   290893610 │            2 │\n",
      "│   190696786 │            2 │\n",
      "│   191130079 │            2 │\n",
      "│   302843970 │            2 │\n",
      "├─────────────┴──────────────┤\n",
      "│ 17 rows          2 columns │\n",
      "└────────────────────────────┘\n",
      "\n"
     ]
    }
   ],
   "source": [
    "duckdb.sql(\n",
    "    \"\"\"\n",
    "    SELECT \n",
    "        school_code,\n",
    "        COUNT(*)\n",
    "    FROM 'attendance/school.parquet' \n",
    "    GROUP BY school_code\n",
    "    HAVING COUNT(*) > 1\n",
    "\"\"\"\n",
    ").show()"
   ]
  },
  {
   "cell_type": "markdown",
   "metadata": {},
   "source": [
    "We have duplicates :/ Let's look at a couple of them."
   ]
  },
  {
   "cell_type": "code",
   "execution_count": null,
   "metadata": {},
   "outputs": [
    {
     "name": "stdout",
     "output_type": "stream",
     "text": [
      "┌─────────────────┬─────────────┬───────────────┬─────────────────────────────────────────────┬─────────────────────────────────────────────────────────────────────┬───────────────────┬───────────────────┐\n",
      "│    unique_id    │ school_code │ division_code │                 school_name                 │                            division_name                            │ municipality_code │ municipality_name │\n",
      "│     varchar     │    int64    │    varchar    │                   varchar                   │                               varchar                               │       int64       │      varchar      │\n",
      "├─────────────────┼─────────────┼───────────────┼─────────────────────────────────────────────┼─────────────────────────────────────────────────────────────────────┼───────────────────┼───────────────────┤\n",
      "│ 33ba4eb90b8b20a │   190341810 │ 1446          │ Ukmergės Senamiesčio progimnazija           │ Ukmergės Senamiesčio progimnazijos Laičių pradinio ugdymo skyrius   │                81 │ Ukmergės r. sav.  │\n",
      "│ ac5f5659750060c │   190341810 │ NULL          │ Ukmergės Senamiesčio progimnazija           │ NULL                                                                │                81 │ Ukmergės r. sav.  │\n",
      "│ 171ce47c9346344 │   191130983 │ 7403          │ Plungės r. Žemaitijos kadetų gimnazija      │ Plungės r. Žemaitijos kadetų Kulių gimnazijos skyrius               │                68 │ Plungės r. sav.   │\n",
      "│ b67dc0bfce0e99d │   191130983 │ 7402          │ Plungės r. Žemaitijos kadetų gimnazija      │ Plungės r. Žemaitijos kadetų Žemaičių Kalvarijos gimnazijos skyrius │                68 │ Plungės r. sav.   │\n",
      "│ 401b2cf985dc009 │   191130079 │ NULL          │ Plungės akademiko Adolfo Jucio progimnazija │ NULL                                                                │                68 │ Plungės r. sav.   │\n",
      "│ 524de801ad851e4 │   191130079 │ 7217          │ Plungės akademiko Adolfo Jucio progimnazija │ Plungės akademiko Adolfo Jucio progimnazijos „Saulės“ skyrius       │                68 │ Plungės r. sav.   │\n",
      "└─────────────────┴─────────────┴───────────────┴─────────────────────────────────────────────┴─────────────────────────────────────────────────────────────────────┴───────────────────┴───────────────────┘\n",
      "\n"
     ]
    }
   ],
   "source": [
    "duckdb.sql(\n",
    "    \"\"\"\n",
    "    SELECT *\n",
    "    FROM 'attendance/school.parquet'\n",
    "    WHERE school_code IN (190341810, 191130983, 191130079)\n",
    "\"\"\"\n",
    ").show()"
   ]
  },
  {
   "cell_type": "markdown",
   "metadata": {},
   "source": [
    "Looks like the school table is actually unique by school_code and division_code, but let's verify again"
   ]
  },
  {
   "cell_type": "code",
   "execution_count": null,
   "metadata": {},
   "outputs": [
    {
     "name": "stdout",
     "output_type": "stream",
     "text": [
      "┌─────────────┬───────────────┬──────────────┐\n",
      "│ school_code │ division_code │ count_star() │\n",
      "│    int64    │    varchar    │    int64     │\n",
      "├─────────────┴───────────────┴──────────────┤\n",
      "│                   0 rows                   │\n",
      "└────────────────────────────────────────────┘\n",
      "\n"
     ]
    }
   ],
   "source": [
    "duckdb.sql(\n",
    "    \"\"\"\n",
    "    SELECT \n",
    "        school_code,\n",
    "        division_code,\n",
    "        COUNT(*)\n",
    "    FROM 'attendance/school.parquet' \n",
    "    GROUP BY school_code, division_code\n",
    "    HAVING COUNT(*) > 1\n",
    "\"\"\"\n",
    ").show()"
   ]
  },
  {
   "cell_type": "markdown",
   "metadata": {},
   "source": [
    "This is a data quality issue - it's unclear what division code NULL means, and the table documentation makes it seems that this is data on schools and not school divisions.\n",
    "\n",
    "I'll deal with it in a somewhat silly way - I'll remove cases where `division_code` is not null. This is essentially saying - I won't look at schools that have divisions. Ideally we wouldn't do this, but out of concern for time, let's make this simplification. Also only 17 `school_codes` have the duplicate issue.\n",
    "\n",
    "Simplifying in the beginning of an analysis is a good approach to manage complexity. We still don't know the dataset very well, so let's simplify. Once we are more familiar with the data, we can increase complexity and make our analysis more \"correct\".\n",
    "\n",
    "Let's check if there are no null `school_codes`.\n"
   ]
  },
  {
   "cell_type": "code",
   "execution_count": null,
   "metadata": {},
   "outputs": [
    {
     "data": {
      "text/plain": [
       "┌─────────────────────────────┬──────────────┐\n",
       "│ count(DISTINCT school_code) │ count_star() │\n",
       "│            int64            │    int64     │\n",
       "├─────────────────────────────┼──────────────┤\n",
       "│                         983 │          983 │\n",
       "└─────────────────────────────┴──────────────┘"
      ]
     },
     "metadata": {},
     "output_type": "display_data"
    }
   ],
   "source": [
    "duckdb.sql(\n",
    "    \"\"\"\n",
    "    SELECT \n",
    "        count(distinct school_code),\n",
    "        count(*)\n",
    "    FROM 'attendance/school.parquet' \n",
    "    WHERE division_code IS NULL\n",
    "\"\"\"\n",
    ")"
   ]
  },
  {
   "cell_type": "code",
   "execution_count": null,
   "metadata": {},
   "outputs": [
    {
     "name": "stdout",
     "output_type": "stream",
     "text": [
      "┌─────────────┬─────────────────────────────────────────────────┬─────────────────────┐\n",
      "│ school_code │                   school_name                   │  municipality_name  │\n",
      "│    int64    │                     varchar                     │       varchar       │\n",
      "├─────────────┼─────────────────────────────────────────────────┼─────────────────────┤\n",
      "│   190545880 │ Biržų „Aušros“ pagrindinė mokykla               │ Biržų r. sav.       │\n",
      "│   191130264 │ Plungės „Saulės“ gimnazija                      │ Plungės r. sav.     │\n",
      "│   191814839 │ Mažeikių „Žiburėlio“ pradinė mokykla            │ Mažeikių r. sav.    │\n",
      "│   190507118 │ Švenčionių r. Adutiškio pagrindinė mokykla      │ Švenčionių r. sav.  │\n",
      "│   191317260 │ Vilniaus Trakų Vokės gimnazija                  │ Vilniaus m. sav.    │\n",
      "│   191709681 │ Vilniaus Jono Ivaškevičiaus jaunimo mokykla     │ Vilniaus m. sav.    │\n",
      "│   290486810 │ Vilkaviškio rajono Pajevonio pagrindinė mokykla │ Vilkaviškio r. sav. │\n",
      "│   303283300 │ Panevėžio Raimundo Sargūno sporto gimnazija     │ Panevėžio m. sav.   │\n",
      "│   190486624 │ Vilkaviškio r. Gražiškių gimnazija              │ Vilkaviškio r. sav. │\n",
      "│   191866526 │ Varėnos „Šaltinėlio“ pradinė mokykla            │ Varėnos r. sav.     │\n",
      "├─────────────┴─────────────────────────────────────────────────┴─────────────────────┤\n",
      "│ 10 rows                                                                   3 columns │\n",
      "└─────────────────────────────────────────────────────────────────────────────────────┘\n",
      "\n"
     ]
    }
   ],
   "source": [
    "# Final query for the school table\n",
    "school = \"\"\"\n",
    "    SELECT \n",
    "        school_code, \n",
    "        school_name, \n",
    "        municipality_name\n",
    "    FROM 'attendance/school.parquet' \n",
    "    WHERE division_code IS NULL\n",
    "\"\"\"\n",
    "duckdb.sql(school + \" LIMIT 10\").show()"
   ]
  },
  {
   "cell_type": "markdown",
   "metadata": {},
   "source": [
    "## subject\n"
   ]
  },
  {
   "cell_type": "code",
   "execution_count": null,
   "metadata": {},
   "outputs": [
    {
     "name": "stdout",
     "output_type": "stream",
     "text": [
      "┌─────────────────┬──────────────────┬──────────────┬───────────────────────────────────┬───────────────────────────────────────┐\n",
      "│    unique_id    │ electronic_diary │ subject_code │           subject_name            │            subject_name_en            │\n",
      "│     varchar     │     varchar      │    int64     │              varchar              │                varchar                │\n",
      "├─────────────────┼──────────────────┼──────────────┼───────────────────────────────────┼───────────────────────────────────────┤\n",
      "│ 3426c9d2cf672fb │ Tamo             │        24079 │ Piešimas                          │ Drawing                               │\n",
      "│ a58a6c4e26d54f6 │ Tamo             │         4505 │ Užsienio kalba (antroji, ...)     │ Foreign language (second, ...)        │\n",
      "│ 376ae967fae2520 │ NASC             │        24020 │ Instrumentuotė                    │ Instrumentation                       │\n",
      "│ d9797b6c5143771 │ NASC             │        24007 │ Choro partitūrų skaitymas         │ Choir score reading                   │\n",
      "│ fd760cf127a6ded │ NASC             │        20120 │ Atlikėjo raiška (mušamieji)       │ Performer's expression (percussion)   │\n",
      "│ a0bcefdb4f99010 │ Tamo             │         4301 │ Lotynų kalba ir Antikos kultūra   │ Latin language and Antiquity culture  │\n",
      "│ 7e498128e2b0a33 │ Tamo             │         4103 │ Gimtoji kalba (lenkų)             │ Native language (Polish)              │\n",
      "│ 3fa8ab88233c38e │ Tamo             │        20180 │ Atlikėjo raiška (muzikos teorija) │ Performer's expression (music theory) │\n",
      "│ f3bc38e90a2d900 │ NASC             │         8402 │ Gamtos mokslai                    │ Natural sciences                      │\n",
      "│ b1f45e93bed5800 │ NASC             │        11104 │ Fizinis ugdymas                   │ Physical education                    │\n",
      "├─────────────────┴──────────────────┴──────────────┴───────────────────────────────────┴───────────────────────────────────────┤\n",
      "│ 10 rows                                                                                                             5 columns │\n",
      "└───────────────────────────────────────────────────────────────────────────────────────────────────────────────────────────────┘\n",
      "\n"
     ]
    }
   ],
   "source": [
    "duckdb.sql(\n",
    "    \"SELECT * FROM 'attendance/subject.parquet' ORDER BY random() LIMIT 10\"\n",
    ").show()"
   ]
  },
  {
   "cell_type": "markdown",
   "metadata": {},
   "source": [
    "This table should be unique by `electronic_diary` and `subject_code`, let's check.\n"
   ]
  },
  {
   "cell_type": "code",
   "execution_count": null,
   "metadata": {},
   "outputs": [
    {
     "name": "stdout",
     "output_type": "stream",
     "text": [
      "┌──────────────────┬──────────────┬──────────────┐\n",
      "│ electronic_diary │ subject_code │ count_star() │\n",
      "│     varchar      │    int64     │    int64     │\n",
      "├──────────────────┴──────────────┴──────────────┤\n",
      "│                     0 rows                     │\n",
      "└────────────────────────────────────────────────┘\n",
      "\n"
     ]
    }
   ],
   "source": [
    "duckdb.sql(\n",
    "    \"\"\"\n",
    "    SELECT\n",
    "        electronic_diary,\n",
    "        subject_code,\n",
    "        COUNT(*)\n",
    "    FROM 'attendance/subject.parquet'\n",
    "    GROUP BY all\n",
    "    HAVING COUNT(*) > 1\n",
    "\"\"\"\n",
    ").show()"
   ]
  },
  {
   "cell_type": "code",
   "execution_count": null,
   "metadata": {},
   "outputs": [],
   "source": [
    "# Final query for the subject table\n",
    "subject = \"\"\"\n",
    "    SELECT\n",
    "        electronic_diary,\n",
    "        subject_code,\n",
    "        subject_name_en,\n",
    "    FROM 'attendance/subject.parquet'\n",
    "\"\"\""
   ]
  },
  {
   "cell_type": "markdown",
   "metadata": {},
   "source": [
    "yay!"
   ]
  },
  {
   "cell_type": "markdown",
   "metadata": {},
   "source": [
    "## attendance"
   ]
  },
  {
   "cell_type": "code",
   "execution_count": null,
   "metadata": {},
   "outputs": [
    {
     "name": "stdout",
     "output_type": "stream",
     "text": [
      "┌─────────────────┬───────────────┬─────────────┬───────────────┬───────────────┬──────────────┬──────────────────┬───────────────────┬─────────────────────┬─────────────────────────┬───────────────────────┬───────────────────┐\n",
      "│    unique_id    │ report_period │ school_code │ division_code │ student_class │ subject_code │ electronic_diary │ student_count_nsa │ student_count_diary │ excused_lessons_illness │ excused_lessons_other │ unexcused_lessons │\n",
      "│     varchar     │     date      │    int64    │    varchar    │     int64     │    int64     │     varchar      │       int64       │        int64        │          int64          │         int64         │       int64       │\n",
      "├─────────────────┼───────────────┼─────────────┼───────────────┼───────────────┼──────────────┼──────────────────┼───────────────────┼─────────────────────┼─────────────────────────┼───────────────────────┼───────────────────┤\n",
      "│ 7dfe3db2bf81944 │ 2013-09-01    │   190134683 │ NULL          │             9 │         5701 │ NASC             │               194 │                 193 │                       8 │                    25 │                 0 │\n",
      "│ 9b9fb2acbb92bca │ 2021-06-01    │   290595560 │ NULL          │             7 │        11101 │ Tamo             │                10 │                   7 │                       0 │                     0 │                 0 │\n",
      "│ 0df637622ebe567 │ 2015-03-01    │   290615290 │ NULL          │             8 │         9102 │ NASC             │                62 │                  85 │                       3 │                    18 │                 0 │\n",
      "│ f4b0986a9201f0d │ 2015-03-01    │   191316920 │ NULL          │             9 │         5101 │ NASC             │                43 │                  43 │                       3 │                     4 │                 0 │\n",
      "│ 5cbb4bc9336b2ff │ 2018-04-01    │   191416511 │ NULL          │             8 │         4401 │ NASC             │                 8 │                   8 │                       1 │                     0 │                 0 │\n",
      "│ f465099ace10f40 │ 2022-06-01    │   190545880 │ NULL          │             2 │         4001 │ Tamo             │                57 │                   9 │                      23 │                     0 │                 0 │\n",
      "│ 590a3338e69a2db │ 2017-06-01    │   190486624 │ NULL          │             7 │        12001 │ NASC             │                15 │                  15 │                       0 │                     0 │                 0 │\n",
      "│ 9825a963b5bbf4e │ 2021-09-01    │   190672739 │ NULL          │             9 │        10100 │ NASC             │                14 │                  14 │                       0 │                     0 │                 0 │\n",
      "│ 97ce556f42acd90 │ 2025-01-01    │   190661671 │ NULL          │             7 │         9102 │ Tamo             │                78 │                  78 │                      14 │                     1 │                11 │\n",
      "│ 1d6d26d5f56d706 │ 2017-10-01    │   190109096 │ NULL          │             9 │         5301 │ NASC             │                 7 │                   7 │                       6 │                     0 │                 0 │\n",
      "├─────────────────┴───────────────┴─────────────┴───────────────┴───────────────┴──────────────┴──────────────────┴───────────────────┴─────────────────────┴─────────────────────────┴───────────────────────┴───────────────────┤\n",
      "│ 10 rows                                                                                                                                                                                                              12 columns │\n",
      "└─────────────────────────────────────────────────────────────────────────────────────────────────────────────────────────────────────────────────────────────────────────────────────────────────────────────────────────────────┘\n",
      "\n"
     ]
    }
   ],
   "source": [
    "duckdb.sql(\n",
    "    \"SELECT * FROM 'attendance/attendance.parquet' ORDER BY random() LIMIT 10\"\n",
    ").show()"
   ]
  },
  {
   "cell_type": "markdown",
   "metadata": {},
   "source": [
    "- The rows in this table should be unique by `report_period`, `school_code`, `student_class` and `subject_code`. I should add `division_code` to this list, but I've already decided to not use that column. `electronic_diary` is not in this list because, if I remember correctly, each school uses just one of the diaries.\n",
    "- `school_code` is the foreign key from the school table, while `subject_code` and `electronic_diary` are foreign keys, therefore I expect them to not have any NULL values.\n",
    "\n",
    "Let's verify.\n"
   ]
  },
  {
   "cell_type": "code",
   "execution_count": null,
   "metadata": {},
   "outputs": [
    {
     "name": "stdout",
     "output_type": "stream",
     "text": [
      "┌───────────────┬─────────────┬───────────────┬──────────────┬──────────────┐\n",
      "│ report_period │ school_code │ student_class │ subject_code │ count_star() │\n",
      "│     date      │    int64    │     int64     │    int64     │    int64     │\n",
      "├───────────────┼─────────────┼───────────────┼──────────────┼──────────────┤\n",
      "│ 2024-04-01    │   191024624 │            10 │         6001 │            2 │\n",
      "│ 2024-12-01    │   191024624 │            10 │         5301 │            2 │\n",
      "│ 2024-05-01    │   190193030 │             9 │         8101 │            2 │\n",
      "│ 2020-03-01    │   190046347 │            10 │         8101 │            2 │\n",
      "│ 2024-04-01    │   300594972 │            11 │         4001 │            2 │\n",
      "│ 2020-03-01    │   191316354 │             8 │         9101 │            2 │\n",
      "│ 2024-02-01    │   190139463 │            10 │         5301 │            2 │\n",
      "│ 2024-03-01    │   190189676 │            11 │         5301 │            2 │\n",
      "│ 2019-10-01    │   190438615 │             5 │            1 │            2 │\n",
      "│ 2024-06-01    │   190533045 │             8 │         3001 │            2 │\n",
      "│     ·         │       ·     │             · │           ·  │            · │\n",
      "│     ·         │       ·     │             · │           ·  │            · │\n",
      "│     ·         │       ·     │             · │           ·  │            · │\n",
      "│ 2023-11-01    │   190160653 │             8 │         4001 │            2 │\n",
      "│ 2024-09-01    │   190486624 │             6 │         6001 │            2 │\n",
      "│ 2023-12-01    │   190004615 │             8 │         6001 │            2 │\n",
      "│ 2024-06-01    │   191824413 │             7 │         4401 │            2 │\n",
      "│ 2024-12-01    │   290983050 │            10 │         9102 │            2 │\n",
      "│ 2024-01-01    │   190379088 │             5 │         8402 │            2 │\n",
      "│ 2024-04-01    │   190176458 │             7 │         4001 │            2 │\n",
      "│ 2025-01-01    │   190002411 │             9 │         5301 │            2 │\n",
      "│ 2024-09-01    │   190438049 │            12 │         6001 │            2 │\n",
      "│ 2019-10-01    │   191316354 │             8 │         9102 │            2 │\n",
      "├───────────────┴─────────────┴───────────────┴──────────────┴──────────────┤\n",
      "│ ? rows (>9999 rows, 20 shown)                                   5 columns │\n",
      "└───────────────────────────────────────────────────────────────────────────┘\n",
      "\n"
     ]
    }
   ],
   "source": [
    "duckdb.sql(\n",
    "    \"\"\"\n",
    "    SELECT \n",
    "        report_period,\n",
    "        school_code,\n",
    "        student_class,\n",
    "        subject_code,\n",
    "        COUNT(*)\n",
    "    FROM 'attendance/attendance.parquet'\n",
    "    WHERE division_code IS NULL\n",
    "    GROUP BY all\n",
    "    HAVING COUNT(*) > 1\n",
    "\"\"\"\n",
    ").show()"
   ]
  },
  {
   "cell_type": "markdown",
   "metadata": {},
   "source": [
    "We have duplicates in the dataset again. But how many duplicates?"
   ]
  },
  {
   "cell_type": "code",
   "execution_count": null,
   "metadata": {},
   "outputs": [
    {
     "data": {
      "text/plain": [
       "(18776, 5)"
      ]
     },
     "metadata": {},
     "output_type": "display_data"
    }
   ],
   "source": [
    "duckdb.sql(\n",
    "    \"\"\"\n",
    "    SELECT \n",
    "        report_period,\n",
    "        school_code,\n",
    "        student_class,\n",
    "        subject_code,\n",
    "        COUNT(*)\n",
    "    FROM 'attendance/attendance.parquet'\n",
    "    WHERE division_code IS NULL\n",
    "    GROUP BY all\n",
    "    HAVING COUNT(*) > 1\n",
    "    ORDER BY random()\n",
    "\"\"\"\n",
    ").df().shape"
   ]
  },
  {
   "cell_type": "markdown",
   "metadata": {},
   "source": [
    "Quite a few duplicated rows. \n",
    "\n",
    "Maybe I should have also included `electronic_diary` among the columns by which the attendance table is unique? This is weird, because why would a single class in a single school use two diaries? But weird things happen."
   ]
  },
  {
   "cell_type": "code",
   "execution_count": null,
   "metadata": {},
   "outputs": [
    {
     "data": {
      "text/plain": [
       "(12668, 7)"
      ]
     },
     "metadata": {},
     "output_type": "display_data"
    }
   ],
   "source": [
    "duckdb.sql(\n",
    "    \"\"\"\n",
    "    SELECT \n",
    "        report_period,\n",
    "        school_code,\n",
    "        division_code,\n",
    "        student_class,\n",
    "        subject_code,\n",
    "        electronic_diary,\n",
    "        COUNT(*)\n",
    "    FROM 'attendance/attendance.parquet'\n",
    "    WHERE division_code IS NULL\n",
    "    GROUP BY all\n",
    "    HAVING COUNT(*) > 1\n",
    "    ORDER BY random()\n",
    "\"\"\"\n",
    ").df().shape"
   ]
  },
  {
   "cell_type": "markdown",
   "metadata": {},
   "source": [
    "Ok, even grouping by `electronic_diary`, we have duplicates in the dataset. Let's look at several duplicated rows again."
   ]
  },
  {
   "cell_type": "code",
   "execution_count": null,
   "metadata": {},
   "outputs": [
    {
     "name": "stdout",
     "output_type": "stream",
     "text": [
      "┌───────────────┬─────────────┬───────────────┬───────────────┬──────────────┬──────────────────┬──────────────┐\n",
      "│ report_period │ school_code │ division_code │ student_class │ subject_code │ electronic_diary │ count_star() │\n",
      "│     date      │    int64    │    varchar    │     int64     │    int64     │     varchar      │    int64     │\n",
      "├───────────────┼─────────────┼───────────────┼───────────────┼──────────────┼──────────────────┼──────────────┤\n",
      "│ 2024-01-01    │   190139278 │ NULL          │             8 │         8101 │ NASC             │            2 │\n",
      "│ 2024-06-01    │   190244044 │ NULL          │            11 │         9102 │ NASC             │            2 │\n",
      "│ 2024-05-01    │   190672543 │ NULL          │             7 │         8301 │ NASC             │            2 │\n",
      "│ 2024-03-01    │   190533045 │ NULL          │             8 │         6001 │ NASC             │            2 │\n",
      "│ 2024-11-01    │   190004615 │ NULL          │             6 │         3001 │ NASC             │            2 │\n",
      "└───────────────┴─────────────┴───────────────┴───────────────┴──────────────┴──────────────────┴──────────────┘\n",
      "\n"
     ]
    }
   ],
   "source": [
    "duckdb.sql(\n",
    "    \"\"\"\n",
    "    SELECT \n",
    "        report_period,\n",
    "        school_code,\n",
    "        division_code,\n",
    "        student_class,\n",
    "        subject_code,\n",
    "        electronic_diary,\n",
    "        COUNT(*)\n",
    "    FROM 'attendance/attendance.parquet'\n",
    "    WHERE division_code IS NULL\n",
    "    GROUP BY all\n",
    "    HAVING COUNT(*) > 1\n",
    "    ORDER BY random()\n",
    "    LIMIT 5\n",
    "\"\"\"\n",
    ").show()"
   ]
  },
  {
   "cell_type": "code",
   "execution_count": null,
   "metadata": {},
   "outputs": [
    {
     "data": {
      "text/plain": [
       "┌─────────────────┬───────────────┬─────────────┬───────────────┬───────────────┬──────────────┬──────────────────┬───────────────────┬─────────────────────┬─────────────────────────┬───────────────────────┬───────────────────┐\n",
       "│    unique_id    │ report_period │ school_code │ division_code │ student_class │ subject_code │ electronic_diary │ student_count_nsa │ student_count_diary │ excused_lessons_illness │ excused_lessons_other │ unexcused_lessons │\n",
       "│     varchar     │     date      │    int64    │    varchar    │     int64     │    int64     │     varchar      │       int64       │        int64        │          int64          │         int64         │       int64       │\n",
       "├─────────────────┼───────────────┼─────────────┼───────────────┼───────────────┼──────────────┼──────────────────┼───────────────────┼─────────────────────┼─────────────────────────┼───────────────────────┼───────────────────┤\n",
       "│ 047c0a11c721ffe │ 2015-11-01    │   290984490 │ NULL          │             1 │         9101 │ NASC             │                 5 │                   4 │                       3 │                     0 │                 0 │\n",
       "│ 3302d5804c84a6f │ 2015-12-01    │   290984490 │ NULL          │             1 │         9101 │ NASC             │                 5 │                   2 │                       0 │                     1 │                 0 │\n",
       "│ 4222e230eb28caf │ 2016-02-01    │   290984490 │ NULL          │             1 │         9101 │ NASC             │                 5 │                   3 │                       4 │                     2 │                 0 │\n",
       "│ 391defb92e89285 │ 2016-03-01    │   290984490 │ NULL          │             1 │         9101 │ NASC             │                 5 │                   3 │                       0 │                     2 │                 0 │\n",
       "│ e658ad4ab0393fb │ 2017-01-01    │   290984490 │ NULL          │             1 │         9101 │ NASC             │                 3 │                   2 │                       0 │                     0 │                 0 │\n",
       "│ d615d82959f5e93 │ 2017-05-01    │   290984490 │ NULL          │             1 │         9101 │ NASC             │                 3 │                   2 │                       0 │                     0 │                 0 │\n",
       "│ ffd8e48584e3896 │ 2017-10-01    │   290984490 │ NULL          │             1 │         9101 │ NASC             │                 7 │                   2 │                       1 │                     0 │                 0 │\n",
       "│ 904628eb64cd323 │ 2017-11-01    │   290984490 │ NULL          │             1 │         9101 │ NASC             │                 8 │                   8 │                       2 │                     0 │                 0 │\n",
       "│ d78d3dd9cd7f28f │ 2018-01-01    │   290984490 │ NULL          │             1 │         9101 │ NASC             │                 8 │                  11 │                       1 │                     1 │                 0 │\n",
       "│ bcc4318462c5595 │ 2018-03-01    │   290984490 │ NULL          │             1 │         9101 │ NASC             │                 8 │                   9 │                       3 │                     0 │                 0 │\n",
       "│        ·        │     ·         │       ·     │  ·            │             · │           ·  │  ·               │                 · │                   · │                       · │                     · │                 · │\n",
       "│        ·        │     ·         │       ·     │  ·            │             · │           ·  │  ·               │                 · │                   · │                       · │                     · │                 · │\n",
       "│        ·        │     ·         │       ·     │  ·            │             · │           ·  │  ·               │                 · │                   · │                       · │                     · │                 · │\n",
       "│ 914c71d8f68c130 │ 2023-11-01    │   290984490 │ NULL          │             1 │         9101 │ NASC             │                 5 │                   4 │                       4 │                     0 │                 0 │\n",
       "│ a163580f3da5523 │ 2023-11-01    │   290984490 │ NULL          │             1 │         9101 │ NASC             │                 5 │                   4 │                       4 │                     0 │                 0 │\n",
       "│ 841eee08ec7ff1c │ 2023-12-01    │   290984490 │ NULL          │             1 │         9101 │ NASC             │                 5 │                   4 │                       4 │                     0 │                 0 │\n",
       "│ 8aa2cd9e603ee05 │ 2024-01-01    │   290984490 │ NULL          │             1 │         9101 │ NASC             │                 6 │                   6 │                       4 │                     0 │                 0 │\n",
       "│ 651f44df7b1398e │ 2024-04-01    │   290984490 │ NULL          │             1 │         9101 │ NASC             │                 6 │                   3 │                       1 │                     0 │                 0 │\n",
       "│ d880c0e26d35d0c │ 2024-04-01    │   290984490 │ NULL          │             1 │         9101 │ NASC             │                 6 │                   3 │                       2 │                     0 │                 0 │\n",
       "│ 87a7f88e0752409 │ 2024-05-01    │   290984490 │ NULL          │             1 │         9101 │ NASC             │                 6 │                   4 │                       1 │                     0 │                 0 │\n",
       "│ e00f8cabcbb0433 │ 2024-05-01    │   290984490 │ NULL          │             1 │         9101 │ NASC             │                 6 │                   4 │                       2 │                     0 │                 0 │\n",
       "│ 61b4fec90d169da │ 2024-06-01    │   290984490 │ NULL          │             1 │         9101 │ NASC             │                 6 │                   6 │                       4 │                     0 │                 0 │\n",
       "│ e518642fdd3cac5 │ 2024-06-01    │   290984490 │ NULL          │             1 │         9101 │ NASC             │                 6 │                   6 │                       2 │                     0 │                 0 │\n",
       "├─────────────────┴───────────────┴─────────────┴───────────────┴───────────────┴──────────────┴──────────────────┴───────────────────┴─────────────────────┴─────────────────────────┴───────────────────────┴───────────────────┤\n",
       "│ 36 rows (20 shown)                                                                                                                                                                                                   12 columns │\n",
       "└─────────────────────────────────────────────────────────────────────────────────────────────────────────────────────────────────────────────────────────────────────────────────────────────────────────────────────────────────┘"
      ]
     },
     "metadata": {},
     "output_type": "display_data"
    }
   ],
   "source": [
    "# Here I'm taking the first row from above and inserting the required values\n",
    "duckdb.sql(\n",
    "    \"\"\"\n",
    "    SELECT\n",
    "        *\n",
    "    FROM 'attendance/attendance.parquet'\n",
    "    WHERE division_code IS NULL\n",
    "    AND school_code = 290984490\n",
    "    AND student_class = 1\n",
    "    AND subject_code = 9101\n",
    "    ORDER BY report_period\n",
    "\"\"\"\n",
    ")"
   ]
  },
  {
   "cell_type": "markdown",
   "metadata": {},
   "source": [
    "It seems that in this case we just have duplicated rows. Here's what I'm noticing:\n",
    "- for the duplicated rows, values in columns `student_count_diary` and `student_count_nsa` are the same.\n",
    "- Values for the other columns (`excused_lessons_illness` etc.) are usually different. \n",
    "\n",
    "To solve the problem of duplicates in this table, I'll just aggregated by the columns that "
   ]
  },
  {
   "cell_type": "code",
   "execution_count": null,
   "metadata": {},
   "outputs": [
    {
     "name": "stdout",
     "output_type": "stream",
     "text": [
      "┌───────────────┬─────────────┬───────────────┬──────────────┬──────────────────┬─────────────────────┬─────────────────────────┬───────────────────────┬───────────────────┐\n",
      "│ report_period │ school_code │ student_class │ subject_code │ electronic_diary │ student_count_diary │ excused_lessons_illness │ excused_lessons_other │ unexcused_lessons │\n",
      "│     date      │    int64    │     int64     │    int64     │     varchar      │        int64        │         int128          │        int128         │      int128       │\n",
      "├───────────────┼─────────────┼───────────────┼──────────────┼──────────────────┼─────────────────────┼─────────────────────────┼───────────────────────┼───────────────────┤\n",
      "│ 2018-11-01    │   190007344 │             9 │         8101 │ NASC             │                  25 │                      13 │                     6 │                 0 │\n",
      "│ 2016-04-01    │   191017430 │             5 │            1 │ NASC             │                  13 │                       0 │                     1 │                 0 │\n",
      "│ 2018-02-01    │   190581816 │             8 │         4001 │ NASC             │                  12 │                      13 │                     0 │                 0 │\n",
      "│ 2021-03-01    │   191090841 │             6 │         4403 │ NASC             │                  33 │                       0 │                     0 │                 0 │\n",
      "│ 2022-09-01    │   190714921 │             3 │         5103 │ Tamo             │                   4 │                       1 │                     2 │                 0 │\n",
      "│ 2020-06-01    │   303382953 │             6 │         5301 │ Tamo             │                  86 │                       0 │                     0 │                 0 │\n",
      "│ 2021-12-01    │   190400881 │             5 │        10100 │ NASC             │                  17 │                       7 │                     3 │                 0 │\n",
      "│ 2022-09-01    │   191316692 │             6 │        11104 │ Tamo             │                  61 │                      28 │                     3 │                 2 │\n",
      "│ 2021-05-01    │   190439140 │             8 │         9101 │ NASC             │                 139 │                       0 │                     4 │                 0 │\n",
      "│ 2017-01-01    │   291814110 │            10 │         3001 │ NASC             │                  68 │                       0 │                     0 │                 0 │\n",
      "├───────────────┴─────────────┴───────────────┴──────────────┴──────────────────┴─────────────────────┴─────────────────────────┴───────────────────────┴───────────────────┤\n",
      "│ 10 rows                                                                                                                                                         9 columns │\n",
      "└───────────────────────────────────────────────────────────────────────────────────────────────────────────────────────────────────────────────────────────────────────────┘\n",
      "\n"
     ]
    }
   ],
   "source": [
    "attendance = \"\"\"\n",
    "    SELECT\n",
    "        report_period,\n",
    "        school_code,\n",
    "        student_class,\n",
    "        subject_code,\n",
    "        electronic_diary,\n",
    "        FIRST(student_count_diary) student_count_diary,\n",
    "        SUM(excused_lessons_illness) excused_lessons_illness,\n",
    "        SUM(excused_lessons_other) excused_lessons_other,\n",
    "        SUM(unexcused_lessons) unexcused_lessons\n",
    "    FROM 'attendance/attendance.parquet'\n",
    "    WHERE division_code IS NULL\n",
    "    GROUP BY all\n",
    "\"\"\"\n",
    "duckdb.sql(attendance + \" LIMIT 10\").show()"
   ]
  },
  {
   "cell_type": "markdown",
   "metadata": {},
   "source": [
    "I now have a dataset that I am sure is unique by `report_period`, `school_code`, `student_class` and `subject_code`, `electronic_diary` because that's how GROUP BY works.\n"
   ]
  },
  {
   "cell_type": "code",
   "execution_count": null,
   "metadata": {},
   "outputs": [
    {
     "name": "stdout",
     "output_type": "stream",
     "text": [
      "┌─────────────────┬───────────────┬─────────────┬───────────────┬───────────────┬──────────────┬──────────────────┬───────────────────┬─────────────────────┬─────────────────────────┬───────────────────────┬───────────────────┐\n",
      "│    unique_id    │ report_period │ school_code │ division_code │ student_class │ subject_code │ electronic_diary │ student_count_nsa │ student_count_diary │ excused_lessons_illness │ excused_lessons_other │ unexcused_lessons │\n",
      "│     varchar     │     date      │    int64    │    varchar    │     int64     │    int64     │     varchar      │       int64       │        int64        │          int64          │         int64         │       int64       │\n",
      "├─────────────────┼───────────────┼─────────────┼───────────────┼───────────────┼──────────────┼──────────────────┼───────────────────┼─────────────────────┼─────────────────────────┼───────────────────────┼───────────────────┤\n",
      "│ 090e52480e60f23 │ 2019-01-01    │   190001124 │ NULL          │            12 │         9105 │ Tamo             │               152 │                 152 │                      18 │                     4 │                 4 │\n",
      "│ 1aad33307f9e38d │ 2019-01-01    │   190001124 │ NULL          │            12 │         4001 │ Tamo             │               152 │                 152 │                     324 │                    67 │               206 │\n",
      "│ 1f07da06f4a2fe0 │ 2019-01-01    │   190001124 │ NULL          │            12 │         8101 │ Tamo             │               152 │                 152 │                      81 │                    13 │                46 │\n",
      "│ 222ff16bc9aba9f │ 2019-01-01    │   190001124 │ NULL          │            12 │         4403 │ Tamo             │               152 │                 152 │                      34 │                    27 │                19 │\n",
      "│ 3726dbf8b6a9fc9 │ 2019-01-01    │   190001124 │ NULL          │            12 │         9104 │ Tamo             │               152 │                 152 │                       9 │                     0 │                17 │\n",
      "│ 472c6d02789e9b2 │ 2019-01-01    │   190001124 │ NULL          │            12 │         7101 │ Tamo             │               152 │                 152 │                      45 │                    11 │                37 │\n",
      "│ 4cee852028a9f01 │ 2019-01-01    │   190001124 │ NULL          │            12 │         6001 │ Tamo             │               152 │                 152 │                     231 │                    40 │               118 │\n",
      "│ 51be2284a885b1d │ 2019-01-01    │   190001124 │ NULL          │            12 │         9103 │ Tamo             │               152 │                 152 │                       6 │                     4 │                 2 │\n",
      "│ 55b253c71b7fddf │ 2019-01-01    │   190001124 │ NULL          │            12 │        14002 │ Tamo             │               152 │                 152 │                      25 │                     3 │                36 │\n",
      "│ 5dfe05acf731dc2 │ 2019-01-01    │   190001124 │ NULL          │            12 │         9102 │ Tamo             │               152 │                 152 │                      39 │                     4 │                12 │\n",
      "│ 66e8d5c6c3276ce │ 2019-01-01    │   190001124 │ NULL          │            12 │         4401 │ Tamo             │               152 │                 152 │                     241 │                    39 │               168 │\n",
      "│ 9d27ade0c64e9ee │ 2019-01-01    │   190001124 │ NULL          │            12 │         9101 │ Tamo             │               152 │                 152 │                       0 │                     0 │                 0 │\n",
      "│ 9fe429219049dba │ 2019-01-01    │   190001124 │ NULL          │            12 │         5101 │ Tamo             │               152 │                 152 │                     133 │                    18 │                97 │\n",
      "│ a539434826efe6c │ 2019-01-01    │   190001124 │ NULL          │            12 │         4404 │ Tamo             │               152 │                 152 │                      18 │                     7 │                24 │\n",
      "│ a5f2cce81ce60ae │ 2019-01-01    │   190001124 │ NULL          │            12 │         5403 │ Tamo             │               152 │                 152 │                      18 │                     4 │                20 │\n",
      "│ a7b930f880328bc │ 2019-01-01    │   190001124 │ NULL          │            12 │         5301 │ Tamo             │               152 │                 152 │                      42 │                    24 │                36 │\n",
      "│ aa97e06e337d72c │ 2019-01-01    │   190001124 │ NULL          │            12 │        11101 │ Tamo             │               152 │                 152 │                      98 │                    22 │                95 │\n",
      "│ d42327b6f256b40 │ 2019-01-01    │   190001124 │ NULL          │            12 │        10113 │ Tamo             │               152 │                 152 │                      20 │                     6 │                 4 │\n",
      "│ e34f541576a5aec │ 2019-01-01    │   190001124 │ NULL          │            12 │         8201 │ Tamo             │               152 │                 152 │                      45 │                    13 │                25 │\n",
      "│ f2d16724384a319 │ 2019-01-01    │   190001124 │ NULL          │            12 │         4402 │ Tamo             │               152 │                 152 │                       1 │                     0 │                 4 │\n",
      "│ fa40952c723a669 │ 2019-01-01    │   190001124 │ NULL          │            12 │         8301 │ Tamo             │               152 │                 152 │                      42 │                    15 │                29 │\n",
      "│ fee7d6953991f3d │ 2019-01-01    │   190001124 │ NULL          │            12 │        16001 │ Tamo             │               152 │                 152 │                      15 │                     0 │                14 │\n",
      "├─────────────────┴───────────────┴─────────────┴───────────────┴───────────────┴──────────────┴──────────────────┴───────────────────┴─────────────────────┴─────────────────────────┴───────────────────────┴───────────────────┤\n",
      "│ 22 rows                                                                                                                                                                                                              12 columns │\n",
      "└─────────────────────────────────────────────────────────────────────────────────────────────────────────────────────────────────────────────────────────────────────────────────────────────────────────────────────────────────┘\n",
      "\n"
     ]
    }
   ],
   "source": [
    "duckdb.sql(\n",
    "    \"SELECT * FROM 'attendance/attendance.parquet'\"\n",
    "    \"WHERE report_period = '2019-01-01'\"\n",
    "    \"AND school_code = 190001124\"\n",
    "    \"AND student_class = 12\"\n",
    ").show()"
   ]
  },
  {
   "cell_type": "markdown",
   "metadata": {},
   "source": [
    "## final query"
   ]
  },
  {
   "cell_type": "markdown",
   "metadata": {},
   "source": [
    "Ok, I think I'm ready to work on the final dataset now, so let's join everything together. I saved my queries into Python variables for a reason - now combining them is very easy. \n",
    "\n",
    "Keep in mind, that below I'm only using the WITH statement and inserting the tables separately because to all of them except the `subject` table I had to apply some sort of deduplication or grouping - logic that I now want to end up in the final query as well.\n",
    "\n",
    "Also note that we're using GROUP BY to get rid of the `electronic_diary` column. There are some rows that have the same `school`, `subject`, `period` and `student_class`, but different `electronic_diary` values. I'm not sure what explains this, maybe it's schools transitioning from one diary to another. For my analysis, however, having the `electronic_diary` column is not important, therefore let's get rid of it.\n",
    "\n",
    "Also note how big the final query is - that's a lot of logic! It would have been very tricky to such a query from the get go. That's why we went through this iterative process in the seminar.\n"
   ]
  },
  {
   "cell_type": "code",
   "execution_count": 5,
   "metadata": {},
   "outputs": [
    {
     "name": "stdout",
     "output_type": "stream",
     "text": [
      "\n",
      "WITH attendance AS (\n",
      "    SELECT\n",
      "        report_period,\n",
      "        school_code,\n",
      "        student_class,\n",
      "        subject_code,\n",
      "        electronic_diary,\n",
      "        FIRST(student_count_diary) student_count_diary,\n",
      "        SUM(excused_lessons_illness) excused_lessons_illness,\n",
      "        SUM(excused_lessons_other) excused_lessons_other,\n",
      "        SUM(unexcused_lessons) unexcused_lessons\n",
      "    FROM 'attendance/attendance.parquet'\n",
      "    WHERE division_code IS NULL\n",
      "    GROUP BY all\n",
      "),\n",
      "    school AS (\n",
      "    SELECT \n",
      "        school_code, \n",
      "        school_name, \n",
      "        municipality_name\n",
      "    FROM 'attendance/school.parquet' \n",
      "    WHERE division_code IS NULL\n",
      "),\n",
      "    subject AS (\n",
      "    SELECT\n",
      "        electronic_diary,\n",
      "        subject_code,\n",
      "        subject_name_en,\n",
      "    FROM 'attendance/subject.parquet'\n",
      ")\n",
      "SELECT\n",
      "    school.school_name,\n",
      "    school.school_code,\n",
      "    school.municipality_name,\n",
      "    attendance.student_class,\n",
      "    attendance.report_period,\n",
      "    subject.subject_name_en,\n",
      "    FIRST(attendance.student_count_diary) AS student_count,\n",
      "    SUM(attendance.excused_lessons_illness) AS excused_lessons_illness,\n",
      "    SUM(attendance.excused_lessons_other) AS excused_lessons_other,\n",
      "    SUM(attendance.unexcused_lessons) AS unexcused_lessons\n",
      "FROM attendance\n",
      "JOIN school ON attendance.school_code = school.school_code\n",
      "JOIN subject ON attendance.subject_code = subject.subject_code\n",
      "    AND attendance.electronic_diary = subject.electronic_diary\n",
      "GROUP BY all\n",
      "\n"
     ]
    }
   ],
   "source": [
    "attendance = \"\"\"\n",
    "    SELECT\n",
    "        report_period,\n",
    "        school_code,\n",
    "        student_class,\n",
    "        subject_code,\n",
    "        electronic_diary,\n",
    "        FIRST(student_count_diary) student_count_diary,\n",
    "        SUM(excused_lessons_illness) excused_lessons_illness,\n",
    "        SUM(excused_lessons_other) excused_lessons_other,\n",
    "        SUM(unexcused_lessons) unexcused_lessons\n",
    "    FROM 'attendance/attendance.parquet'\n",
    "    WHERE division_code IS NULL\n",
    "    GROUP BY all\n",
    "\"\"\"\n",
    "\n",
    "subject = \"\"\"\n",
    "    SELECT\n",
    "        electronic_diary,\n",
    "        subject_code,\n",
    "        subject_name_en,\n",
    "    FROM 'attendance/subject.parquet'\n",
    "\"\"\"\n",
    "\n",
    "school = \"\"\"\n",
    "    SELECT \n",
    "        school_code, \n",
    "        school_name, \n",
    "        municipality_name\n",
    "    FROM 'attendance/school.parquet' \n",
    "    WHERE division_code IS NULL\n",
    "\"\"\"\n",
    "\n",
    "\n",
    "query = f\"\"\"\n",
    "WITH attendance AS ({attendance}),\n",
    "    school AS ({school}),\n",
    "    subject AS ({subject})\n",
    "SELECT\n",
    "    school.school_name,\n",
    "    school.school_code,\n",
    "    school.municipality_name,\n",
    "    attendance.student_class,\n",
    "    attendance.report_period,\n",
    "    subject.subject_name_en,\n",
    "    FIRST(attendance.student_count_diary) AS student_count,\n",
    "    SUM(attendance.excused_lessons_illness) AS excused_lessons_illness,\n",
    "    SUM(attendance.excused_lessons_other) AS excused_lessons_other,\n",
    "    SUM(attendance.unexcused_lessons) AS unexcused_lessons\n",
    "FROM attendance\n",
    "JOIN school ON attendance.school_code = school.school_code\n",
    "JOIN subject ON attendance.subject_code = subject.subject_code\n",
    "    AND attendance.electronic_diary = subject.electronic_diary\n",
    "GROUP BY all\n",
    "\"\"\"\n",
    "print(query)"
   ]
  },
  {
   "cell_type": "code",
   "execution_count": 6,
   "metadata": {},
   "outputs": [
    {
     "data": {
      "text/html": [
       "<div>\n",
       "<style scoped>\n",
       "    .dataframe tbody tr th:only-of-type {\n",
       "        vertical-align: middle;\n",
       "    }\n",
       "\n",
       "    .dataframe tbody tr th {\n",
       "        vertical-align: top;\n",
       "    }\n",
       "\n",
       "    .dataframe thead th {\n",
       "        text-align: right;\n",
       "    }\n",
       "</style>\n",
       "<table border=\"1\" class=\"dataframe\">\n",
       "  <thead>\n",
       "    <tr style=\"text-align: right;\">\n",
       "      <th></th>\n",
       "      <th>school_name</th>\n",
       "      <th>school_code</th>\n",
       "      <th>municipality_name</th>\n",
       "      <th>student_class</th>\n",
       "      <th>report_period</th>\n",
       "      <th>subject_name_en</th>\n",
       "      <th>student_count</th>\n",
       "      <th>excused_lessons_illness</th>\n",
       "      <th>excused_lessons_other</th>\n",
       "      <th>unexcused_lessons</th>\n",
       "    </tr>\n",
       "  </thead>\n",
       "  <tbody>\n",
       "    <tr>\n",
       "      <th>0</th>\n",
       "      <td>Kauno „Aušros“ gimnazija</td>\n",
       "      <td>190133777</td>\n",
       "      <td>Kauno m. sav.</td>\n",
       "      <td>11</td>\n",
       "      <td>2022-01-01</td>\n",
       "      <td>History</td>\n",
       "      <td>129</td>\n",
       "      <td>149.0</td>\n",
       "      <td>18.0</td>\n",
       "      <td>4.0</td>\n",
       "    </tr>\n",
       "    <tr>\n",
       "      <th>1</th>\n",
       "      <td>Elektrėnų sav. Semeliškių gimnazija</td>\n",
       "      <td>190664977</td>\n",
       "      <td>Elektrėnų sav.</td>\n",
       "      <td>10</td>\n",
       "      <td>2019-10-01</td>\n",
       "      <td>Biology</td>\n",
       "      <td>18</td>\n",
       "      <td>8.0</td>\n",
       "      <td>0.0</td>\n",
       "      <td>0.0</td>\n",
       "    </tr>\n",
       "    <tr>\n",
       "      <th>2</th>\n",
       "      <td>Kauno Simono Daukanto progimnazija</td>\n",
       "      <td>190136734</td>\n",
       "      <td>Kauno m. sav.</td>\n",
       "      <td>7</td>\n",
       "      <td>2021-04-01</td>\n",
       "      <td>Music</td>\n",
       "      <td>140</td>\n",
       "      <td>12.0</td>\n",
       "      <td>22.0</td>\n",
       "      <td>1.0</td>\n",
       "    </tr>\n",
       "    <tr>\n",
       "      <th>3</th>\n",
       "      <td>Kauno „Vyturio“ gimnazija</td>\n",
       "      <td>190136887</td>\n",
       "      <td>Kauno m. sav.</td>\n",
       "      <td>6</td>\n",
       "      <td>2022-04-01</td>\n",
       "      <td>Subject module</td>\n",
       "      <td>94</td>\n",
       "      <td>31.0</td>\n",
       "      <td>8.0</td>\n",
       "      <td>0.0</td>\n",
       "    </tr>\n",
       "    <tr>\n",
       "      <th>4</th>\n",
       "      <td>Ukmergės r. Deltuvos pagrindinė mokykla</td>\n",
       "      <td>190343829</td>\n",
       "      <td>Ukmergės r. sav.</td>\n",
       "      <td>8</td>\n",
       "      <td>2018-09-01</td>\n",
       "      <td>Fine arts</td>\n",
       "      <td>7</td>\n",
       "      <td>2.0</td>\n",
       "      <td>0.0</td>\n",
       "      <td>0.0</td>\n",
       "    </tr>\n",
       "    <tr>\n",
       "      <th>...</th>\n",
       "      <td>...</td>\n",
       "      <td>...</td>\n",
       "      <td>...</td>\n",
       "      <td>...</td>\n",
       "      <td>...</td>\n",
       "      <td>...</td>\n",
       "      <td>...</td>\n",
       "      <td>...</td>\n",
       "      <td>...</td>\n",
       "      <td>...</td>\n",
       "    </tr>\n",
       "    <tr>\n",
       "      <th>4912871</th>\n",
       "      <td>Klaipėdos licėjus</td>\n",
       "      <td>191832328</td>\n",
       "      <td>Klaipėdos m. sav.</td>\n",
       "      <td>7</td>\n",
       "      <td>2024-02-01</td>\n",
       "      <td>Geography</td>\n",
       "      <td>90</td>\n",
       "      <td>26.0</td>\n",
       "      <td>17.0</td>\n",
       "      <td>0.0</td>\n",
       "    </tr>\n",
       "    <tr>\n",
       "      <th>4912872</th>\n",
       "      <td>Visagino „Žiburio“ pagrindinė mokykla</td>\n",
       "      <td>193170510</td>\n",
       "      <td>Visagino sav.</td>\n",
       "      <td>7</td>\n",
       "      <td>2021-09-01</td>\n",
       "      <td>Ethical education (ethics)</td>\n",
       "      <td>30</td>\n",
       "      <td>1.0</td>\n",
       "      <td>0.0</td>\n",
       "      <td>0.0</td>\n",
       "    </tr>\n",
       "    <tr>\n",
       "      <th>4912873</th>\n",
       "      <td>Kelmės r. Pakražančio gimnazija</td>\n",
       "      <td>190093788</td>\n",
       "      <td>Kelmės r. sav.</td>\n",
       "      <td>5</td>\n",
       "      <td>2023-09-01</td>\n",
       "      <td>Technologies</td>\n",
       "      <td>7</td>\n",
       "      <td>2.0</td>\n",
       "      <td>0.0</td>\n",
       "      <td>0.0</td>\n",
       "    </tr>\n",
       "    <tr>\n",
       "      <th>4912874</th>\n",
       "      <td>Kauno Senamiesčio progimnazija</td>\n",
       "      <td>191816085</td>\n",
       "      <td>Kauno m. sav.</td>\n",
       "      <td>4</td>\n",
       "      <td>2024-09-01</td>\n",
       "      <td>Foreign language (first, English)</td>\n",
       "      <td>33</td>\n",
       "      <td>58.0</td>\n",
       "      <td>0.0</td>\n",
       "      <td>0.0</td>\n",
       "    </tr>\n",
       "    <tr>\n",
       "      <th>4912875</th>\n",
       "      <td>Visagino „Žiburio“ pagrindinė mokykla</td>\n",
       "      <td>193170510</td>\n",
       "      <td>Visagino sav.</td>\n",
       "      <td>2</td>\n",
       "      <td>2018-11-01</td>\n",
       "      <td>World studies</td>\n",
       "      <td>10</td>\n",
       "      <td>9.0</td>\n",
       "      <td>0.0</td>\n",
       "      <td>0.0</td>\n",
       "    </tr>\n",
       "  </tbody>\n",
       "</table>\n",
       "<p>4912876 rows × 10 columns</p>\n",
       "</div>"
      ],
      "text/plain": [
       "                                     school_name  school_code  \\\n",
       "0                       Kauno „Aušros“ gimnazija    190133777   \n",
       "1            Elektrėnų sav. Semeliškių gimnazija    190664977   \n",
       "2             Kauno Simono Daukanto progimnazija    190136734   \n",
       "3                      Kauno „Vyturio“ gimnazija    190136887   \n",
       "4        Ukmergės r. Deltuvos pagrindinė mokykla    190343829   \n",
       "...                                          ...          ...   \n",
       "4912871                        Klaipėdos licėjus    191832328   \n",
       "4912872    Visagino „Žiburio“ pagrindinė mokykla    193170510   \n",
       "4912873          Kelmės r. Pakražančio gimnazija    190093788   \n",
       "4912874           Kauno Senamiesčio progimnazija    191816085   \n",
       "4912875    Visagino „Žiburio“ pagrindinė mokykla    193170510   \n",
       "\n",
       "         municipality_name  student_class report_period  \\\n",
       "0            Kauno m. sav.             11    2022-01-01   \n",
       "1           Elektrėnų sav.             10    2019-10-01   \n",
       "2            Kauno m. sav.              7    2021-04-01   \n",
       "3            Kauno m. sav.              6    2022-04-01   \n",
       "4         Ukmergės r. sav.              8    2018-09-01   \n",
       "...                    ...            ...           ...   \n",
       "4912871  Klaipėdos m. sav.              7    2024-02-01   \n",
       "4912872      Visagino sav.              7    2021-09-01   \n",
       "4912873     Kelmės r. sav.              5    2023-09-01   \n",
       "4912874      Kauno m. sav.              4    2024-09-01   \n",
       "4912875      Visagino sav.              2    2018-11-01   \n",
       "\n",
       "                           subject_name_en  student_count  \\\n",
       "0                                  History            129   \n",
       "1                                  Biology             18   \n",
       "2                                    Music            140   \n",
       "3                           Subject module             94   \n",
       "4                                Fine arts              7   \n",
       "...                                    ...            ...   \n",
       "4912871                          Geography             90   \n",
       "4912872         Ethical education (ethics)             30   \n",
       "4912873                       Technologies              7   \n",
       "4912874  Foreign language (first, English)             33   \n",
       "4912875                      World studies             10   \n",
       "\n",
       "         excused_lessons_illness  excused_lessons_other  unexcused_lessons  \n",
       "0                          149.0                   18.0                4.0  \n",
       "1                            8.0                    0.0                0.0  \n",
       "2                           12.0                   22.0                1.0  \n",
       "3                           31.0                    8.0                0.0  \n",
       "4                            2.0                    0.0                0.0  \n",
       "...                          ...                    ...                ...  \n",
       "4912871                     26.0                   17.0                0.0  \n",
       "4912872                      1.0                    0.0                0.0  \n",
       "4912873                      2.0                    0.0                0.0  \n",
       "4912874                     58.0                    0.0                0.0  \n",
       "4912875                      9.0                    0.0                0.0  \n",
       "\n",
       "[4912876 rows x 10 columns]"
      ]
     },
     "execution_count": 6,
     "metadata": {},
     "output_type": "execute_result"
    }
   ],
   "source": [
    "duckdb.sql(query).df()"
   ]
  },
  {
   "cell_type": "code",
   "execution_count": null,
   "metadata": {},
   "outputs": [],
   "source": []
  }
 ],
 "metadata": {
  "kernelspec": {
   "display_name": ".venv",
   "language": "python",
   "name": "python3"
  },
  "language_info": {
   "codemirror_mode": {
    "name": "ipython",
    "version": 3
   },
   "file_extension": ".py",
   "mimetype": "text/x-python",
   "name": "python",
   "nbconvert_exporter": "python",
   "pygments_lexer": "ipython3",
   "version": "3.11.8"
  }
 },
 "nbformat": 4,
 "nbformat_minor": 2
}
