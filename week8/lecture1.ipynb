{
 "cells": [
  {
   "cell_type": "markdown",
   "metadata": {},
   "source": [
    "# Feature importance\n",
    "\n",
    "Today we'll talk about feature importance and feature selection. The dataset is the same one that we used during week 5 - [adult income dataset](https://archive.ics.uci.edu/dataset/2/adult).\n"
   ]
  },
  {
   "cell_type": "code",
   "execution_count": 1,
   "metadata": {},
   "outputs": [],
   "source": [
    "import pandas as pd\n",
    "import numpy as np\n",
    "import seaborn as sns\n",
    "import matplotlib.pyplot as plt\n",
    "import urllib\n",
    "import zipfile\n",
    "\n",
    "pd.set_option('display.max_columns', None)\n",
    "\n",
    "# Suppress all warnings\n",
    "import warnings\n",
    "warnings.filterwarnings('ignore')\n"
   ]
  },
  {
   "cell_type": "code",
   "execution_count": 2,
   "metadata": {},
   "outputs": [],
   "source": [
    "url = \"https://archive.ics.uci.edu/static/public/2/adult.zip\"\n",
    "urllib.request.urlretrieve(url, \"adult.zip\")\n",
    "\n",
    "with zipfile.ZipFile(\"adult.zip\", \"r\") as zip_ref:\n",
    "    zip_ref.extractall(\"adults\")\n",
    "\n",
    "columns = [\n",
    "    \"age\",\n",
    "    \"workclass\",\n",
    "    \"fnlwgt\",\n",
    "    \"education\",\n",
    "    \"education-num\",\n",
    "    \"marital-status\",\n",
    "    \"occupation\",\n",
    "    \"relationship\",\n",
    "    \"race\",\n",
    "    \"sex\",\n",
    "    \"capital-gain\",\n",
    "    \"capital-loss\",\n",
    "    \"hours-per-week\",\n",
    "    \"native-country\",\n",
    "    \"income\",\n",
    "]\n",
    "\n",
    "# the dataset is pre-split into train and test\n",
    "# I want to do the split myself, so let's join the datasets\n",
    "df1 = pd.read_csv(\"adult.data\", header=None, names=columns)\n",
    "# first row of adult.test is weird, let's remove it\n",
    "df2 = pd.read_csv(\"adult.test\", header=None, names=columns)[1:]\n",
    "df = pd.concat([df1, df2])"
   ]
  },
  {
   "cell_type": "code",
   "execution_count": 3,
   "metadata": {},
   "outputs": [],
   "source": [
    "# Helper function for plotting\n",
    "def plot_importances(importances, features, xlabel=\"importance\"):\n",
    "    df = pd.DataFrame({\n",
    "        'feature': features,\n",
    "        'importance': importances\n",
    "    })\n",
    "    df = df.sort_values('importance', ascending=False)\n",
    "    plt.figure(figsize=(8, 5))\n",
    "    sns.barplot(x='importance', y='feature', data=df)\n",
    "    plt.xlabel(xlabel)\n"
   ]
  },
  {
   "cell_type": "markdown",
   "metadata": {},
   "source": [
    "## Preprocessing"
   ]
  },
  {
   "cell_type": "code",
   "execution_count": 4,
   "metadata": {},
   "outputs": [],
   "source": [
    "# Copying preprocessing from week 5\n",
    "df = df.drop(columns=[\"fnlwgt\"])\n",
    "df = df.rename(columns=lambda x: x.replace(\"-\", \"_\"))\n",
    "# Replace \"?\" with NaN in all columns\n",
    "df = df.replace(\" ?\", None)\n",
    "\n",
    "# map target to more usable 0/1\n",
    "df[\"income\"] = df[\"income\"].str.strip().str.replace(\".\", \"\")\n",
    "df[\"income\"] = df[\"income\"].map({\"<=50K\": 0, \">50K\": 1})\n",
    "\n",
    "# Convert age column to integer type\n",
    "df[\"age\"] = df[\"age\"].astype(int)\n"
   ]
  },
  {
   "cell_type": "code",
   "execution_count": 5,
   "metadata": {},
   "outputs": [],
   "source": [
    "numerical_features = [\n",
    "    \"age\",\n",
    "    \"education_num\",\n",
    "    \"capital_gain\",\n",
    "    \"capital_loss\",\n",
    "    \"hours_per_week\",\n",
    "]\n"
   ]
  },
  {
   "cell_type": "code",
   "execution_count": 6,
   "metadata": {},
   "outputs": [],
   "source": [
    "df = df[numerical_features + [\"income\"]]"
   ]
  },
  {
   "cell_type": "code",
   "execution_count": 7,
   "metadata": {},
   "outputs": [],
   "source": [
    "from sklearn.model_selection import train_test_split\n",
    "\n",
    "# Split the dataset into training and testing sets\n",
    "y_train, y_test, X_train, X_test = train_test_split(\n",
    "    df[\"income\"], df.drop(columns=[\"income\"]), test_size=0.2, random_state=10\n",
    ")\n",
    "\n",
    "# Also split a fix validation set\n",
    "y_train, y_val, X_train, X_val = train_test_split(\n",
    "    y_train, X_train, test_size=0.25, random_state=10\n",
    ")\n"
   ]
  },
  {
   "cell_type": "markdown",
   "metadata": {},
   "source": [
    "## Feature Importance\n",
    "\n",
    "Not every predictor we use in a model is equal - some have a lot of signal and contribute a lot to the prediction accuracy, and some barely matter or don't matter at all. More features means a more complex model, and additional complexity always has to be justified. Therefore, if we have features in a model that do not contribute to the model's accuracy, we'd rather remove the features.\n",
    "\n",
    "Some algorithms, like random forests, give feature importances out of the box. \n"
   ]
  },
  {
   "cell_type": "code",
   "execution_count": 8,
   "metadata": {},
   "outputs": [],
   "source": [
    "from sklearn.ensemble import RandomForestClassifier\n",
    "\n",
    "rf_model = RandomForestClassifier(n_estimators=50, max_depth=10, min_samples_split=10, random_state=42)"
   ]
  },
  {
   "cell_type": "markdown",
   "metadata": {},
   "source": [
    "Let's quickly check how good this model is."
   ]
  },
  {
   "cell_type": "code",
   "execution_count": 9,
   "metadata": {},
   "outputs": [
    {
     "name": "stdout",
     "output_type": "stream",
     "text": [
      "Mean ROC AUC: 0.8626\n"
     ]
    }
   ],
   "source": [
    "from sklearn.model_selection import cross_val_score\n",
    "\n",
    "cv_scores = cross_val_score(rf_model, X_train, y_train, cv=5, scoring='roc_auc', n_jobs=-1)\n",
    "print(f\"Mean ROC AUC: {cv_scores.mean():.4f}\")\n"
   ]
  },
  {
   "cell_type": "code",
   "execution_count": 10,
   "metadata": {},
   "outputs": [
    {
     "data": {
      "image/png": "[encoded data removed]",
      "text/plain": [
       "<Figure size 800x500 with 1 Axes>"
      ]
     },
     "metadata": {},
     "output_type": "display_data"
    }
   ],
   "source": [
    "rf_model.fit(X_train, y_train)\n",
    "plot_importances(rf_model.feature_importances_, X_train.columns)\n"
   ]
  },
  {
   "cell_type": "markdown",
   "metadata": {},
   "source": [
    "It seems that of all features that we used in the mnodel, `capital_loss` and `hours_per_week` are the least important ones. So what happens if we remove those features from the model?"
   ]
  },
  {
   "cell_type": "code",
   "execution_count": 11,
   "metadata": {},
   "outputs": [
    {
     "name": "stdout",
     "output_type": "stream",
     "text": [
      "original: 0.8626\n",
      "removed features: 0.8422\n"
     ]
    }
   ],
   "source": [
    "cv_scores_reduced = cross_val_score(\n",
    "    rf_model,\n",
    "    X_train.drop([\"capital_loss\", \"hours_per_week\"], axis=1),\n",
    "    y_train,\n",
    "    cv=5,\n",
    "    scoring=\"roc_auc\",\n",
    "    n_jobs=-1,\n",
    ")\n",
    "\n",
    "print(f\"original: {cv_scores.mean():.4f}\")\n",
    "print(f\"removed features: {cv_scores_reduced.mean():.4f}\")\n"
   ]
  },
  {
   "cell_type": "markdown",
   "metadata": {},
   "source": [
    "We can also check the impact to model's performance from removing the most important feature."
   ]
  },
  {
   "cell_type": "code",
   "execution_count": 12,
   "metadata": {},
   "outputs": [
    {
     "name": "stdout",
     "output_type": "stream",
     "text": [
      "original: 0.8626\n",
      "removed features: 0.8301\n"
     ]
    }
   ],
   "source": [
    "cv_scores_reduced = cross_val_score(\n",
    "    rf_model,\n",
    "    X_train.drop([\"capital_gain\"], axis=1),\n",
    "    y_train,\n",
    "    cv=5,\n",
    "    scoring=\"roc_auc\",\n",
    "    n_jobs=-1,\n",
    ")\n",
    "\n",
    "print(f\"original: {cv_scores.mean():.4f}\")\n",
    "print(f\"removed features: {cv_scores_reduced.mean():.4f}\")\n"
   ]
  },
  {
   "cell_type": "markdown",
   "metadata": {},
   "source": [
    "Average reduction in the criterion (in the case above - gini criterion) is a model-dependent way to calculate feature importances. One popular model-agnostic way to calculate feature importances is called permutation importance.\n",
    "\n",
    "The algorithm goes roughly as follows:\n",
    "1. Train the model on original dataset.\n",
    "2. Evaluate the trained model via cross validation.\n",
    "2. For each feature:\n",
    "    1. Permute the feature - the single column in the dataset is randomly shuffled. This removes any association between the feature and the target variable.\n",
    "    2. Make predictions and evaluate the model on the training data.\n",
    "    3. Calculate the performance drop.\n"
   ]
  },
  {
   "cell_type": "code",
   "execution_count": 13,
   "metadata": {},
   "outputs": [
    {
     "data": {
      "image/png": "[encoded data removed]",
      "text/plain": [
       "<Figure size 800x500 with 1 Axes>"
      ]
     },
     "metadata": {},
     "output_type": "display_data"
    }
   ],
   "source": [
    "from sklearn.inspection import permutation_importance\n",
    "\n",
    "prem_imp = permutation_importance(rf_model, X_val, y_val, n_repeats=10, n_jobs=-1)\n",
    "\n",
    "plot_importances(\n",
    "    prem_imp.importances_mean, X_val.columns, xlabel=\"Mean Decrease in ROC AUC\"\n",
    ")\n"
   ]
  },
  {
   "cell_type": "markdown",
   "metadata": {},
   "source": [
    "### Task\n",
    "\n",
    "Fit a Logistic Regression model with default hyperparameters. Calculate the feature importances of the model using permutation importance.\n",
    "\n",
    "Also, think about the following - does Logistic Regression, like Random Forests, have a in-built feature importances? What is the closest that logistic regression has to feature importances?"
   ]
  },
  {
   "cell_type": "code",
   "execution_count": null,
   "metadata": {},
   "outputs": [
    {
     "data": {
      "image/png": "[encoded data removed]",
      "text/plain": [
       "<Figure size 800x500 with 1 Axes>"
      ]
     },
     "metadata": {},
     "output_type": "display_data"
    }
   ],
   "source": [
    "# Answer\n",
    "from sklearn.linear_model import LogisticRegression\n",
    "\n",
    "lr_model = LogisticRegression(random_state=42, max_iter=1000)\n",
    "lr_model.fit(X_train, y_train)\n",
    "\n",
    "perm_imp = permutation_importance(\n",
    "    lr_model, X_val, y_val, n_repeats=10, n_jobs=-1, scoring=\"roc_auc\"\n",
    ")\n",
    "\n",
    "plot_importances(\n",
    "    perm_imp.importances_mean, X_val.columns, xlabel=\"Mean Decrease in ROC AUC\"\n",
    ")"
   ]
  },
  {
   "cell_type": "markdown",
   "metadata": {},
   "source": [
    "Logistic regression can also be considered to come with feature importances built in, however, there is a very important caveat."
   ]
  },
  {
   "cell_type": "markdown",
   "metadata": {},
   "source": [
    "### Task\n",
    "\n",
    "Plot the coefficients of the logistic regression model we fitted above using `plot_importances`.\n",
    "\n",
    "What do you see and why?\n"
   ]
  },
  {
   "cell_type": "code",
   "execution_count": 15,
   "metadata": {},
   "outputs": [
    {
     "data": {
      "image/png": "[encoded data removed]",
      "text/plain": [
       "<Figure size 800x500 with 1 Axes>"
      ]
     },
     "metadata": {},
     "output_type": "display_data"
    }
   ],
   "source": [
    "from sklearn.linear_model import LogisticRegression\n",
    "\n",
    "plot_importances(np.abs(lr_model.coef_[0]), X_train.columns, xlabel=\"Coefficient Magnitude\")\n"
   ]
  },
  {
   "cell_type": "code",
   "execution_count": 16,
   "metadata": {},
   "outputs": [
    {
     "data": {
      "text/plain": [
       "array([0.0426114 , 0.31948319, 0.00033978, 0.00063647, 0.03990867])"
      ]
     },
     "execution_count": 16,
     "metadata": {},
     "output_type": "execute_result"
    }
   ],
   "source": [
    "lr_model.coef_[0]"
   ]
  },
  {
   "cell_type": "code",
   "execution_count": 17,
   "metadata": {},
   "outputs": [
    {
     "data": {
      "text/html": [
       "<div>\n",
       "<style scoped>\n",
       "    .dataframe tbody tr th:only-of-type {\n",
       "        vertical-align: middle;\n",
       "    }\n",
       "\n",
       "    .dataframe tbody tr th {\n",
       "        vertical-align: top;\n",
       "    }\n",
       "\n",
       "    .dataframe thead th {\n",
       "        text-align: right;\n",
       "    }\n",
       "</style>\n",
       "<table border=\"1\" class=\"dataframe\">\n",
       "  <thead>\n",
       "    <tr style=\"text-align: right;\">\n",
       "      <th></th>\n",
       "      <th>age</th>\n",
       "      <th>education_num</th>\n",
       "      <th>capital_gain</th>\n",
       "      <th>capital_loss</th>\n",
       "      <th>hours_per_week</th>\n",
       "    </tr>\n",
       "  </thead>\n",
       "  <tbody>\n",
       "    <tr>\n",
       "      <th>min</th>\n",
       "      <td>17.000000</td>\n",
       "      <td>1.000000</td>\n",
       "      <td>0.000000</td>\n",
       "      <td>0.000000</td>\n",
       "      <td>1.000000</td>\n",
       "    </tr>\n",
       "    <tr>\n",
       "      <th>max</th>\n",
       "      <td>90.000000</td>\n",
       "      <td>16.000000</td>\n",
       "      <td>99999.000000</td>\n",
       "      <td>4356.000000</td>\n",
       "      <td>99.000000</td>\n",
       "    </tr>\n",
       "    <tr>\n",
       "      <th>mean</th>\n",
       "      <td>38.542895</td>\n",
       "      <td>10.071390</td>\n",
       "      <td>1073.906156</td>\n",
       "      <td>89.249898</td>\n",
       "      <td>40.402675</td>\n",
       "    </tr>\n",
       "    <tr>\n",
       "      <th>std</th>\n",
       "      <td>13.679714</td>\n",
       "      <td>2.576441</td>\n",
       "      <td>7422.751528</td>\n",
       "      <td>406.239263</td>\n",
       "      <td>12.403925</td>\n",
       "    </tr>\n",
       "  </tbody>\n",
       "</table>\n",
       "</div>"
      ],
      "text/plain": [
       "            age  education_num  capital_gain  capital_loss  hours_per_week\n",
       "min   17.000000       1.000000      0.000000      0.000000        1.000000\n",
       "max   90.000000      16.000000  99999.000000   4356.000000       99.000000\n",
       "mean  38.542895      10.071390   1073.906156     89.249898       40.402675\n",
       "std   13.679714       2.576441   7422.751528    406.239263       12.403925"
      ]
     },
     "execution_count": 17,
     "metadata": {},
     "output_type": "execute_result"
    }
   ],
   "source": [
    "X_train.agg([\"min\", \"max\", \"mean\", \"std\"])"
   ]
  },
  {
   "cell_type": "markdown",
   "metadata": {},
   "source": [
    "## Model Explainability\n",
    "\n",
    "In logistic or linear regression, we can explain the models via coefficients - a coefficient basically says what impact a one-unit increase in the predictor has on the prediction value (log-odds in case of logistic regression). Decision trees are likewise quite transparent, since we can explain the value of a single prediction by going down the tree. However, the same cannot be said about random forests.\n",
    "\n",
    "Having explainable models is important in sensitive domains such as medicine and banking, since there we not only care about having accurate decisions, but we also care about being able to explain why the model made a specific decision - models have to be auditable. However, there is a conflict here - interpretable models are less complex and are therefore less accurate than random forests or neural networks.\n",
    "\n",
    "We call non-interpretable models black-box models - they are black boxes that receive data and output a prediction, but it's diffucult to udnerstand what's going on inside the algorithm. We also refer to interpretable models as glass-box models. Model-agnostic feature importances can be helpful here, but e.g. permutation importance is a *global* interpretability method and will not help us understand why a single prediction was made.\n",
    "\n",
    "\n",
    "# ![Model Explainability](explainability.png)\n",
    "\n",
    "\n"
   ]
  },
  {
   "cell_type": "code",
   "execution_count": null,
   "metadata": {},
   "outputs": [],
   "source": []
  }
 ],
 "metadata": {
  "kernelspec": {
   "display_name": ".venv",
   "language": "python",
   "name": "python3"
  },
  "language_info": {
   "codemirror_mode": {
    "name": "ipython",
    "version": 3
   },
   "file_extension": ".py",
   "mimetype": "text/x-python",
   "name": "python",
   "nbconvert_exporter": "python",
   "pygments_lexer": "ipython3",
   "version": "3.12.9"
  }
 },
 "nbformat": 4,
 "nbformat_minor": 2
}
