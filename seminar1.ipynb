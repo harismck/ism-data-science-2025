{
 "cells": [
  {
   "cell_type": "markdown",
   "metadata": {},
   "source": [
    "# Seminar 1 - SQL and data cleaning on the attendance dataset\n",
    "\n",
    "This notebook is more about illustrating the process of thinking, rather than doing the analysis the correct way or presenting some results.\n",
    "\n"
   ]
  },
  {
   "cell_type": "code",
   "execution_count": 2,
   "metadata": {},
   "outputs": [],
   "source": [
    "import duckdb"
   ]
  },
  {
   "cell_type": "markdown",
   "metadata": {},
   "source": [
    "## Step 1 - look at data\n",
    "\n",
    "The first step when facing some new data is to look at it. This is something that applies always, regardless of what problem you're facing - look at your data. Let's look at each dataset in turn.\n",
    "\n",
    "Here are some best practices:\n",
    "- It's always a good idea to look at a random sample of the data, rather than the first/last N rows.\n",
    "- Begin with small tables first (in our case, `school` and `subject`) - tables that are about a single thing - rather than bigger tables that are a combination of multiple things.\n"
   ]
  },
  {
   "cell_type": "markdown",
   "metadata": {},
   "source": [
    "## school"
   ]
  },
  {
   "cell_type": "code",
   "execution_count": 3,
   "metadata": {},
   "outputs": [
    {
     "name": "stdout",
     "output_type": "stream",
     "text": [
      "┌─────────────────┬─────────────┬───────────────┬────────────────────────────────────────────────┬───────────────┬───────────────────┬───────────────────┐\n",
      "│    unique_id    │ school_code │ division_code │                  school_name                   │ division_name │ municipality_code │ municipality_name │\n",
      "│     varchar     │    int64    │    varchar    │                    varchar                     │    varchar    │       int64       │      varchar      │\n",
      "├─────────────────┼─────────────┼───────────────┼────────────────────────────────────────────────┼───────────────┼───────────────────┼───────────────────┤\n",
      "│ 7c5e3424ced105c │   190283613 │ NULL          │ Kretingos r. Vydmantų gimnazija                │ NULL          │                56 │ Kretingos r. sav. │\n",
      "│ 6e131d66e2c9a50 │   190360892 │ NULL          │ Širvintų Lauryno Stuokos-Gucevičiaus gimnazija │ NULL          │                89 │ Širvintų r. sav.  │\n",
      "│ 669e18a1c909445 │   191131028 │ NULL          │ Plungės r. Kulių gimnazija                     │ NULL          │                68 │ Plungės r. sav.   │\n",
      "│ 45be98a1d59cf87 │   190003666 │ NULL          │ Vilniaus „Ateities“ mokykla                    │ NULL          │                13 │ Vilniaus m. sav.  │\n",
      "│ 743b3c375cb75f7 │   190439336 │ NULL          │ Klaipėdos Simono Dacho progimnazija            │ NULL          │                21 │ Klaipėdos m. sav. │\n",
      "│ d7e7a312708ab7e │   190186566 │ NULL          │ Utenos „Žiburio“ pradinė mokykla               │ NULL          │                82 │ Utenos r. sav.    │\n",
      "│ 40249ef1940d72b │   290013960 │ NULL          │ Vilniaus Vaduvos darželis-mokykla              │ NULL          │                13 │ Vilniaus m. sav.  │\n",
      "│ 861b72ed45d368d │   191787872 │ NULL          │ Klaipėdos r. Agluonėnų mokykla-darželis        │ NULL          │                55 │ Klaipėdos r. sav. │\n",
      "│ f38af8991658428 │   190424590 │ NULL          │ Panevėžio Kazimiero Paltaroko gimnazija        │ NULL          │                27 │ Panevėžio m. sav. │\n",
      "│ af5a79bbd148390 │   191320057 │ NULL          │ Vilniaus r. Rakonių pagrindinė mokykla         │ NULL          │                41 │ Vilniaus r. sav.  │\n",
      "├─────────────────┴─────────────┴───────────────┴────────────────────────────────────────────────┴───────────────┴───────────────────┴───────────────────┤\n",
      "│ 10 rows                                                                                                                                      7 columns │\n",
      "└────────────────────────────────────────────────────────────────────────────────────────────────────────────────────────────────────────────────────────┘\n",
      "\n"
     ]
    }
   ],
   "source": [
    "duckdb.sql(\n",
    "    \"SELECT * FROM 'attendance/school.parquet' ORDER BY random() LIMIT 10\"\n",
    ").show()"
   ]
  },
  {
   "cell_type": "markdown",
   "metadata": {},
   "source": [
    "`school_code` should be the primary key in this table. Primary key is a column (or several columns) by which a unique row in the table is identified. By stating that `school_code` is a primary key, I explicitly expect two things from the column:\n",
    "- This column has no duplicate values.\n",
    "- This column has no null values.\n",
    "\n",
    "Let's verify these assumptions."
   ]
  },
  {
   "cell_type": "code",
   "execution_count": 4,
   "metadata": {},
   "outputs": [
    {
     "name": "stdout",
     "output_type": "stream",
     "text": [
      "┌─────────────┬──────────────┐\n",
      "│ school_code │ count_star() │\n",
      "│    int64    │    int64     │\n",
      "├─────────────┼──────────────┤\n",
      "│   190986889 │            2 │\n",
      "│   190189861 │            2 │\n",
      "│   191090275 │            2 │\n",
      "│   191130983 │            2 │\n",
      "│   190341810 │            2 │\n",
      "│   195170434 │            2 │\n",
      "│   295093070 │            2 │\n",
      "│   190066944 │            2 │\n",
      "│   191130079 │            2 │\n",
      "│   302843970 │            2 │\n",
      "│   191791956 │            2 │\n",
      "│   190341625 │            2 │\n",
      "│   190697735 │            2 │\n",
      "│   190892856 │            2 │\n",
      "│   190545880 │            3 │\n",
      "│   290893610 │            2 │\n",
      "│   190696786 │            2 │\n",
      "├─────────────┴──────────────┤\n",
      "│ 17 rows          2 columns │\n",
      "└────────────────────────────┘\n",
      "\n"
     ]
    }
   ],
   "source": [
    "duckdb.sql(\n",
    "    \"\"\"\n",
    "    SELECT \n",
    "        school_code,\n",
    "        COUNT(*)\n",
    "    FROM 'attendance/school.parquet' \n",
    "    GROUP BY school_code\n",
    "    HAVING COUNT(*) > 1\n",
    "\"\"\"\n",
    ").show()"
   ]
  },
  {
   "cell_type": "markdown",
   "metadata": {},
   "source": [
    "We have duplicates :/ Let's look at a couple of them."
   ]
  },
  {
   "cell_type": "code",
   "execution_count": 5,
   "metadata": {},
   "outputs": [
    {
     "name": "stdout",
     "output_type": "stream",
     "text": [
      "┌─────────────────┬─────────────┬───────────────┬─────────────────────────────────────────────┬─────────────────────────────────────────────────────────────────────┬───────────────────┬───────────────────┐\n",
      "│    unique_id    │ school_code │ division_code │                 school_name                 │                            division_name                            │ municipality_code │ municipality_name │\n",
      "│     varchar     │    int64    │    varchar    │                   varchar                   │                               varchar                               │       int64       │      varchar      │\n",
      "├─────────────────┼─────────────┼───────────────┼─────────────────────────────────────────────┼─────────────────────────────────────────────────────────────────────┼───────────────────┼───────────────────┤\n",
      "│ 33ba4eb90b8b20a │   190341810 │ 1446          │ Ukmergės Senamiesčio progimnazija           │ Ukmergės Senamiesčio progimnazijos Laičių pradinio ugdymo skyrius   │                81 │ Ukmergės r. sav.  │\n",
      "│ ac5f5659750060c │   190341810 │ NULL          │ Ukmergės Senamiesčio progimnazija           │ NULL                                                                │                81 │ Ukmergės r. sav.  │\n",
      "│ 171ce47c9346344 │   191130983 │ 7403          │ Plungės r. Žemaitijos kadetų gimnazija      │ Plungės r. Žemaitijos kadetų Kulių gimnazijos skyrius               │                68 │ Plungės r. sav.   │\n",
      "│ b67dc0bfce0e99d │   191130983 │ 7402          │ Plungės r. Žemaitijos kadetų gimnazija      │ Plungės r. Žemaitijos kadetų Žemaičių Kalvarijos gimnazijos skyrius │                68 │ Plungės r. sav.   │\n",
      "│ 401b2cf985dc009 │   191130079 │ NULL          │ Plungės akademiko Adolfo Jucio progimnazija │ NULL                                                                │                68 │ Plungės r. sav.   │\n",
      "│ 524de801ad851e4 │   191130079 │ 7217          │ Plungės akademiko Adolfo Jucio progimnazija │ Plungės akademiko Adolfo Jucio progimnazijos „Saulės“ skyrius       │                68 │ Plungės r. sav.   │\n",
      "└─────────────────┴─────────────┴───────────────┴─────────────────────────────────────────────┴─────────────────────────────────────────────────────────────────────┴───────────────────┴───────────────────┘\n",
      "\n"
     ]
    }
   ],
   "source": [
    "duckdb.sql(\n",
    "    \"\"\"\n",
    "    SELECT *\n",
    "    FROM 'attendance/school.parquet'\n",
    "    WHERE school_code IN (190341810, 191130983, 191130079)\n",
    "\"\"\"\n",
    ").show()"
   ]
  },
  {
   "cell_type": "markdown",
   "metadata": {},
   "source": [
    "Looks like the school table is actually unique by school_code and division_code, but let's verify again"
   ]
  },
  {
   "cell_type": "code",
   "execution_count": 6,
   "metadata": {},
   "outputs": [
    {
     "name": "stdout",
     "output_type": "stream",
     "text": [
      "┌─────────────┬───────────────┬──────────────┐\n",
      "│ school_code │ division_code │ count_star() │\n",
      "│    int64    │    varchar    │    int64     │\n",
      "├─────────────┴───────────────┴──────────────┤\n",
      "│                   0 rows                   │\n",
      "└────────────────────────────────────────────┘\n",
      "\n"
     ]
    }
   ],
   "source": [
    "duckdb.sql(\n",
    "    \"\"\"\n",
    "    SELECT \n",
    "        school_code,\n",
    "        division_code,\n",
    "        COUNT(*)\n",
    "    FROM 'attendance/school.parquet' \n",
    "    GROUP BY school_code, division_code\n",
    "    HAVING COUNT(*) > 1\n",
    "\"\"\"\n",
    ").show()"
   ]
  },
  {
   "cell_type": "markdown",
   "metadata": {},
   "source": [
    "This is a data quality issue - it's unclear what division code NULL means, and the table documentation makes it seems that this is data on schools and not school divisions.\n",
    "\n",
    "I'll deal with it in a somewhat silly way - I'll remove cases where `division_code` is not null. This is essentially saying - I won't look at schools that have divisions. Ideally we wouldn't do this, but out of concern for time, let's make this simplification. Also only 17 `school_codes` have the duplicate issue.\n",
    "\n",
    "Simplifying in the beginning of an analysis is a good approach to manage complexity. We still don't know the dataset very well, so let's simplify. Once we are more familiar with the data, we can increase complexity and make our analysis more \"correct\".\n",
    "\n",
    "Let's check if there are no null `school_codes`.\n"
   ]
  },
  {
   "cell_type": "code",
   "execution_count": 7,
   "metadata": {},
   "outputs": [
    {
     "data": {
      "text/plain": [
       "┌─────────────────────────────┬──────────────┐\n",
       "│ count(DISTINCT school_code) │ count_star() │\n",
       "│            int64            │    int64     │\n",
       "├─────────────────────────────┼──────────────┤\n",
       "│                         983 │          983 │\n",
       "└─────────────────────────────┴──────────────┘"
      ]
     },
     "execution_count": 7,
     "metadata": {},
     "output_type": "execute_result"
    }
   ],
   "source": [
    "duckdb.sql(\n",
    "    \"\"\"\n",
    "    SELECT \n",
    "        count(distinct school_code),\n",
    "        count(*)\n",
    "    FROM 'attendance/school.parquet' \n",
    "    WHERE division_code IS NULL\n",
    "\"\"\"\n",
    ")"
   ]
  },
  {
   "cell_type": "code",
   "execution_count": 8,
   "metadata": {},
   "outputs": [
    {
     "name": "stdout",
     "output_type": "stream",
     "text": [
      "┌─────────────┬─────────────────────────────────────────────────┬─────────────────────┐\n",
      "│ school_code │                   school_name                   │  municipality_name  │\n",
      "│    int64    │                     varchar                     │       varchar       │\n",
      "├─────────────┼─────────────────────────────────────────────────┼─────────────────────┤\n",
      "│   190545880 │ Biržų „Aušros“ pagrindinė mokykla               │ Biržų r. sav.       │\n",
      "│   191130264 │ Plungės „Saulės“ gimnazija                      │ Plungės r. sav.     │\n",
      "│   191814839 │ Mažeikių „Žiburėlio“ pradinė mokykla            │ Mažeikių r. sav.    │\n",
      "│   190507118 │ Švenčionių r. Adutiškio pagrindinė mokykla      │ Švenčionių r. sav.  │\n",
      "│   191317260 │ Vilniaus Trakų Vokės gimnazija                  │ Vilniaus m. sav.    │\n",
      "│   191709681 │ Vilniaus Jono Ivaškevičiaus jaunimo mokykla     │ Vilniaus m. sav.    │\n",
      "│   290486810 │ Vilkaviškio rajono Pajevonio pagrindinė mokykla │ Vilkaviškio r. sav. │\n",
      "│   303283300 │ Panevėžio Raimundo Sargūno sporto gimnazija     │ Panevėžio m. sav.   │\n",
      "│   190486624 │ Vilkaviškio r. Gražiškių gimnazija              │ Vilkaviškio r. sav. │\n",
      "│   191866526 │ Varėnos „Šaltinėlio“ pradinė mokykla            │ Varėnos r. sav.     │\n",
      "├─────────────┴─────────────────────────────────────────────────┴─────────────────────┤\n",
      "│ 10 rows                                                                   3 columns │\n",
      "└─────────────────────────────────────────────────────────────────────────────────────┘\n",
      "\n"
     ]
    }
   ],
   "source": [
    "# Final query for the school table\n",
    "school = \"\"\"\n",
    "    SELECT \n",
    "        school_code, \n",
    "        school_name, \n",
    "        municipality_name\n",
    "    FROM 'attendance/school.parquet' \n",
    "    WHERE division_code IS NULL\n",
    "\"\"\"\n",
    "duckdb.sql(school + \" LIMIT 10\").show()"
   ]
  },
  {
   "cell_type": "markdown",
   "metadata": {},
   "source": [
    "## subject\n"
   ]
  },
  {
   "cell_type": "code",
   "execution_count": 9,
   "metadata": {},
   "outputs": [
    {
     "name": "stdout",
     "output_type": "stream",
     "text": [
      "┌─────────────────┬──────────────────┬──────────────┬────────────────────────────────────┬───────────────────────────────────┐\n",
      "│    unique_id    │ electronic_diary │ subject_code │            subject_name            │          subject_name_en          │\n",
      "│     varchar     │     varchar      │    int64     │              varchar               │              varchar              │\n",
      "├─────────────────┼──────────────────┼──────────────┼────────────────────────────────────┼───────────────────────────────────┤\n",
      "│ 2e4a313427a7573 │ Tamo             │         9103 │ Teatras                            │ Theater                           │\n",
      "│ 357c7a0f6163e1e │ NASC             │         5301 │ Geografija                         │ Geography                         │\n",
      "│ 80b6ca1f0eb0864 │ Tamo             │        10107 │ Mechanika, mechaninis remontas     │ Mechanics, mechanical repair      │\n",
      "│ adcf56cc20c1397 │ NASC             │        24011 │ Simfoninis orkestras               │ Symphonic orchestra               │\n",
      "│ 337cde6c5c632fb │ Tamo             │        10100 │ Technologijos                      │ Technologies                      │\n",
      "│ fe49d502c8f5b16 │ NASC             │        24010 │ Lektorinė praktika                 │ Lecturer practice                 │\n",
      "│ 03595d4567928f6 │ Tamo             │        10118 │ Turizmas ir mityba                 │ Tourism and nutrition             │\n",
      "│ 9c8e35f92423f23 │ NASC             │        24023 │ Polifonija                         │ Polyphony                         │\n",
      "│ 4a2701725ad7fcf │ NASC             │         4406 │ Užsienio kalba (antroji, prancūzų) │ Foreign language (second, French) │\n",
      "│ 5d166884e37e67d │ Tamo             │         4105 │ Gimtoji kalba (vokiečių)           │ Native language (German)          │\n",
      "├─────────────────┴──────────────────┴──────────────┴────────────────────────────────────┴───────────────────────────────────┤\n",
      "│ 10 rows                                                                                                          5 columns │\n",
      "└────────────────────────────────────────────────────────────────────────────────────────────────────────────────────────────┘\n",
      "\n"
     ]
    }
   ],
   "source": [
    "duckdb.sql(\n",
    "    \"SELECT * FROM 'attendance/subject.parquet' ORDER BY random() LIMIT 10\"\n",
    ").show()"
   ]
  },
  {
   "cell_type": "markdown",
   "metadata": {},
   "source": [
    "This table should be unique by `electronic_diary` and `subject_code`, let's check.\n"
   ]
  },
  {
   "cell_type": "code",
   "execution_count": 10,
   "metadata": {},
   "outputs": [
    {
     "name": "stdout",
     "output_type": "stream",
     "text": [
      "┌──────────────────┬──────────────┬──────────────┐\n",
      "│ electronic_diary │ subject_code │ count_star() │\n",
      "│     varchar      │    int64     │    int64     │\n",
      "├──────────────────┴──────────────┴──────────────┤\n",
      "│                     0 rows                     │\n",
      "└────────────────────────────────────────────────┘\n",
      "\n"
     ]
    }
   ],
   "source": [
    "duckdb.sql(\n",
    "    \"\"\"\n",
    "    SELECT\n",
    "        electronic_diary,\n",
    "        subject_code,\n",
    "        COUNT(*)\n",
    "    FROM 'attendance/subject.parquet'\n",
    "    GROUP BY all\n",
    "    HAVING COUNT(*) > 1\n",
    "\"\"\"\n",
    ").show()"
   ]
  },
  {
   "cell_type": "code",
   "execution_count": 11,
   "metadata": {},
   "outputs": [],
   "source": [
    "# Final query for the subject table\n",
    "subject = \"\"\"\n",
    "    SELECT\n",
    "        electronic_diary,\n",
    "        subject_code,\n",
    "        subject_name_en,\n",
    "    FROM 'attendance/subject.parquet'\n",
    "\"\"\"\n"
   ]
  },
  {
   "cell_type": "markdown",
   "metadata": {},
   "source": [
    "yay!"
   ]
  },
  {
   "cell_type": "markdown",
   "metadata": {},
   "source": [
    "## attendance"
   ]
  },
  {
   "cell_type": "code",
   "execution_count": 12,
   "metadata": {},
   "outputs": [
    {
     "name": "stdout",
     "output_type": "stream",
     "text": [
      "┌─────────────────┬───────────────┬─────────────┬───────────────┬───────────────┬──────────────┬──────────────────┬───────────────────┬─────────────────────┬─────────────────────────┬───────────────────────┬───────────────────┐\n",
      "│    unique_id    │ report_period │ school_code │ division_code │ student_class │ subject_code │ electronic_diary │ student_count_nsa │ student_count_diary │ excused_lessons_illness │ excused_lessons_other │ unexcused_lessons │\n",
      "│     varchar     │     date      │    int64    │    varchar    │     int64     │    int64     │     varchar      │       int64       │        int64        │          int64          │         int64         │       int64       │\n",
      "├─────────────────┼───────────────┼─────────────┼───────────────┼───────────────┼──────────────┼──────────────────┼───────────────────┼─────────────────────┼─────────────────────────┼───────────────────────┼───────────────────┤\n",
      "│ 56df39d90ccc3f1 │ 2021-05-01    │   191414994 │ NULL          │             7 │         8301 │ NASC             │                 3 │                   3 │                       0 │                     0 │                 0 │\n",
      "│ 4890f4cbe163f5d │ 2022-11-01    │   191019591 │ NULL          │             6 │         5301 │ NASC             │               125 │                 126 │                      46 │                    18 │                 0 │\n",
      "│ cf5a0dc0a1320e9 │ 2022-12-01    │   290532510 │ NULL          │            12 │         4404 │ Tamo             │                63 │                  63 │                       0 │                     0 │                 0 │\n",
      "│ 7484de556e06f5c │ 2021-11-01    │   190005489 │ NULL          │             9 │         4104 │ NASC             │                41 │                  41 │                      66 │                     2 │                 0 │\n",
      "│ 8484d65b558f26d │ 2024-11-01    │   195005870 │ NULL          │             2 │         9102 │ Tamo             │               100 │                  44 │                      20 │                     1 │                 5 │\n",
      "│ 3142893c8f52827 │ 2016-02-01    │   191228356 │ NULL          │             7 │        11101 │ NASC             │                 9 │                   9 │                       0 │                     8 │                 0 │\n",
      "│ ed9dda11d358175 │ 2017-03-01    │   190440267 │ NULL          │            10 │         4403 │ NASC             │               106 │                 106 │                      12 │                     5 │                 0 │\n",
      "│ e6bbbab1387fa09 │ 2013-03-01    │   190160653 │ NULL          │             6 │        12001 │ NASC             │                83 │                  83 │                       9 │                    21 │                 0 │\n",
      "│ ee1419d2494893d │ 2014-11-01    │   190560836 │ NULL          │            10 │            2 │ NASC             │                29 │                  28 │                       0 │                     2 │                 0 │\n",
      "│ e182d978d3396fc │ 2024-04-01    │   195474095 │ NULL          │             4 │         3001 │ Tamo             │                48 │                  34 │                       4 │                     0 │                 0 │\n",
      "├─────────────────┴───────────────┴─────────────┴───────────────┴───────────────┴──────────────┴──────────────────┴───────────────────┴─────────────────────┴─────────────────────────┴───────────────────────┴───────────────────┤\n",
      "│ 10 rows                                                                                                                                                                                                              12 columns │\n",
      "└─────────────────────────────────────────────────────────────────────────────────────────────────────────────────────────────────────────────────────────────────────────────────────────────────────────────────────────────────┘\n",
      "\n"
     ]
    }
   ],
   "source": [
    "duckdb.sql(\n",
    "    \"SELECT * FROM 'attendance/attendance.parquet' ORDER BY random() LIMIT 10\"\n",
    ").show()"
   ]
  },
  {
   "cell_type": "markdown",
   "metadata": {},
   "source": [
    "- The rows in this table should be unique by `report_period`, `school_code`, `student_class` and `subject_code`. I should add `division_code` to this list, but I've already decided to not use that column. `electronic_diary` is not in this list because, if I remember correctly, each school uses just one of the diaries.\n",
    "- `school_code` is the foreign key from the school table, while `subject_code` and `electronic_diary` are foreign keys, therefore I expect them to not have any NULL values.\n",
    "\n",
    "Let's verify.\n"
   ]
  },
  {
   "cell_type": "code",
   "execution_count": 13,
   "metadata": {},
   "outputs": [
    {
     "name": "stdout",
     "output_type": "stream",
     "text": [
      "┌───────────────┬─────────────┬───────────────┬──────────────┬──────────────┐\n",
      "│ report_period │ school_code │ student_class │ subject_code │ count_star() │\n",
      "│     date      │    int64    │     int64     │    int64     │    int64     │\n",
      "├───────────────┼─────────────┼───────────────┼──────────────┼──────────────┤\n",
      "│ 2024-04-01    │   190438049 │             9 │         6001 │            2 │\n",
      "│ 2024-11-01    │   191416283 │            10 │         8101 │            2 │\n",
      "│ 2024-10-01    │   190438049 │             9 │         5301 │            2 │\n",
      "│ 2024-12-01    │   190422397 │             6 │         5301 │            2 │\n",
      "│ 2024-01-01    │   191832328 │             3 │         8402 │            2 │\n",
      "│ 2024-10-01    │   190239620 │             9 │         6001 │            2 │\n",
      "│ 2023-12-01    │   190034188 │             9 │         9101 │            2 │\n",
      "│ 2024-01-01    │   290485480 │            10 │         6001 │            2 │\n",
      "│ 2021-06-01    │   290469280 │             7 │         5101 │            2 │\n",
      "│ 2024-01-01    │   190136887 │             9 │         8201 │            2 │\n",
      "│     ·         │       ·     │             · │           ·  │            · │\n",
      "│     ·         │       ·     │             · │           ·  │            · │\n",
      "│     ·         │       ·     │             · │           ·  │            · │\n",
      "│ 2024-04-01    │   191024624 │             7 │         7104 │            2 │\n",
      "│ 2023-12-01    │   190983626 │             3 │         9101 │            2 │\n",
      "│ 2024-05-01    │   190194851 │             8 │         8201 │            2 │\n",
      "│ 2024-03-01    │   191024624 │             7 │         9102 │            2 │\n",
      "│ 2024-01-01    │   290469280 │             6 │         5301 │            2 │\n",
      "│ 2024-06-01    │   190000894 │             8 │         3002 │            2 │\n",
      "│ 2023-09-01    │   190615147 │             9 │         4001 │            2 │\n",
      "│ 2024-01-01    │   190160653 │             8 │         6001 │            2 │\n",
      "│ 2024-05-01    │   190673983 │            10 │         6001 │            2 │\n",
      "│ 2024-03-01    │   190057361 │             9 │         9101 │            2 │\n",
      "├───────────────┴─────────────┴───────────────┴──────────────┴──────────────┤\n",
      "│ ? rows (>9999 rows, 20 shown)                                   5 columns │\n",
      "└───────────────────────────────────────────────────────────────────────────┘\n",
      "\n"
     ]
    }
   ],
   "source": [
    "duckdb.sql(\n",
    "    \"\"\"\n",
    "    SELECT \n",
    "        report_period,\n",
    "        school_code,\n",
    "        student_class,\n",
    "        subject_code,\n",
    "        COUNT(*)\n",
    "    FROM 'attendance/attendance.parquet'\n",
    "    WHERE division_code IS NULL\n",
    "    GROUP BY all\n",
    "    HAVING COUNT(*) > 1\n",
    "\"\"\"\n",
    ").show()"
   ]
  },
  {
   "cell_type": "markdown",
   "metadata": {},
   "source": [
    "We have duplicates in the dataset again. But how many duplicates?"
   ]
  },
  {
   "cell_type": "code",
   "execution_count": 14,
   "metadata": {},
   "outputs": [
    {
     "data": {
      "text/plain": [
       "(18776, 5)"
      ]
     },
     "execution_count": 14,
     "metadata": {},
     "output_type": "execute_result"
    }
   ],
   "source": [
    "duckdb.sql(\n",
    "    \"\"\"\n",
    "    SELECT \n",
    "        report_period,\n",
    "        school_code,\n",
    "        student_class,\n",
    "        subject_code,\n",
    "        COUNT(*)\n",
    "    FROM 'attendance/attendance.parquet'\n",
    "    WHERE division_code IS NULL\n",
    "    GROUP BY all\n",
    "    HAVING COUNT(*) > 1\n",
    "    ORDER BY random()\n",
    "\"\"\"\n",
    ").df().shape"
   ]
  },
  {
   "cell_type": "markdown",
   "metadata": {},
   "source": [
    "Quite a few duplicated rows. \n",
    "\n",
    "Maybe I should have also included `electronic_diary` among the columns by which the attendance table is unique? This is weird, because why would a single class in a single school use two diaries? But weird things happen."
   ]
  },
  {
   "cell_type": "code",
   "execution_count": 15,
   "metadata": {},
   "outputs": [
    {
     "data": {
      "text/plain": [
       "(12668, 7)"
      ]
     },
     "execution_count": 15,
     "metadata": {},
     "output_type": "execute_result"
    }
   ],
   "source": [
    "duckdb.sql(\n",
    "    \"\"\"\n",
    "    SELECT \n",
    "        report_period,\n",
    "        school_code,\n",
    "        division_code,\n",
    "        student_class,\n",
    "        subject_code,\n",
    "        electronic_diary,\n",
    "        COUNT(*)\n",
    "    FROM 'attendance/attendance.parquet'\n",
    "    WHERE division_code IS NULL\n",
    "    GROUP BY all\n",
    "    HAVING COUNT(*) > 1\n",
    "    ORDER BY random()\n",
    "\"\"\"\n",
    ").df().shape"
   ]
  },
  {
   "cell_type": "markdown",
   "metadata": {},
   "source": [
    "Ok, even grouping by `electronic_diary`, we have duplicates in the dataset. Let's look at several duplicated rows again."
   ]
  },
  {
   "cell_type": "code",
   "execution_count": 16,
   "metadata": {},
   "outputs": [
    {
     "name": "stdout",
     "output_type": "stream",
     "text": [
      "┌───────────────┬─────────────┬───────────────┬───────────────┬──────────────┬──────────────────┬──────────────┐\n",
      "│ report_period │ school_code │ division_code │ student_class │ subject_code │ electronic_diary │ count_star() │\n",
      "│     date      │    int64    │    varchar    │     int64     │    int64     │     varchar      │    int64     │\n",
      "├───────────────┼─────────────┼───────────────┼───────────────┼──────────────┼──────────────────┼──────────────┤\n",
      "│ 2024-10-01    │   190139463 │ NULL          │            10 │         8101 │ NASC             │            2 │\n",
      "│ 2024-04-01    │   191315786 │ NULL          │             8 │         4001 │ NASC             │            2 │\n",
      "│ 2023-12-01    │   190006438 │ NULL          │            12 │         8101 │ NASC             │            2 │\n",
      "│ 2023-12-01    │   191316888 │ NULL          │             5 │         8402 │ NASC             │            2 │\n",
      "│ 2023-11-01    │   191411927 │ NULL          │             5 │         9102 │ NASC             │            2 │\n",
      "└───────────────┴─────────────┴───────────────┴───────────────┴──────────────┴──────────────────┴──────────────┘\n",
      "\n"
     ]
    }
   ],
   "source": [
    "duckdb.sql(\n",
    "    \"\"\"\n",
    "    SELECT \n",
    "        report_period,\n",
    "        school_code,\n",
    "        division_code,\n",
    "        student_class,\n",
    "        subject_code,\n",
    "        electronic_diary,\n",
    "        COUNT(*)\n",
    "    FROM 'attendance/attendance.parquet'\n",
    "    WHERE division_code IS NULL\n",
    "    GROUP BY all\n",
    "    HAVING COUNT(*) > 1\n",
    "    ORDER BY random()\n",
    "    LIMIT 5\n",
    "\"\"\"\n",
    ").show()"
   ]
  },
  {
   "cell_type": "code",
   "execution_count": 17,
   "metadata": {},
   "outputs": [
    {
     "data": {
      "text/plain": [
       "┌─────────────────┬───────────────┬─────────────┬───────────────┬───────────────┬──────────────┬──────────────────┬───────────────────┬─────────────────────┬─────────────────────────┬───────────────────────┬───────────────────┐\n",
       "│    unique_id    │ report_period │ school_code │ division_code │ student_class │ subject_code │ electronic_diary │ student_count_nsa │ student_count_diary │ excused_lessons_illness │ excused_lessons_other │ unexcused_lessons │\n",
       "│     varchar     │     date      │    int64    │    varchar    │     int64     │    int64     │     varchar      │       int64       │        int64        │          int64          │         int64         │       int64       │\n",
       "├─────────────────┼───────────────┼─────────────┼───────────────┼───────────────┼──────────────┼──────────────────┼───────────────────┼─────────────────────┼─────────────────────────┼───────────────────────┼───────────────────┤\n",
       "│ 047c0a11c721ffe │ 2015-11-01    │   290984490 │ NULL          │             1 │         9101 │ NASC             │                 5 │                   4 │                       3 │                     0 │                 0 │\n",
       "│ 3302d5804c84a6f │ 2015-12-01    │   290984490 │ NULL          │             1 │         9101 │ NASC             │                 5 │                   2 │                       0 │                     1 │                 0 │\n",
       "│ 4222e230eb28caf │ 2016-02-01    │   290984490 │ NULL          │             1 │         9101 │ NASC             │                 5 │                   3 │                       4 │                     2 │                 0 │\n",
       "│ 391defb92e89285 │ 2016-03-01    │   290984490 │ NULL          │             1 │         9101 │ NASC             │                 5 │                   3 │                       0 │                     2 │                 0 │\n",
       "│ e658ad4ab0393fb │ 2017-01-01    │   290984490 │ NULL          │             1 │         9101 │ NASC             │                 3 │                   2 │                       0 │                     0 │                 0 │\n",
       "│ d615d82959f5e93 │ 2017-05-01    │   290984490 │ NULL          │             1 │         9101 │ NASC             │                 3 │                   2 │                       0 │                     0 │                 0 │\n",
       "│ ffd8e48584e3896 │ 2017-10-01    │   290984490 │ NULL          │             1 │         9101 │ NASC             │                 7 │                   2 │                       1 │                     0 │                 0 │\n",
       "│ 904628eb64cd323 │ 2017-11-01    │   290984490 │ NULL          │             1 │         9101 │ NASC             │                 8 │                   8 │                       2 │                     0 │                 0 │\n",
       "│ d78d3dd9cd7f28f │ 2018-01-01    │   290984490 │ NULL          │             1 │         9101 │ NASC             │                 8 │                  11 │                       1 │                     1 │                 0 │\n",
       "│ bcc4318462c5595 │ 2018-03-01    │   290984490 │ NULL          │             1 │         9101 │ NASC             │                 8 │                   9 │                       3 │                     0 │                 0 │\n",
       "│        ·        │     ·         │       ·     │  ·            │             · │           ·  │  ·               │                 · │                   · │                       · │                     · │                 · │\n",
       "│        ·        │     ·         │       ·     │  ·            │             · │           ·  │  ·               │                 · │                   · │                       · │                     · │                 · │\n",
       "│        ·        │     ·         │       ·     │  ·            │             · │           ·  │  ·               │                 · │                   · │                       · │                     · │                 · │\n",
       "│ a163580f3da5523 │ 2023-11-01    │   290984490 │ NULL          │             1 │         9101 │ NASC             │                 5 │                   4 │                       4 │                     0 │                 0 │\n",
       "│ 914c71d8f68c130 │ 2023-11-01    │   290984490 │ NULL          │             1 │         9101 │ NASC             │                 5 │                   4 │                       4 │                     0 │                 0 │\n",
       "│ 841eee08ec7ff1c │ 2023-12-01    │   290984490 │ NULL          │             1 │         9101 │ NASC             │                 5 │                   4 │                       4 │                     0 │                 0 │\n",
       "│ 8aa2cd9e603ee05 │ 2024-01-01    │   290984490 │ NULL          │             1 │         9101 │ NASC             │                 6 │                   6 │                       4 │                     0 │                 0 │\n",
       "│ 651f44df7b1398e │ 2024-04-01    │   290984490 │ NULL          │             1 │         9101 │ NASC             │                 6 │                   3 │                       1 │                     0 │                 0 │\n",
       "│ d880c0e26d35d0c │ 2024-04-01    │   290984490 │ NULL          │             1 │         9101 │ NASC             │                 6 │                   3 │                       2 │                     0 │                 0 │\n",
       "│ 87a7f88e0752409 │ 2024-05-01    │   290984490 │ NULL          │             1 │         9101 │ NASC             │                 6 │                   4 │                       1 │                     0 │                 0 │\n",
       "│ e00f8cabcbb0433 │ 2024-05-01    │   290984490 │ NULL          │             1 │         9101 │ NASC             │                 6 │                   4 │                       2 │                     0 │                 0 │\n",
       "│ 61b4fec90d169da │ 2024-06-01    │   290984490 │ NULL          │             1 │         9101 │ NASC             │                 6 │                   6 │                       4 │                     0 │                 0 │\n",
       "│ e518642fdd3cac5 │ 2024-06-01    │   290984490 │ NULL          │             1 │         9101 │ NASC             │                 6 │                   6 │                       2 │                     0 │                 0 │\n",
       "├─────────────────┴───────────────┴─────────────┴───────────────┴───────────────┴──────────────┴──────────────────┴───────────────────┴─────────────────────┴─────────────────────────┴───────────────────────┴───────────────────┤\n",
       "│ 36 rows (20 shown)                                                                                                                                                                                                   12 columns │\n",
       "└─────────────────────────────────────────────────────────────────────────────────────────────────────────────────────────────────────────────────────────────────────────────────────────────────────────────────────────────────┘"
      ]
     },
     "execution_count": 17,
     "metadata": {},
     "output_type": "execute_result"
    }
   ],
   "source": [
    "# Here I'm taking the first row from above and inserting the required values\n",
    "duckdb.sql(\n",
    "    \"\"\"\n",
    "    SELECT\n",
    "        *\n",
    "    FROM 'attendance/attendance.parquet'\n",
    "    WHERE division_code IS NULL\n",
    "    AND school_code = 290984490\n",
    "    AND student_class = 1\n",
    "    AND subject_code = 9101\n",
    "    ORDER BY report_period\n",
    "\"\"\"\n",
    ")"
   ]
  },
  {
   "cell_type": "markdown",
   "metadata": {},
   "source": [
    "It seems that in this case we just have duplicated rows. Here's what I'm noticing:\n",
    "- for the duplicated rows, values in columns `student_count_diary` and `student_count_nsa` are the same.\n",
    "- Values for the other columns (`excused_lessons_illness` etc.) are usually different. \n",
    "\n",
    "To solve the problem of duplicates in this table, I'll just aggregated by the columns that "
   ]
  },
  {
   "cell_type": "code",
   "execution_count": 18,
   "metadata": {},
   "outputs": [
    {
     "name": "stdout",
     "output_type": "stream",
     "text": [
      "┌───────────────┬─────────────┬───────────────┬──────────────┬──────────────────┬─────────────────────┬─────────────────────────┬───────────────────────┬───────────────────┐\n",
      "│ report_period │ school_code │ student_class │ subject_code │ electronic_diary │ student_count_diary │ excused_lessons_illness │ excused_lessons_other │ unexcused_lessons │\n",
      "│     date      │    int64    │     int64     │    int64     │     varchar      │        int64        │         int128          │        int128         │      int128       │\n",
      "├───────────────┼─────────────┼───────────────┼──────────────┼──────────────────┼─────────────────────┼─────────────────────────┼───────────────────────┼───────────────────┤\n",
      "│ 2020-11-01    │   190009733 │            12 │         4001 │ Tamo             │                 122 │                       0 │                    69 │                10 │\n",
      "│ 2025-01-01    │   190192277 │             8 │        10100 │ NASC             │                  12 │                       0 │                     0 │                 0 │\n",
      "│ 2022-05-01    │   191131366 │             2 │         6001 │ Tamo             │                   3 │                      26 │                     0 │                 0 │\n",
      "│ 2019-05-01    │   195004583 │             8 │        11101 │ NASC             │                  68 │                      19 │                    14 │                 0 │\n",
      "│ 2019-02-01    │   190343786 │             8 │         4401 │ Tamo             │                  12 │                      13 │                     0 │                 0 │\n",
      "│ 2020-05-01    │   190399347 │             5 │         4401 │ NASC             │                  11 │                       0 │                     0 │                 0 │\n",
      "│ 2017-10-01    │   190563412 │             9 │        10100 │ NASC             │                   9 │                       6 │                     2 │                 0 │\n",
      "│ 2023-03-01    │   190249358 │             6 │         3001 │ Tamo             │                 104 │                      18 │                     5 │                 7 │\n",
      "│ 2018-04-01    │   190030357 │             4 │            2 │ NASC             │                  16 │                       4 │                     2 │                 0 │\n",
      "│ 2023-11-01    │   190007344 │             8 │            2 │ NASC             │                  39 │                      24 │                     3 │                 0 │\n",
      "├───────────────┴─────────────┴───────────────┴──────────────┴──────────────────┴─────────────────────┴─────────────────────────┴───────────────────────┴───────────────────┤\n",
      "│ 10 rows                                                                                                                                                         9 columns │\n",
      "└───────────────────────────────────────────────────────────────────────────────────────────────────────────────────────────────────────────────────────────────────────────┘\n",
      "\n"
     ]
    }
   ],
   "source": [
    "attendance = \"\"\"\n",
    "    SELECT\n",
    "        report_period,\n",
    "        school_code,\n",
    "        student_class,\n",
    "        subject_code,\n",
    "        electronic_diary,\n",
    "        FIRST(student_count_diary) student_count_diary,\n",
    "        SUM(excused_lessons_illness) excused_lessons_illness,\n",
    "        SUM(excused_lessons_other) excused_lessons_other,\n",
    "        SUM(unexcused_lessons) unexcused_lessons\n",
    "    FROM 'attendance/attendance.parquet'\n",
    "    WHERE division_code IS NULL\n",
    "    GROUP BY all\n",
    "\"\"\"\n",
    "duckdb.sql(attendance + \" LIMIT 10\").show()"
   ]
  },
  {
   "cell_type": "markdown",
   "metadata": {},
   "source": [
    "I now have a dataset that I am sure is unique by `report_period`, `school_code`, `student_class` and `subject_code`, `electronic_diary` because that's how GROUP BY works.\n"
   ]
  },
  {
   "cell_type": "markdown",
   "metadata": {},
   "source": [
    "## final query"
   ]
  },
  {
   "cell_type": "markdown",
   "metadata": {},
   "source": [
    "Ok, I think I'm ready to work on the final dataset now, so let's join everything together. I saved my queries into Python variables for a reason - now combining them is very easy. \n",
    "\n",
    "Keep in mind, that below I'm only using the WITH statement and inserting the tables separately because to all of them except the `subject` table I had to apply some sort of deduplication or grouping - logic that I now want to end up in the final query as well.\n",
    "\n",
    "Also note how big the final query is - that's a lot of logic! It would have been very tricky to such a query from the get go. That's why we went through this iterative process in the seminar.\n"
   ]
  },
  {
   "cell_type": "code",
   "execution_count": 19,
   "metadata": {},
   "outputs": [
    {
     "name": "stdout",
     "output_type": "stream",
     "text": [
      "\n",
      "WITH attendance AS (\n",
      "    SELECT\n",
      "        report_period,\n",
      "        school_code,\n",
      "        student_class,\n",
      "        subject_code,\n",
      "        electronic_diary,\n",
      "        FIRST(student_count_diary) student_count_diary,\n",
      "        SUM(excused_lessons_illness) excused_lessons_illness,\n",
      "        SUM(excused_lessons_other) excused_lessons_other,\n",
      "        SUM(unexcused_lessons) unexcused_lessons\n",
      "    FROM 'attendance/attendance.parquet'\n",
      "    WHERE division_code IS NULL\n",
      "    GROUP BY all\n",
      "),\n",
      "    school AS (\n",
      "    SELECT \n",
      "        school_code, \n",
      "        school_name, \n",
      "        municipality_name\n",
      "    FROM 'attendance/school.parquet' \n",
      "    WHERE division_code IS NULL\n",
      "),\n",
      "    subject AS (\n",
      "    SELECT\n",
      "        electronic_diary,\n",
      "        subject_code,\n",
      "        subject_name_en,\n",
      "    FROM 'attendance/subject.parquet'\n",
      ")\n",
      "SELECT\n",
      "    school.school_name,\n",
      "    school.school_code,\n",
      "    school.municipality_name,\n",
      "    attendance.student_class,\n",
      "    attendance.report_period,\n",
      "    subject.subject_name_en,\n",
      "    attendance.student_count_diary,\n",
      "    attendance.excused_lessons_illness,\n",
      "    attendance.excused_lessons_other,\n",
      "    attendance.unexcused_lessons\n",
      "FROM attendance\n",
      "JOIN school ON attendance.school_code = school.school_code\n",
      "JOIN subject ON attendance.subject_code = subject.subject_code\n",
      "    AND attendance.electronic_diary = subject.electronic_diary\n",
      "\n"
     ]
    }
   ],
   "source": [
    "query = f\"\"\"\n",
    "WITH attendance AS ({attendance}),\n",
    "    school AS ({school}),\n",
    "    subject AS ({subject})\n",
    "SELECT\n",
    "    school.school_name,\n",
    "    school.school_code,\n",
    "    school.municipality_name,\n",
    "    attendance.student_class,\n",
    "    attendance.report_period,\n",
    "    subject.subject_name_en,\n",
    "    attendance.student_count_diary,\n",
    "    attendance.excused_lessons_illness,\n",
    "    attendance.excused_lessons_other,\n",
    "    attendance.unexcused_lessons\n",
    "FROM attendance\n",
    "JOIN school ON attendance.school_code = school.school_code\n",
    "JOIN subject ON attendance.subject_code = subject.subject_code\n",
    "    AND attendance.electronic_diary = subject.electronic_diary\n",
    "\"\"\"\n",
    "print(query)"
   ]
  },
  {
   "cell_type": "code",
   "execution_count": 20,
   "metadata": {},
   "outputs": [],
   "source": [
    "df = duckdb.sql(query).df()\n"
   ]
  },
  {
   "cell_type": "markdown",
   "metadata": {},
   "source": [
    "## Some plots\n",
    "\n",
    "So what can we do with the table? Here's some random plots"
   ]
  },
  {
   "cell_type": "code",
   "execution_count": 21,
   "metadata": {},
   "outputs": [],
   "source": [
    "df_uzupis = df[\n",
    "    (df[\"subject_name_en\"] == \"Mathematics\") &\n",
    "    (df[\"student_class\"] == 12) &\n",
    "    (df[\"report_period\"] >= \"2018-01-01\") &\n",
    "    (df[\"report_period\"] <= \"2024-12-31\") &\n",
    "    (df[\"school_name\"].str.contains(\"Užupio\")) # My school\n",
    "]\n"
   ]
  },
  {
   "cell_type": "code",
   "execution_count": 22,
   "metadata": {},
   "outputs": [
    {
     "name": "stderr",
     "output_type": "stream",
     "text": [
      "/var/folders/q2/xtfjmccj47v4wbsjvxymw5b00000gp/T/ipykernel_63824/3687969839.py:1: SettingWithCopyWarning: \n",
      "A value is trying to be set on a copy of a slice from a DataFrame.\n",
      "Try using .loc[row_indexer,col_indexer] = value instead\n",
      "\n",
      "See the caveats in the documentation: https://pandas.pydata.org/pandas-docs/stable/user_guide/indexing.html#returning-a-view-versus-a-copy\n",
      "  df_uzupis[\"excused_illness_per_student\"] = df_uzupis[\"excused_lessons_illness\"] / df_uzupis[\"student_count_diary\"]\n",
      "/var/folders/q2/xtfjmccj47v4wbsjvxymw5b00000gp/T/ipykernel_63824/3687969839.py:2: SettingWithCopyWarning: \n",
      "A value is trying to be set on a copy of a slice from a DataFrame.\n",
      "Try using .loc[row_indexer,col_indexer] = value instead\n",
      "\n",
      "See the caveats in the documentation: https://pandas.pydata.org/pandas-docs/stable/user_guide/indexing.html#returning-a-view-versus-a-copy\n",
      "  df_uzupis[\"excused_other_per_student\"] = df_uzupis[\"excused_lessons_other\"] / df_uzupis[\"student_count_diary\"]\n",
      "/var/folders/q2/xtfjmccj47v4wbsjvxymw5b00000gp/T/ipykernel_63824/3687969839.py:3: SettingWithCopyWarning: \n",
      "A value is trying to be set on a copy of a slice from a DataFrame.\n",
      "Try using .loc[row_indexer,col_indexer] = value instead\n",
      "\n",
      "See the caveats in the documentation: https://pandas.pydata.org/pandas-docs/stable/user_guide/indexing.html#returning-a-view-versus-a-copy\n",
      "  df_uzupis[\"unexcused_per_student\"] = df_uzupis[\"unexcused_lessons\"] / df_uzupis[\"student_count_diary\"]\n"
     ]
    }
   ],
   "source": [
    "df_uzupis[\"excused_illness_per_student\"] = df_uzupis[\"excused_lessons_illness\"] / df_uzupis[\"student_count_diary\"]\n",
    "df_uzupis[\"excused_other_per_student\"] = df_uzupis[\"excused_lessons_other\"] / df_uzupis[\"student_count_diary\"]\n",
    "df_uzupis[\"unexcused_per_student\"] = df_uzupis[\"unexcused_lessons\"] / df_uzupis[\"student_count_diary\"]\n",
    "\n"
   ]
  },
  {
   "cell_type": "code",
   "execution_count": 27,
   "metadata": {},
   "outputs": [],
   "source": [
    "# We can get rid of the warnings above by using the following code (they will disappear if you run the code above again)\n",
    "import pandas as pd\n",
    "pd.options.mode.chained_assignment = None  # Suppress the SettingWithCopyWarning\n"
   ]
  },
  {
   "cell_type": "code",
   "execution_count": 28,
   "metadata": {},
   "outputs": [
    {
     "data": {
      "text/plain": [
       "<Axes: xlabel='report_period'>"
      ]
     },
     "execution_count": 28,
     "metadata": {},
     "output_type": "execute_result"
    },
    {
     "data": {
      "image/png": "[encoded data removed]",
      "text/plain": [
       "<Figure size 1000x500 with 1 Axes>"
      ]
     },
     "metadata": {},
     "output_type": "display_data"
    }
   ],
   "source": [
    "df_uzupis.sort_values(by=\"report_period\").plot.line(x=\"report_period\", y=\"excused_illness_per_student\", figsize=(10, 5))"
   ]
  },
  {
   "cell_type": "code",
   "execution_count": 29,
   "metadata": {},
   "outputs": [
    {
     "data": {
      "text/plain": [
       "<Axes: xlabel='report_period'>"
      ]
     },
     "execution_count": 29,
     "metadata": {},
     "output_type": "execute_result"
    },
    {
     "data": {
      "image/png": "[encoded data removed]",
      "text/plain": [
       "<Figure size 1000x500 with 1 Axes>"
      ]
     },
     "metadata": {},
     "output_type": "display_data"
    }
   ],
   "source": [
    "df_uzupis.sort_values(by=\"report_period\").plot.line(x=\"report_period\", y=\"excused_other_per_student\", figsize=(10, 5))\n"
   ]
  },
  {
   "cell_type": "code",
   "execution_count": 30,
   "metadata": {},
   "outputs": [
    {
     "data": {
      "text/plain": [
       "<Axes: xlabel='report_period'>"
      ]
     },
     "execution_count": 30,
     "metadata": {},
     "output_type": "execute_result"
    },
    {
     "data": {
      "image/png": "[encoded data removed]",
      "text/plain": [
       "<Figure size 1000x500 with 1 Axes>"
      ]
     },
     "metadata": {},
     "output_type": "display_data"
    }
   ],
   "source": [
    "df_uzupis.sort_values(by=\"report_period\").plot.line(x=\"report_period\", y=\"unexcused_per_student\", figsize=(10, 5))\n"
   ]
  },
  {
   "cell_type": "markdown",
   "metadata": {},
   "source": [
    "## Recap\n",
    "\n",
    "- While looking at the data (documentation and some random rows), make sure to identify what you are expecting of assuming of the table, and verify those assumptions.\n",
    "- We spent a lot of time on investigating data quality issues here. You do not need to be that extensive for the homework, just make sure that your data is clean given the questions that you want to answer.\n",
    "- We need to make sure that our primary keys are unique, otherwise we risk creating duplicates via many-to-many joins.\n"
   ]
  },
  {
   "cell_type": "code",
   "execution_count": null,
   "metadata": {},
   "outputs": [],
   "source": []
  }
 ],
 "metadata": {
  "kernelspec": {
   "display_name": ".venv",
   "language": "python",
   "name": "python3"
  },
  "language_info": {
   "codemirror_mode": {
    "name": "ipython",
    "version": 3
   },
   "file_extension": ".py",
   "mimetype": "text/x-python",
   "name": "python",
   "nbconvert_exporter": "python",
   "pygments_lexer": "ipython3",
   "version": "3.11.8"
  }
 },
 "nbformat": 4,
 "nbformat_minor": 2
}
